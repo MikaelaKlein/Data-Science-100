{
 "cells": [
  {
   "cell_type": "markdown",
   "metadata": {},
   "source": [
    "# Homework 2: Language in the 2016 Presidential Election\n",
    "Popular figures often have help managing their media presence.  In the 2016 election, Twitter was an important communication medium for every major candidate.  Many Twitter posts posted by the top two candidates were actually written by their aides.  You might wonder how this affected the content or language of the tweets.\n",
    "\n",
    "In this assignment, we'll look at some of the patterns in tweets by the top two candidates, Clinton and Trump.  We'll start with Clinton.\n",
    "\n",
    "Along the way, you'll get a first look at Pandas.  Pandas is a Python package that provides a `DataFrame` data structure similar to the `datascience` package's `Table`, which you might remember from Data 8.  `DataFrame`s are a bit harder to use than `Table`s, but they provide more advanced functionality and are a standard tool for data analysis in Python."
   ]
  },
  {
   "cell_type": "markdown",
   "metadata": {},
   "source": [
    "Some of the analysis in this assignment is based on a [post by David Robinson](http://varianceexplained.org/r/trump-tweets/).  Feel free to read the post, but do not copy from it!  David's post is written in the `R` programming language, which is a favorite of many data analysts, especially academic statisticians.  Once you're done with your analysis, you may find it interesting to see whether `R` is easier to use for this task."
   ]
  },
  {
   "cell_type": "markdown",
   "metadata": {},
   "source": [
    "To start the assignment, run the cell below to set up some imports and the automatic tests."
   ]
  },
  {
   "cell_type": "code",
   "execution_count": 13,
   "metadata": {
    "collapsed": false,
    "scrolled": true
   },
   "outputs": [
    {
     "name": "stdout",
     "output_type": "stream",
     "text": [
      "Requirement already up-to-date: okpy in /anaconda/envs/ds100/lib/python3.5/site-packages\n",
      "Requirement already up-to-date: requests==2.12.4 in /anaconda/envs/ds100/lib/python3.5/site-packages (from okpy)\n",
      "=====================================================================\n",
      "Assignment: Homework 2\n",
      "OK, version v1.10.1\n",
      "=====================================================================\n",
      "\n"
     ]
    }
   ],
   "source": [
    "import math\n",
    "import numpy as np\n",
    "import matplotlib\n",
    "%matplotlib inline\n",
    "import matplotlib.pyplot as plt\n",
    "\n",
    "!pip install -U okpy\n",
    "from client.api.notebook import Notebook\n",
    "ok = Notebook('hw2.ok')"
   ]
  },
  {
   "cell_type": "markdown",
   "metadata": {},
   "source": [
    "## Getting the dataset\n",
    "Since we'll be looking at Twitter data, we need to download the data from Twitter!\n",
    "\n",
    "Twitter provides an API for downloading tweet data in large batches.  The `tweepy` package makes it fairly easy to use."
   ]
  },
  {
   "cell_type": "markdown",
   "metadata": {},
   "source": [
    "#### Question 0\n",
    "Install `tweepy`, if you don't already have it.  (Be sure to activate your Conda environment for the class first.  Then run `pip install tweepy`.)"
   ]
  },
  {
   "cell_type": "markdown",
   "metadata": {},
   "source": [
    "There are instructions on using `tweepy` [here](http://tweepy.readthedocs.io/en/v3.5.0/getting_started.html), but we will give you example code.\n",
    "\n",
    "Twitter requires you to have authentication keys to access their API.  To get your keys, you'll have to sign up as a Twitter developer."
   ]
  },
  {
   "cell_type": "markdown",
   "metadata": {},
   "source": [
    "#### Question 1\n",
    "Follow these instructions to get your keys:\n",
    "\n",
    "1. [Create a Twitter account](https://twitter.com).  You can use an existing account if you have one.\n",
    "2. Under account settings, add your phone number to the account.\n",
    "3. [Create a Twitter developer account](https://dev.twitter.com/resources/signup).  Attach it to your Twitter account.\n",
    "4. Once you're logged into your developer account, [create an application for this assignment](https://apps.twitter.com/app/new).  You can call it whatever you want, and you can write any URL when it asks for a web site.\n",
    "5. On the page for that application, find your Consumer Key and Consumer Secret.\n",
    "6. On the same page, create an Access Token.  Record the resulting Access Token and Access Token Secret.\n",
    "7. Edit the file [keys.json](keys.json) and replace the placeholders with your keys.  Don't turn in that file."
   ]
  },
  {
   "cell_type": "markdown",
   "metadata": {},
   "source": [
    "## I AM AN IMPORTANT NOTE.  DO NOT SKIP ME.\n",
    "If someone has your authentication keys, they can access your Twitter account and post as you!  So don't give them to anyone, and **don't write them down in this notebook**.  The usual way to store sensitive information like this is to put it in a separate file and read it programmatically.  That way, you can share the rest of your code without sharing your keys.  That's why we're asking you to put your keys in `keys.json` for this assignment.\n",
    "\n",
    "## I AM A SECOND IMPORTANT NOTE.\n",
    "Twitter limits developers to a certain rate of requests for data.  If you make too many requests in a short period of time, you'll have to wait awhile (around 15 minutes) before you can make more.  So carefully follow the code examples you see and don't rerun cells without thinking.  Instead, always save the data you've collected to a file.  We've provided templates to help you do that."
   ]
  },
  {
   "cell_type": "markdown",
   "metadata": {},
   "source": [
    "In the example below, we have loaded some tweets by @BerkeleyData.  Run it, inspect the output, and read the code."
   ]
  },
  {
   "cell_type": "code",
   "execution_count": 2,
   "metadata": {
    "collapsed": false
   },
   "outputs": [],
   "source": [
    "ds_tweets_save_path = \"BerkeleyData_recent_tweets.pkl\"\n",
    "from pathlib import Path\n",
    "# Guarding against attempts to download the data multiple\n",
    "# times:\n",
    "if not Path(ds_tweets_save_path).is_file():\n",
    "    import json\n",
    "    # Loading your keys from keys.json (which you should have filled\n",
    "    # in in question 1):\n",
    "    with open(\"keys.json\") as f:\n",
    "        keys = json.load(f)\n",
    "\n",
    "    import tweepy\n",
    "\n",
    "    # Authenticating:\n",
    "    auth = tweepy.OAuthHandler(keys[\"consumer_key\"], keys[\"consumer_secret\"])\n",
    "    auth.set_access_token(keys[\"access_token\"], keys[\"access_token_secret\"])\n",
    "    api = tweepy.API(auth)\n",
    "\n",
    "    # Getting as many recent tweets by @BerkeleyData as Twitter will let us have:\n",
    "    example_tweets = list(tweepy.Cursor(api.user_timeline, id=\"BerkeleyData\").items())\n",
    "\n",
    "    # Saving the tweets to a file as \"pickled\" objects:\n",
    "    with open(ds_tweets_save_path, \"wb\") as f:\n",
    "        import pickle\n",
    "        pickle.dump(example_tweets, f)\n",
    "\n",
    "# Re-loading the results:\n",
    "with open(ds_tweets_save_path, \"rb\") as f:\n",
    "    import pickle\n",
    "    example_tweets = pickle.load(f)"
   ]
  },
  {
   "cell_type": "code",
   "execution_count": 4,
   "metadata": {
    "collapsed": false
   },
   "outputs": [
    {
     "name": "stdout",
     "output_type": "stream",
     "text": [
      "{'_json': {'contributors': None,\n",
      "           'coordinates': None,\n",
      "           'created_at': 'Wed Jan 25 17:21:33 +0000 2017',\n",
      "           'entities': {'hashtags': [],\n",
      "                        'symbols': [],\n",
      "                        'urls': [{'display_url': 'bit.ly/2k3WSFn',\n",
      "                                  'expanded_url': 'http://bit.ly/2k3WSFn',\n",
      "                                  'indices': [62, 85],\n",
      "                                  'url': 'https://t.co/N0iKHdoBsd'}],\n",
      "                        'user_mentions': []},\n",
      "           'favorite_count': 0,\n",
      "           'favorited': False,\n",
      "           'geo': None,\n",
      "           'id': 824306223105216512,\n",
      "           'id_str': '824306223105216512',\n",
      "           'in_reply_to_screen_name': None,\n",
      "           'in_reply_to_status_id': None,\n",
      "           'in_reply_to_status_id_str': None,\n",
      "           'in_reply_to_user_id': None,\n",
      "           'in_reply_to_user_id_str': None,\n",
      "           'is_quote_status': False,\n",
      "           'lang': 'en',\n",
      "           'place': None,\n",
      "           'possibly_sensitive': False,\n",
      "           'retweet_count': 4,\n",
      "           'retweeted': False,\n",
      "           'source': '<a href=\"http://twitter.com\" rel=\"nofollow\">Twitter Web '\n",
      "                     'Client</a>',\n",
      "           'text': 'Demand, Salaries Grow for Data Scientists. Read full '\n",
      "                   'article: https://t.co/N0iKHdoBsd',\n",
      "           'truncated': False,\n",
      "           'user': {'contributors_enabled': False,\n",
      "                    'created_at': 'Thu Feb 28 14:37:26 +0000 2013',\n",
      "                    'default_profile': False,\n",
      "                    'default_profile_image': False,\n",
      "                    'description': 'An online Master of Information and Data '\n",
      "                                   'Science (MIDS) degree from the UC Berkeley '\n",
      "                                   'School of Information. Learn more at: '\n",
      "                                   'http://t.co/zf6gfBWovQ',\n",
      "                    'entities': {'description': {'urls': [{'display_url': 'bit.ly/tBerkeleyData',\n",
      "                                                           'expanded_url': 'http://bit.ly/tBerkeleyData',\n",
      "                                                           'indices': [122,\n",
      "                                                                       144],\n",
      "                                                           'url': 'http://t.co/zf6gfBWovQ'}]},\n",
      "                                 'url': {'urls': [{'display_url': 'datascience.berkeley.edu',\n",
      "                                                   'expanded_url': 'http://datascience.berkeley.edu',\n",
      "                                                   'indices': [0, 22],\n",
      "                                                   'url': 'http://t.co/S79Ul3oCaa'}]}},\n",
      "                    'favourites_count': 41,\n",
      "                    'follow_request_sent': False,\n",
      "                    'followers_count': 9079,\n",
      "                    'following': False,\n",
      "                    'friends_count': 403,\n",
      "                    'geo_enabled': False,\n",
      "                    'has_extended_profile': False,\n",
      "                    'id': 1227698863,\n",
      "                    'id_str': '1227698863',\n",
      "                    'is_translation_enabled': False,\n",
      "                    'is_translator': False,\n",
      "                    'lang': 'en',\n",
      "                    'listed_count': 438,\n",
      "                    'location': 'Berkeley, CA',\n",
      "                    'name': 'datascience@berkeley',\n",
      "                    'notifications': False,\n",
      "                    'profile_background_color': 'CCCCCC',\n",
      "                    'profile_background_image_url': 'http://pbs.twimg.com/profile_background_images/378800000096571211/5f9ba86a5d2b87c2c48544133c25b092.jpeg',\n",
      "                    'profile_background_image_url_https': 'https://pbs.twimg.com/profile_background_images/378800000096571211/5f9ba86a5d2b87c2c48544133c25b092.jpeg',\n",
      "                    'profile_background_tile': False,\n",
      "                    'profile_banner_url': 'https://pbs.twimg.com/profile_banners/1227698863/1405953823',\n",
      "                    'profile_image_url': 'http://pbs.twimg.com/profile_images/378800000146514422/6d9a5af0a0abb83d4cfe2d0ab2067ecb_normal.jpeg',\n",
      "                    'profile_image_url_https': 'https://pbs.twimg.com/profile_images/378800000146514422/6d9a5af0a0abb83d4cfe2d0ab2067ecb_normal.jpeg',\n",
      "                    'profile_link_color': '5173B6',\n",
      "                    'profile_sidebar_border_color': 'FFFFFF',\n",
      "                    'profile_sidebar_fill_color': 'DDEEF6',\n",
      "                    'profile_text_color': '333333',\n",
      "                    'profile_use_background_image': True,\n",
      "                    'protected': False,\n",
      "                    'screen_name': 'BerkeleyData',\n",
      "                    'statuses_count': 2148,\n",
      "                    'time_zone': 'Eastern Time (US & Canada)',\n",
      "                    'translator_type': 'none',\n",
      "                    'url': 'http://t.co/S79Ul3oCaa',\n",
      "                    'utc_offset': -18000,\n",
      "                    'verified': False}},\n",
      " 'author': User(profile_sidebar_fill_color='DDEEF6', name='datascience@berkeley', profile_link_color='5173B6', profile_background_image_url_https='https://pbs.twimg.com/profile_background_images/378800000096571211/5f9ba86a5d2b87c2c48544133c25b092.jpeg', profile_image_url_https='https://pbs.twimg.com/profile_images/378800000146514422/6d9a5af0a0abb83d4cfe2d0ab2067ecb_normal.jpeg', profile_text_color='333333', lang='en', profile_banner_url='https://pbs.twimg.com/profile_banners/1227698863/1405953823', time_zone='Eastern Time (US & Canada)', translator_type='none', screen_name='BerkeleyData', profile_sidebar_border_color='FFFFFF', utc_offset=-18000, statuses_count=2148, profile_background_image_url='http://pbs.twimg.com/profile_background_images/378800000096571211/5f9ba86a5d2b87c2c48544133c25b092.jpeg', notifications=False, has_extended_profile=False, profile_background_tile=False, is_translation_enabled=False, favourites_count=41, default_profile=False, is_translator=False, geo_enabled=False, default_profile_image=False, follow_request_sent=False, protected=False, profile_background_color='CCCCCC', entities={'url': {'urls': [{'display_url': 'datascience.berkeley.edu', 'expanded_url': 'http://datascience.berkeley.edu', 'url': 'http://t.co/S79Ul3oCaa', 'indices': [0, 22]}]}, 'description': {'urls': [{'display_url': 'bit.ly/tBerkeleyData', 'expanded_url': 'http://bit.ly/tBerkeleyData', 'url': 'http://t.co/zf6gfBWovQ', 'indices': [122, 144]}]}}, id=1227698863, created_at=datetime.datetime(2013, 2, 28, 14, 37, 26), profile_image_url='http://pbs.twimg.com/profile_images/378800000146514422/6d9a5af0a0abb83d4cfe2d0ab2067ecb_normal.jpeg', verified=False, profile_use_background_image=True, description='An online Master of Information and Data Science (MIDS) degree from the UC Berkeley School of Information. Learn more at: http://t.co/zf6gfBWovQ', listed_count=438, _json={'profile_image_url_https': 'https://pbs.twimg.com/profile_images/378800000146514422/6d9a5af0a0abb83d4cfe2d0ab2067ecb_normal.jpeg', 'screen_name': 'BerkeleyData', 'profile_image_url': 'http://pbs.twimg.com/profile_images/378800000146514422/6d9a5af0a0abb83d4cfe2d0ab2067ecb_normal.jpeg', 'profile_background_image_url_https': 'https://pbs.twimg.com/profile_background_images/378800000096571211/5f9ba86a5d2b87c2c48544133c25b092.jpeg', 'profile_sidebar_fill_color': 'DDEEF6', 'profile_text_color': '333333', 'url': 'http://t.co/S79Ul3oCaa', 'time_zone': 'Eastern Time (US & Canada)', 'translator_type': 'none', 'profile_background_color': 'CCCCCC', 'notifications': False, 'name': 'datascience@berkeley', 'id_str': '1227698863', 'follow_request_sent': False, 'profile_background_image_url': 'http://pbs.twimg.com/profile_background_images/378800000096571211/5f9ba86a5d2b87c2c48544133c25b092.jpeg', 'profile_sidebar_border_color': 'FFFFFF', 'profile_banner_url': 'https://pbs.twimg.com/profile_banners/1227698863/1405953823', 'profile_background_tile': False, 'is_translation_enabled': False, 'favourites_count': 41, 'default_profile': False, 'is_translator': False, 'geo_enabled': False, 'default_profile_image': False, 'statuses_count': 2148, 'protected': False, 'entities': {'url': {'urls': [{'display_url': 'datascience.berkeley.edu', 'expanded_url': 'http://datascience.berkeley.edu', 'url': 'http://t.co/S79Ul3oCaa', 'indices': [0, 22]}]}, 'description': {'urls': [{'display_url': 'bit.ly/tBerkeleyData', 'expanded_url': 'http://bit.ly/tBerkeleyData', 'url': 'http://t.co/zf6gfBWovQ', 'indices': [122, 144]}]}}, 'id': 1227698863, 'created_at': 'Thu Feb 28 14:37:26 +0000 2013', 'profile_link_color': '5173B6', 'utc_offset': -18000, 'profile_use_background_image': True, 'contributors_enabled': False, 'listed_count': 438, 'verified': False, 'location': 'Berkeley, CA', 'following': False, 'lang': 'en', 'has_extended_profile': False, 'followers_count': 9079, 'friends_count': 403, 'description': 'An online Master of Information and Data Science (MIDS) degree from the UC Berkeley School of Information. Learn more at: http://t.co/zf6gfBWovQ'}, id_str='1227698863', location='Berkeley, CA', following=False, url='http://t.co/S79Ul3oCaa', followers_count=9079, friends_count=403, contributors_enabled=False),\n",
      " 'contributors': None,\n",
      " 'coordinates': None,\n",
      " 'created_at': datetime.datetime(2017, 1, 25, 17, 21, 33),\n",
      " 'entities': {'hashtags': [],\n",
      "              'symbols': [],\n",
      "              'urls': [{'display_url': 'bit.ly/2k3WSFn',\n",
      "                        'expanded_url': 'http://bit.ly/2k3WSFn',\n",
      "                        'indices': [62, 85],\n",
      "                        'url': 'https://t.co/N0iKHdoBsd'}],\n",
      "              'user_mentions': []},\n",
      " 'favorite_count': 0,\n",
      " 'favorited': False,\n",
      " 'geo': None,\n",
      " 'id': 824306223105216512,\n",
      " 'id_str': '824306223105216512',\n",
      " 'in_reply_to_screen_name': None,\n",
      " 'in_reply_to_status_id': None,\n",
      " 'in_reply_to_status_id_str': None,\n",
      " 'in_reply_to_user_id': None,\n",
      " 'in_reply_to_user_id_str': None,\n",
      " 'is_quote_status': False,\n",
      " 'lang': 'en',\n",
      " 'place': None,\n",
      " 'possibly_sensitive': False,\n",
      " 'retweet_count': 4,\n",
      " 'retweeted': False,\n",
      " 'source': 'Twitter Web Client',\n",
      " 'source_url': 'http://twitter.com',\n",
      " 'text': 'Demand, Salaries Grow for Data Scientists. Read full article: '\n",
      "         'https://t.co/N0iKHdoBsd',\n",
      " 'truncated': False,\n",
      " 'user': User(profile_sidebar_fill_color='DDEEF6', name='datascience@berkeley', profile_link_color='5173B6', profile_background_image_url_https='https://pbs.twimg.com/profile_background_images/378800000096571211/5f9ba86a5d2b87c2c48544133c25b092.jpeg', profile_image_url_https='https://pbs.twimg.com/profile_images/378800000146514422/6d9a5af0a0abb83d4cfe2d0ab2067ecb_normal.jpeg', profile_text_color='333333', lang='en', profile_banner_url='https://pbs.twimg.com/profile_banners/1227698863/1405953823', time_zone='Eastern Time (US & Canada)', translator_type='none', screen_name='BerkeleyData', profile_sidebar_border_color='FFFFFF', utc_offset=-18000, statuses_count=2148, profile_background_image_url='http://pbs.twimg.com/profile_background_images/378800000096571211/5f9ba86a5d2b87c2c48544133c25b092.jpeg', notifications=False, has_extended_profile=False, profile_background_tile=False, is_translation_enabled=False, favourites_count=41, default_profile=False, is_translator=False, geo_enabled=False, default_profile_image=False, follow_request_sent=False, protected=False, profile_background_color='CCCCCC', entities={'url': {'urls': [{'display_url': 'datascience.berkeley.edu', 'expanded_url': 'http://datascience.berkeley.edu', 'url': 'http://t.co/S79Ul3oCaa', 'indices': [0, 22]}]}, 'description': {'urls': [{'display_url': 'bit.ly/tBerkeleyData', 'expanded_url': 'http://bit.ly/tBerkeleyData', 'url': 'http://t.co/zf6gfBWovQ', 'indices': [122, 144]}]}}, id=1227698863, created_at=datetime.datetime(2013, 2, 28, 14, 37, 26), profile_image_url='http://pbs.twimg.com/profile_images/378800000146514422/6d9a5af0a0abb83d4cfe2d0ab2067ecb_normal.jpeg', verified=False, profile_use_background_image=True, description='An online Master of Information and Data Science (MIDS) degree from the UC Berkeley School of Information. Learn more at: http://t.co/zf6gfBWovQ', listed_count=438, _json={'profile_image_url_https': 'https://pbs.twimg.com/profile_images/378800000146514422/6d9a5af0a0abb83d4cfe2d0ab2067ecb_normal.jpeg', 'screen_name': 'BerkeleyData', 'profile_image_url': 'http://pbs.twimg.com/profile_images/378800000146514422/6d9a5af0a0abb83d4cfe2d0ab2067ecb_normal.jpeg', 'profile_background_image_url_https': 'https://pbs.twimg.com/profile_background_images/378800000096571211/5f9ba86a5d2b87c2c48544133c25b092.jpeg', 'profile_sidebar_fill_color': 'DDEEF6', 'profile_text_color': '333333', 'url': 'http://t.co/S79Ul3oCaa', 'time_zone': 'Eastern Time (US & Canada)', 'translator_type': 'none', 'profile_background_color': 'CCCCCC', 'notifications': False, 'name': 'datascience@berkeley', 'id_str': '1227698863', 'follow_request_sent': False, 'profile_background_image_url': 'http://pbs.twimg.com/profile_background_images/378800000096571211/5f9ba86a5d2b87c2c48544133c25b092.jpeg', 'profile_sidebar_border_color': 'FFFFFF', 'profile_banner_url': 'https://pbs.twimg.com/profile_banners/1227698863/1405953823', 'profile_background_tile': False, 'is_translation_enabled': False, 'favourites_count': 41, 'default_profile': False, 'is_translator': False, 'geo_enabled': False, 'default_profile_image': False, 'statuses_count': 2148, 'protected': False, 'entities': {'url': {'urls': [{'display_url': 'datascience.berkeley.edu', 'expanded_url': 'http://datascience.berkeley.edu', 'url': 'http://t.co/S79Ul3oCaa', 'indices': [0, 22]}]}, 'description': {'urls': [{'display_url': 'bit.ly/tBerkeleyData', 'expanded_url': 'http://bit.ly/tBerkeleyData', 'url': 'http://t.co/zf6gfBWovQ', 'indices': [122, 144]}]}}, 'id': 1227698863, 'created_at': 'Thu Feb 28 14:37:26 +0000 2013', 'profile_link_color': '5173B6', 'utc_offset': -18000, 'profile_use_background_image': True, 'contributors_enabled': False, 'listed_count': 438, 'verified': False, 'location': 'Berkeley, CA', 'following': False, 'lang': 'en', 'has_extended_profile': False, 'followers_count': 9079, 'friends_count': 403, 'description': 'An online Master of Information and Data Science (MIDS) degree from the UC Berkeley School of Information. Learn more at: http://t.co/zf6gfBWovQ'}, id_str='1227698863', location='Berkeley, CA', following=False, url='http://t.co/S79Ul3oCaa', followers_count=9079, friends_count=403, contributors_enabled=False)}\n"
     ]
    }
   ],
   "source": [
    "# Looking at one tweet object, which has type Status:\n",
    "example_tweets[0]\n",
    "# You can try something like this:\n",
    "import pprint; pprint.pprint(vars(example_tweets[0]))\n",
    "# ...to get a more easily-readable view."
   ]
  },
  {
   "cell_type": "markdown",
   "metadata": {},
   "source": [
    "#### Question 2\n",
    "Write code to download all the recent tweets by Hillary Clinton (@HillaryClinton).  Follow our example code if you wish.  Write your code in the form of four **functions** matching the documentation provided.  (You may define additional functions as helpers.)  **Once you've written your functions,** you can run the subsequent cell to download the tweets."
   ]
  },
  {
   "cell_type": "code",
   "execution_count": 8,
   "metadata": {
    "collapsed": false,
    "for_assignment_type": "student"
   },
   "outputs": [],
   "source": [
    "def load_keys(path):\n",
    "    \"\"\"Loads your Twitter authentication keys from a file on disk.\n",
    "    \n",
    "    Args:\n",
    "        path (str): The path to your key file.  The file should\n",
    "          be in JSON format and look like this (but filled in):\n",
    "            {\n",
    "                \"consumer_key\": \"<your Consumer Key here>\",\n",
    "                \"consumer_secret\":  \"<your Consumer Secret here>\",\n",
    "                \"access_token\": \"<your Access Token here>\",\n",
    "                \"access_token_secret\": \"<your Access Token Secret here>\"\n",
    "            }\n",
    "    \n",
    "    Returns:\n",
    "        dict: A dictionary mapping key names (like \"consumer_key\") to\n",
    "          key values.\"\"\"\n",
    "    import json\n",
    "    with open(path) as f:\n",
    "        keys = json.load(f)\n",
    "    dict1 = {\"consumer_key\": keys[\"consumer_key\"], \"consumer_secret\": keys[\"consumer_secret\"],\\\n",
    "            \"access_token\": keys[\"access_token\"], \"access_token_secret\": keys[\"access_token_secret\"]}  \n",
    "    \n",
    "    return dict1\n",
    "\n",
    "def download_recent_tweets_by_user(user_account_name, keys):\n",
    "    \"\"\"Downloads tweets by one Twitter user.\n",
    "\n",
    "    Args:\n",
    "        user_account_name (str): The name of the Twitter account\n",
    "          whose tweets will be downloaded.\n",
    "        keys (dict): A Python dictionary with Twitter authentication\n",
    "          keys (strings), like this (but filled in):\n",
    "            {\n",
    "                \"consumer_key\": \"<your Consumer Key here>\",\n",
    "                \"consumer_secret\":  \"<your Consumer Secret here>\",\n",
    "                \"access_token\": \"<your Access Token here>\",\n",
    "                \"access_token_secret\": \"<your Access Token Secret here>\"\n",
    "            }\n",
    "\n",
    "    Returns:\n",
    "        list: A list of Status objects, each representing one tweet.\"\"\"\n",
    "    \n",
    "    auth = tweepy.OAuthHandler(keys[\"consumer_key\"], keys[\"consumer_secret\"])\n",
    "    auth.set_access_token(keys[\"access_token\"], keys[\"access_token_secret\"])\n",
    "    api = tweepy.API(auth)\n",
    "    example_tweets = list(tweepy.Cursor(api.user_timeline, id=user_account_name).items())\n",
    "    return example_tweets\n",
    "\n",
    "def save_tweets(tweets, path):\n",
    "    \"\"\"Saves a list of tweets to a file in the local filesystem.\n",
    "    \n",
    "    This function makes no guarantee about the format of the saved\n",
    "    tweets, **except** that calling load_tweets(path) after\n",
    "    save_tweets(tweets, path) will produce the same list of tweets\n",
    "    and that only the file at the given path is used to store the\n",
    "    tweets.  (That means you can implement this function however\n",
    "    you want, as long as saving and loading works!)\n",
    "\n",
    "    Args:\n",
    "        tweets (list): A list of tweet objects (of type Status) to\n",
    "          be saved.\n",
    "        path (str): The place where the tweets will be saved.\n",
    "\n",
    "    Returns:\n",
    "        None\"\"\"\n",
    "    \n",
    "    with open(path, \"wb\") as f:\n",
    "        import pickle\n",
    "        pickle.dump(tweets, f)\n",
    "    \n",
    "def load_tweets(path):\n",
    "    \"\"\"Loads tweets that have previously been saved.\n",
    "    \n",
    "    Calling load_tweets(path) after save_tweets(tweets, path)\n",
    "    will produce the same list of tweets.\n",
    "    \n",
    "    Args:\n",
    "        path (str): The place where the tweets were be saved.\n",
    "\n",
    "    Returns:\n",
    "        list: A list of Status objects, each representing one tweet.\"\"\"\n",
    "    with open(path, \"rb\") as f:\n",
    "        import pickle\n",
    "        example_tweets = pickle.load(f)\n",
    "    return example_tweets"
   ]
  },
  {
   "cell_type": "code",
   "execution_count": 9,
   "metadata": {
    "collapsed": true
   },
   "outputs": [],
   "source": [
    "# When you are done, run this cell to load @HillaryClinton's tweets.\n",
    "# Note the function get_tweets_with_cache.  You may find it useful\n",
    "# later.\n",
    "\n",
    "def get_tweets_with_cache(user_account_name, keys_path):\n",
    "    \"\"\"Get recent tweets from one user, loading from a disk cache if available.\n",
    "    \n",
    "    The first time you call this function, it will download tweets by\n",
    "    a user.  Subsequent calls will not re-download the tweets; instead\n",
    "    they'll load the tweets from a save file in your local filesystem.\n",
    "    All this is done using the functions you defined in the previous cell.\n",
    "    This has benefits and drawbacks that often appear when you cache data:\n",
    "    \n",
    "    +: Using this function will prevent extraneous usage of the Twitter API.\n",
    "    +: You will get your data much faster after the first time it's called.\n",
    "    -: If you really want to re-download the tweets (say, to get newer ones,\n",
    "       or because you screwed up something in the previous cell and your\n",
    "       tweets aren't what you wanted), you'll have to find the save file\n",
    "       (which will look like <something>_recent_tweets.pkl) and delete it.\n",
    "    \n",
    "    Args:\n",
    "        user_account_name (str): The Twitter handle of a user, without the @.\n",
    "        keys_path (str): The path to a JSON keys file in your filesystem.\n",
    "    \"\"\"\n",
    "    save_path = \"{}_recent_tweets.pkl\".format(user_account_name)\n",
    "    from pathlib import Path\n",
    "    if not Path(save_path).is_file():\n",
    "        keys = load_keys(keys_path)\n",
    "        tweets = download_recent_tweets_by_user(user_account_name, keys)\n",
    "        save_tweets(tweets, save_path)\n",
    "    return load_tweets(save_path)"
   ]
  },
  {
   "cell_type": "code",
   "execution_count": 10,
   "metadata": {
    "collapsed": true
   },
   "outputs": [],
   "source": [
    "clinton_tweets = get_tweets_with_cache(\"HillaryClinton\", \"keys.json\")"
   ]
  },
  {
   "cell_type": "code",
   "execution_count": 14,
   "metadata": {
    "collapsed": false,
    "scrolled": true
   },
   "outputs": [
    {
     "name": "stdout",
     "output_type": "stream",
     "text": [
      "3217\n"
     ]
    },
    {
     "data": {
      "text/plain": [
       "Status(is_quote_status=True, user=User(profile_background_image_url='http://abs.twimg.com/images/themes/theme1/bg.png', url='https://t.co/xhPHAcdCwE', profile_background_tile=False, geo_enabled=True, profile_sidebar_fill_color='000000', screen_name='HillaryClinton', id_str='1339835893', followers_count=12651798, contributors_enabled=False, profile_background_color='0057B8', profile_use_background_image=False, created_at=datetime.datetime(2013, 4, 9, 18, 4, 35), following=False, lang='en', name='Hillary Clinton', has_extended_profile=True, listed_count=36106, description='Wife, mom, grandma, women+kids advocate, FLOTUS, Senator, SecState, hair icon, pantsuit aficionado, 2016 presidential candidate.', time_zone='Eastern Time (US & Canada)', profile_text_color='000000', default_profile_image=False, notifications=False, profile_link_color='0057B8', location='New York, NY', friends_count=759, protected=False, is_translation_enabled=False, is_translator=False, profile_image_url='http://pbs.twimg.com/profile_images/796243884636512260/zHVoWqKV_normal.jpg', profile_background_image_url_https='https://abs.twimg.com/images/themes/theme1/bg.png', translator_type='none', id=1339835893, profile_sidebar_border_color='000000', utc_offset=-18000, default_profile=False, statuses_count=9807, profile_banner_url='https://pbs.twimg.com/profile_banners/1339835893/1476893928', verified=True, _json={'utc_offset': -18000, 'contributors_enabled': False, 'profile_background_tile': False, 'notifications': False, 'profile_sidebar_fill_color': '000000', 'screen_name': 'HillaryClinton', 'id_str': '1339835893', 'followers_count': 12651798, 'url': 'https://t.co/xhPHAcdCwE', 'profile_background_color': '0057B8', 'lang': 'en', 'profile_use_background_image': False, 'listed_count': 36106, 'created_at': 'Tue Apr 09 18:04:35 +0000 2013', 'following': False, 'profile_background_image_url': 'http://abs.twimg.com/images/themes/theme1/bg.png', 'default_profile_image': False, 'is_translator': False, 'default_profile': False, 'has_extended_profile': True, 'time_zone': 'Eastern Time (US & Canada)', 'profile_text_color': '000000', 'name': 'Hillary Clinton', 'geo_enabled': True, 'profile_link_color': '0057B8', 'description': 'Wife, mom, grandma, women+kids advocate, FLOTUS, Senator, SecState, hair icon, pantsuit aficionado, 2016 presidential candidate.', 'protected': False, 'is_translation_enabled': False, 'profile_image_url': 'http://pbs.twimg.com/profile_images/796243884636512260/zHVoWqKV_normal.jpg', 'profile_background_image_url_https': 'https://abs.twimg.com/images/themes/theme1/bg.png', 'translator_type': 'none', 'id': 1339835893, 'profile_sidebar_border_color': '000000', 'location': 'New York, NY', 'statuses_count': 9807, 'profile_banner_url': 'https://pbs.twimg.com/profile_banners/1339835893/1476893928', 'verified': True, 'friends_count': 759, 'follow_request_sent': False, 'favourites_count': 1179, 'profile_image_url_https': 'https://pbs.twimg.com/profile_images/796243884636512260/zHVoWqKV_normal.jpg', 'entities': {'description': {'urls': []}, 'url': {'urls': [{'indices': [0, 23], 'expanded_url': 'http://HillaryClinton.com', 'url': 'https://t.co/xhPHAcdCwE', 'display_url': 'HillaryClinton.com'}]}}}, follow_request_sent=False, favourites_count=1179, profile_image_url_https='https://pbs.twimg.com/profile_images/796243884636512260/zHVoWqKV_normal.jpg', entities={'description': {'urls': []}, 'url': {'urls': [{'indices': [0, 23], 'expanded_url': 'http://HillaryClinton.com', 'url': 'https://t.co/xhPHAcdCwE', 'display_url': 'HillaryClinton.com'}]}}), author=User(profile_background_image_url='http://abs.twimg.com/images/themes/theme1/bg.png', url='https://t.co/xhPHAcdCwE', profile_background_tile=False, geo_enabled=True, profile_sidebar_fill_color='000000', screen_name='HillaryClinton', id_str='1339835893', followers_count=12651798, contributors_enabled=False, profile_background_color='0057B8', profile_use_background_image=False, created_at=datetime.datetime(2013, 4, 9, 18, 4, 35), following=False, lang='en', name='Hillary Clinton', has_extended_profile=True, listed_count=36106, description='Wife, mom, grandma, women+kids advocate, FLOTUS, Senator, SecState, hair icon, pantsuit aficionado, 2016 presidential candidate.', time_zone='Eastern Time (US & Canada)', profile_text_color='000000', default_profile_image=False, notifications=False, profile_link_color='0057B8', location='New York, NY', friends_count=759, protected=False, is_translation_enabled=False, is_translator=False, profile_image_url='http://pbs.twimg.com/profile_images/796243884636512260/zHVoWqKV_normal.jpg', profile_background_image_url_https='https://abs.twimg.com/images/themes/theme1/bg.png', translator_type='none', id=1339835893, profile_sidebar_border_color='000000', utc_offset=-18000, default_profile=False, statuses_count=9807, profile_banner_url='https://pbs.twimg.com/profile_banners/1339835893/1476893928', verified=True, _json={'utc_offset': -18000, 'contributors_enabled': False, 'profile_background_tile': False, 'notifications': False, 'profile_sidebar_fill_color': '000000', 'screen_name': 'HillaryClinton', 'id_str': '1339835893', 'followers_count': 12651798, 'url': 'https://t.co/xhPHAcdCwE', 'profile_background_color': '0057B8', 'lang': 'en', 'profile_use_background_image': False, 'listed_count': 36106, 'created_at': 'Tue Apr 09 18:04:35 +0000 2013', 'following': False, 'profile_background_image_url': 'http://abs.twimg.com/images/themes/theme1/bg.png', 'default_profile_image': False, 'is_translator': False, 'default_profile': False, 'has_extended_profile': True, 'time_zone': 'Eastern Time (US & Canada)', 'profile_text_color': '000000', 'name': 'Hillary Clinton', 'geo_enabled': True, 'profile_link_color': '0057B8', 'description': 'Wife, mom, grandma, women+kids advocate, FLOTUS, Senator, SecState, hair icon, pantsuit aficionado, 2016 presidential candidate.', 'protected': False, 'is_translation_enabled': False, 'profile_image_url': 'http://pbs.twimg.com/profile_images/796243884636512260/zHVoWqKV_normal.jpg', 'profile_background_image_url_https': 'https://abs.twimg.com/images/themes/theme1/bg.png', 'translator_type': 'none', 'id': 1339835893, 'profile_sidebar_border_color': '000000', 'location': 'New York, NY', 'statuses_count': 9807, 'profile_banner_url': 'https://pbs.twimg.com/profile_banners/1339835893/1476893928', 'verified': True, 'friends_count': 759, 'follow_request_sent': False, 'favourites_count': 1179, 'profile_image_url_https': 'https://pbs.twimg.com/profile_images/796243884636512260/zHVoWqKV_normal.jpg', 'entities': {'description': {'urls': []}, 'url': {'urls': [{'indices': [0, 23], 'expanded_url': 'http://HillaryClinton.com', 'url': 'https://t.co/xhPHAcdCwE', 'display_url': 'HillaryClinton.com'}]}}}, follow_request_sent=False, favourites_count=1179, profile_image_url_https='https://pbs.twimg.com/profile_images/796243884636512260/zHVoWqKV_normal.jpg', entities={'description': {'urls': []}, 'url': {'urls': [{'indices': [0, 23], 'expanded_url': 'http://HillaryClinton.com', 'url': 'https://t.co/xhPHAcdCwE', 'display_url': 'HillaryClinton.com'}]}}), id_str='823324426301243402', retweeted=False, contributors=None, in_reply_to_user_id_str=None, source='Twitter for iPhone', place=None, created_at=datetime.datetime(2017, 1, 23, 0, 20, 14), _json={'is_quote_status': True, 'user': {'utc_offset': -18000, 'contributors_enabled': False, 'profile_background_tile': False, 'notifications': False, 'profile_sidebar_fill_color': '000000', 'screen_name': 'HillaryClinton', 'id_str': '1339835893', 'followers_count': 12651798, 'url': 'https://t.co/xhPHAcdCwE', 'profile_background_color': '0057B8', 'lang': 'en', 'profile_use_background_image': False, 'listed_count': 36106, 'created_at': 'Tue Apr 09 18:04:35 +0000 2013', 'following': False, 'profile_background_image_url': 'http://abs.twimg.com/images/themes/theme1/bg.png', 'default_profile_image': False, 'is_translator': False, 'default_profile': False, 'has_extended_profile': True, 'time_zone': 'Eastern Time (US & Canada)', 'profile_text_color': '000000', 'name': 'Hillary Clinton', 'geo_enabled': True, 'profile_link_color': '0057B8', 'description': 'Wife, mom, grandma, women+kids advocate, FLOTUS, Senator, SecState, hair icon, pantsuit aficionado, 2016 presidential candidate.', 'protected': False, 'is_translation_enabled': False, 'profile_image_url': 'http://pbs.twimg.com/profile_images/796243884636512260/zHVoWqKV_normal.jpg', 'profile_background_image_url_https': 'https://abs.twimg.com/images/themes/theme1/bg.png', 'translator_type': 'none', 'id': 1339835893, 'profile_sidebar_border_color': '000000', 'location': 'New York, NY', 'statuses_count': 9807, 'profile_banner_url': 'https://pbs.twimg.com/profile_banners/1339835893/1476893928', 'verified': True, 'friends_count': 759, 'follow_request_sent': False, 'favourites_count': 1179, 'profile_image_url_https': 'https://pbs.twimg.com/profile_images/796243884636512260/zHVoWqKV_normal.jpg', 'entities': {'description': {'urls': []}, 'url': {'urls': [{'indices': [0, 23], 'expanded_url': 'http://HillaryClinton.com', 'url': 'https://t.co/xhPHAcdCwE', 'display_url': 'HillaryClinton.com'}]}}}, 'id_str': '823324426301243402', 'retweeted': False, 'retweet_count': 17122, 'in_reply_to_user_id_str': None, 'source': '<a href=\"http://twitter.com/download/iphone\" rel=\"nofollow\">Twitter for iPhone</a>', 'place': None, 'truncated': False, 'quoted_status_id_str': '822832592114384897', 'created_at': 'Mon Jan 23 00:20:14 +0000 2017', 'possibly_sensitive': False, 'in_reply_to_status_id': None, 'lang': 'en', 'text': '.@MichaelNutter got a lot of great points into 140 characters here. We have to keep the momentum. https://t.co/Bd66lBPMEs', 'favorite_count': 76880, 'geo': None, 'quoted_status': {'is_quote_status': False, 'user': {'utc_offset': -18000, 'contributors_enabled': False, 'profile_background_tile': True, 'notifications': False, 'profile_sidebar_fill_color': 'DDEEF6', 'screen_name': 'Michael_Nutter', 'id_str': '202790178', 'followers_count': 118156, 'url': 'https://t.co/L1zqkG8sH0', 'profile_background_color': 'C0DEED', 'lang': 'en', 'profile_use_background_image': True, 'listed_count': 1380, 'created_at': 'Thu Oct 14 20:46:24 +0000 2010', 'following': False, 'profile_background_image_url': 'http://pbs.twimg.com/profile_background_images/162006122/Mayor_in_Phillies_hat_and_jersey__waving.gif', 'default_profile_image': False, 'is_translator': False, 'default_profile': False, 'has_extended_profile': False, 'time_zone': 'Quito', 'profile_text_color': '333333', 'name': 'Michael A. Nutter', 'geo_enabled': False, 'profile_link_color': '0084B4', 'description': 'Citizen. Former Mayor of Phila. DHS Adviser. David N. Dinkins Professor at ColumbiaSIPA. @CNN Commentator. What Works Cities Senior Fellow. Airbnb Advisor', 'protected': False, 'is_translation_enabled': False, 'profile_image_url': 'http://pbs.twimg.com/profile_images/753094044654395392/Rt-pdJuc_normal.jpg', 'profile_background_image_url_https': 'https://pbs.twimg.com/profile_background_images/162006122/Mayor_in_Phillies_hat_and_jersey__waving.gif', 'translator_type': 'none', 'id': 202790178, 'profile_sidebar_border_color': 'C0DEED', 'location': 'Philadelphia', 'statuses_count': 4250, 'verified': True, 'friends_count': 412, 'follow_request_sent': False, 'favourites_count': 23, 'profile_image_url_https': 'https://pbs.twimg.com/profile_images/753094044654395392/Rt-pdJuc_normal.jpg', 'entities': {'description': {'urls': []}, 'url': {'urls': [{'indices': [0, 23], 'expanded_url': 'http://www.manutter.com', 'url': 'https://t.co/L1zqkG8sH0', 'display_url': 'manutter.com'}]}}}, 'place': None, 'id_str': '822832592114384897', 'retweeted': False, 'in_reply_to_user_id_str': None, 'source': '<a href=\"http://ubersocial.com\" rel=\"nofollow\">UberSocial for Android</a>', 'favorited': False, 'created_at': 'Sat Jan 21 15:45:52 +0000 2017', 'in_reply_to_status_id': None, 'lang': 'en', 'text': 'Marching, good. organizing, better. Speaking up, good. Running for office, better. Registering, good. Voting BEST!! #MakeAmericaSaneAgain!', 'favorite_count': 8129, 'geo': None, 'truncated': False, 'in_reply_to_status_id_str': None, 'in_reply_to_screen_name': None, 'id': 822832592114384897, 'in_reply_to_user_id': None, 'contributors': None, 'coordinates': None, 'retweet_count': 3973, 'entities': {'hashtags': [{'indices': [116, 137], 'text': 'MakeAmericaSaneAgain'}], 'user_mentions': [], 'urls': [], 'symbols': []}}, 'in_reply_to_status_id_str': None, 'favorited': False, 'id': 823324426301243402, 'in_reply_to_screen_name': None, 'in_reply_to_user_id': None, 'contributors': None, 'coordinates': None, 'quoted_status_id': 822832592114384897, 'entities': {'hashtags': [], 'user_mentions': [{'screen_name': 'michaelnutter', 'indices': [1, 15], 'id': 16708365, 'name': 'michaelnutter', 'id_str': '16708365'}], 'urls': [{'indices': [98, 121], 'expanded_url': 'https://twitter.com/michael_nutter/status/822832592114384897', 'url': 'https://t.co/Bd66lBPMEs', 'display_url': 'twitter.com/michael_nutter…'}], 'symbols': []}}, favorited=False, lang='en', text='.@MichaelNutter got a lot of great points into 140 characters here. We have to keep the momentum. https://t.co/Bd66lBPMEs', favorite_count=76880, geo=None, entities={'hashtags': [], 'user_mentions': [{'screen_name': 'michaelnutter', 'indices': [1, 15], 'id': 16708365, 'name': 'michaelnutter', 'id_str': '16708365'}], 'urls': [{'indices': [98, 121], 'expanded_url': 'https://twitter.com/michael_nutter/status/822832592114384897', 'url': 'https://t.co/Bd66lBPMEs', 'display_url': 'twitter.com/michael_nutter…'}], 'symbols': []}, quoted_status={'is_quote_status': False, 'user': {'utc_offset': -18000, 'contributors_enabled': False, 'profile_background_tile': True, 'notifications': False, 'profile_sidebar_fill_color': 'DDEEF6', 'screen_name': 'Michael_Nutter', 'id_str': '202790178', 'followers_count': 118156, 'url': 'https://t.co/L1zqkG8sH0', 'profile_background_color': 'C0DEED', 'lang': 'en', 'profile_use_background_image': True, 'listed_count': 1380, 'created_at': 'Thu Oct 14 20:46:24 +0000 2010', 'following': False, 'profile_background_image_url': 'http://pbs.twimg.com/profile_background_images/162006122/Mayor_in_Phillies_hat_and_jersey__waving.gif', 'default_profile_image': False, 'is_translator': False, 'default_profile': False, 'has_extended_profile': False, 'time_zone': 'Quito', 'profile_text_color': '333333', 'name': 'Michael A. Nutter', 'geo_enabled': False, 'profile_link_color': '0084B4', 'description': 'Citizen. Former Mayor of Phila. DHS Adviser. David N. Dinkins Professor at ColumbiaSIPA. @CNN Commentator. What Works Cities Senior Fellow. Airbnb Advisor', 'protected': False, 'is_translation_enabled': False, 'profile_image_url': 'http://pbs.twimg.com/profile_images/753094044654395392/Rt-pdJuc_normal.jpg', 'profile_background_image_url_https': 'https://pbs.twimg.com/profile_background_images/162006122/Mayor_in_Phillies_hat_and_jersey__waving.gif', 'translator_type': 'none', 'id': 202790178, 'profile_sidebar_border_color': 'C0DEED', 'location': 'Philadelphia', 'statuses_count': 4250, 'verified': True, 'friends_count': 412, 'follow_request_sent': False, 'favourites_count': 23, 'profile_image_url_https': 'https://pbs.twimg.com/profile_images/753094044654395392/Rt-pdJuc_normal.jpg', 'entities': {'description': {'urls': []}, 'url': {'urls': [{'indices': [0, 23], 'expanded_url': 'http://www.manutter.com', 'url': 'https://t.co/L1zqkG8sH0', 'display_url': 'manutter.com'}]}}}, 'place': None, 'id_str': '822832592114384897', 'retweeted': False, 'in_reply_to_user_id_str': None, 'source': '<a href=\"http://ubersocial.com\" rel=\"nofollow\">UberSocial for Android</a>', 'favorited': False, 'created_at': 'Sat Jan 21 15:45:52 +0000 2017', 'in_reply_to_status_id': None, 'lang': 'en', 'text': 'Marching, good. organizing, better. Speaking up, good. Running for office, better. Registering, good. Voting BEST!! #MakeAmericaSaneAgain!', 'favorite_count': 8129, 'geo': None, 'truncated': False, 'in_reply_to_status_id_str': None, 'in_reply_to_screen_name': None, 'id': 822832592114384897, 'in_reply_to_user_id': None, 'contributors': None, 'coordinates': None, 'retweet_count': 3973, 'entities': {'hashtags': [{'indices': [116, 137], 'text': 'MakeAmericaSaneAgain'}], 'user_mentions': [], 'urls': [], 'symbols': []}}, in_reply_to_status_id_str=None, id=823324426301243402, quoted_status_id_str='822832592114384897', coordinates=None, in_reply_to_screen_name=None, in_reply_to_user_id=None, source_url='http://twitter.com/download/iphone', in_reply_to_status_id=None, possibly_sensitive=False, truncated=False, quoted_status_id=822832592114384897, retweet_count=17122)"
      ]
     },
     "execution_count": 14,
     "metadata": {},
     "output_type": "execute_result"
    }
   ],
   "source": [
    "# If everything is working properly, this should print out\n",
    "# a Status object (a single tweet).  clinton_tweets should\n",
    "# contain around 3000 tweets.\n",
    "print(len(clinton_tweets))\n",
    "clinton_tweets[0]"
   ]
  },
  {
   "cell_type": "code",
   "execution_count": 15,
   "metadata": {
    "collapsed": false
   },
   "outputs": [
    {
     "name": "stdout",
     "output_type": "stream",
     "text": [
      "~~~~~~~~~~~~~~~~~~~~~~~~~~~~~~~~~~~~~~~~~~~~~~~~~~~~~~~~~~~~~~~~~~~~~\n",
      "Running tests\n",
      "\n",
      "---------------------------------------------------------------------\n",
      "Test summary\n",
      "    Passed: 2\n",
      "    Failed: 0\n",
      "[ooooooooook] 100.0% passed\n",
      "\n"
     ]
    },
    {
     "data": {
      "application/javascript": [
       "IPython.notebook.save_checkpoint();"
      ],
      "text/plain": [
       "<IPython.core.display.Javascript object>"
      ]
     },
     "metadata": {},
     "output_type": "display_data"
    },
    {
     "data": {
      "application/javascript": [
       "IPython.notebook.save_notebook();"
      ],
      "text/plain": [
       "<IPython.core.display.Javascript object>"
      ]
     },
     "metadata": {},
     "output_type": "display_data"
    },
    {
     "name": "stdout",
     "output_type": "stream",
     "text": [
      "Saving notebook... Saved 'hw2.ipynb'.\n",
      "Backup... 100% complete\n",
      "Backup successful for user: mikaelaklein@berkeley.edu\n",
      "URL: https://okpy.org/cal/data100/sp17/hw2/backups/o2RvVA\n",
      "NOTE: this is only a backup. To submit your assignment, use:\n",
      "\tpython3 ok --submit\n",
      "\n"
     ]
    }
   ],
   "source": [
    "_ = ok.grade('q02')\n",
    "_ = ok.backup()"
   ]
  },
  {
   "cell_type": "markdown",
   "metadata": {},
   "source": [
    "### Exploring the dataset\n",
    "Twitter gives us a lot of information about each tweet, not just its text.  You can read the full documentation [here](https://dev.twitter.com/overview/api/tweets).  Look at one tweet to get a sense of the information we have available."
   ]
  },
  {
   "cell_type": "markdown",
   "metadata": {},
   "source": [
    "#### Question 3\n",
    "Which fields contain:\n",
    "1. the actual text of a tweet,\n",
    "2. the time when the tweet was posted, and\n",
    "3. the source (device and app) from which the tweet was posted?\n",
    "\n",
    "To answer the question, write functions that extract each field from a tweet.  (Each one should take a single Status object as its argument.)"
   ]
  },
  {
   "cell_type": "code",
   "execution_count": 10,
   "metadata": {
    "collapsed": false
   },
   "outputs": [],
   "source": [
    "def extract_text(tweet):\n",
    "    return tweet.text\n",
    "\n",
    "def extract_time(tweet):\n",
    "    return tweet.created_at\n",
    "\n",
    "def extract_source(tweet):\n",
    "    return tweet.source"
   ]
  },
  {
   "cell_type": "code",
   "execution_count": 11,
   "metadata": {
    "collapsed": false
   },
   "outputs": [
    {
     "name": "stdout",
     "output_type": "stream",
     "text": [
      "~~~~~~~~~~~~~~~~~~~~~~~~~~~~~~~~~~~~~~~~~~~~~~~~~~~~~~~~~~~~~~~~~~~~~\n",
      "Running tests\n",
      "\n",
      "---------------------------------------------------------------------\n",
      "Test summary\n",
      "    Passed: 1\n",
      "    Failed: 0\n",
      "[ooooooooook] 100.0% passed\n",
      "\n"
     ]
    },
    {
     "data": {
      "application/javascript": [
       "IPython.notebook.save_checkpoint();"
      ],
      "text/plain": [
       "<IPython.core.display.Javascript object>"
      ]
     },
     "metadata": {},
     "output_type": "display_data"
    },
    {
     "data": {
      "application/javascript": [
       "IPython.notebook.save_notebook();"
      ],
      "text/plain": [
       "<IPython.core.display.Javascript object>"
      ]
     },
     "metadata": {},
     "output_type": "display_data"
    },
    {
     "name": "stdout",
     "output_type": "stream",
     "text": [
      "Saving notebook... Saved 'hw2.ipynb'.\n",
      "Backup... 100% complete\n",
      "Backup successful for user: mikaelaklein@berkeley.edu\n",
      "URL: https://okpy.org/cal/data100/sp17/hw2/backups/pYwg31\n",
      "NOTE: this is only a backup. To submit your assignment, use:\n",
      "\tpython3 ok --submit\n",
      "\n"
     ]
    }
   ],
   "source": [
    "_ = ok.grade('q03')\n",
    "_ = ok.backup()"
   ]
  },
  {
   "cell_type": "markdown",
   "metadata": {},
   "source": [
    "#### Question 4\n",
    "Are there any other fields you think might be useful in identifying the true author of an @HillaryClinton tweet?  (If you're reading the documentation, consider whether fields are actually present often enough in the data to be useful.)"
   ]
  },
  {
   "cell_type": "markdown",
   "metadata": {},
   "source": [
    "*The \"contributors\" field might be useful because it represents collection of brief user objects (usually only one) indicating users who contributed to the authorship of the tweet, on behalf of the official tweet author.*"
   ]
  },
  {
   "cell_type": "markdown",
   "metadata": {},
   "source": [
    "## Building a Pandas table\n",
    "JSON (and the Status object, which is just Tweepy's translation of the JSON produced by the Twitter API to a Python object) is nice for transmitting data, but it's not ideal for analysis.  The data will be easier to work with if we put them in a table.\n",
    "\n",
    "To create an empty table in Pandas, write:"
   ]
  },
  {
   "cell_type": "code",
   "execution_count": 12,
   "metadata": {
    "collapsed": true
   },
   "outputs": [],
   "source": [
    "import pandas as pd\n",
    "df = pd.DataFrame()"
   ]
  },
  {
   "cell_type": "markdown",
   "metadata": {},
   "source": [
    "(`pd` is the standard abbrevation for Pandas.)\n",
    "\n",
    "Now let's make a table with useful information in it.  To add a column to a DataFrame called `df`, write:\n",
    "    \n",
    "    df['column_name'] = some_list_or_array\n",
    "\n",
    "([This page](http://pandas.pydata.org/pandas-docs/stable/10min.html) is a useful reference for many of the basic operations in Pandas.  You don't need to read it now, but it might be helpful if you get stuck.)"
   ]
  },
  {
   "cell_type": "markdown",
   "metadata": {},
   "source": [
    "#### Question 5\n",
    "Write a function called `make_dataframe`.  It should take as its argument a list of tweets like `clinton_tweets` and return a Pandas DataFrame.  The DataFrame should contain columns for all the fields in question 3 and any fields you listed in question 4.  **Use the field names as the names of the corresponding columns.**"
   ]
  },
  {
   "cell_type": "code",
   "execution_count": 13,
   "metadata": {
    "collapsed": true
   },
   "outputs": [],
   "source": [
    "def make_dataframe(tweets):\n",
    "    \"\"\"Make a DataFrame from a list of tweets, with a few relevant fields.\n",
    "    \n",
    "    Args:\n",
    "        tweets (list): A list of tweets, each one a Status object.\n",
    "    \n",
    "    Returns:\n",
    "        DataFrame: A Pandas DataFrame containing one row for each element\n",
    "          of tweets and one column for each relevant field.\"\"\"\n",
    "    \n",
    "    df = pd.DataFrame()\n",
    "    df['text'] = [extract_text(tweets[i]) for i in range(len(tweets))]\n",
    "    df['created_at'] = [extract_time(tweets[i]) for i in range(len(tweets))]\n",
    "    df['source'] = [extract_source(tweets[i]) for i in range(len(tweets))]\n",
    "    df['contributors'] = [tweets[i].contributors for i in range(len(tweets))]\n",
    "    \n",
    "    return df"
   ]
  },
  {
   "cell_type": "markdown",
   "metadata": {},
   "source": [
    "Now you can run the next line to make your DataFrame."
   ]
  },
  {
   "cell_type": "code",
   "execution_count": 14,
   "metadata": {
    "collapsed": false
   },
   "outputs": [],
   "source": [
    "clinton_df = make_dataframe(clinton_tweets)"
   ]
  },
  {
   "cell_type": "code",
   "execution_count": 15,
   "metadata": {
    "collapsed": false
   },
   "outputs": [
    {
     "data": {
      "text/html": [
       "<div>\n",
       "<table border=\"1\" class=\"dataframe\">\n",
       "  <thead>\n",
       "    <tr style=\"text-align: right;\">\n",
       "      <th></th>\n",
       "      <th>text</th>\n",
       "      <th>created_at</th>\n",
       "      <th>source</th>\n",
       "      <th>contributors</th>\n",
       "    </tr>\n",
       "  </thead>\n",
       "  <tbody>\n",
       "    <tr>\n",
       "      <th>0</th>\n",
       "      <td>.@MichaelNutter got a lot of great points into 140 characters here. We have to keep the momentum. https://t.co/Bd66lBPMEs</td>\n",
       "      <td>2017-01-23 00:20:14</td>\n",
       "      <td>Twitter for iPhone</td>\n",
       "      <td>None</td>\n",
       "    </tr>\n",
       "    <tr>\n",
       "      <th>1</th>\n",
       "      <td>Scrolling through images of the #womensmarch is awe-inspiring. Hope it brought joy to others as it did to me.\\nhttps://t.co/29oaMvk3hU</td>\n",
       "      <td>2017-01-23 00:18:36</td>\n",
       "      <td>Twitter for iPhone</td>\n",
       "      <td>None</td>\n",
       "    </tr>\n",
       "    <tr>\n",
       "      <th>2</th>\n",
       "      <td>I stand w/ Nora Harren, a 17-year  from Boise, ID, &amp;amp; every person marching for our values today. Onward! ✊✊🏾✊🏽✨… https://t.co/Zt8THPtAn8</td>\n",
       "      <td>2017-01-21 20:27:17</td>\n",
       "      <td>Twitter for iPhone</td>\n",
       "      <td>None</td>\n",
       "    </tr>\n",
       "    <tr>\n",
       "      <th>3</th>\n",
       "      <td>'Hope Not Fear'\\nIndeed. \\nAnd what a beautiful piece by Louisa Cannell. \\n#womensmarch 👊👊🏻👊🏼👊🏽✨ https://t.co/7h3Bzx79nB</td>\n",
       "      <td>2017-01-21 16:39:53</td>\n",
       "      <td>Twitter for iPhone</td>\n",
       "      <td>None</td>\n",
       "    </tr>\n",
       "    <tr>\n",
       "      <th>4</th>\n",
       "      <td>Thanks for standing, speaking &amp;amp; marching for our values @womensmarch. Important as ever. I truly believe we're always Stronger Together.</td>\n",
       "      <td>2017-01-21 15:07:21</td>\n",
       "      <td>Twitter for iPhone</td>\n",
       "      <td>None</td>\n",
       "    </tr>\n",
       "  </tbody>\n",
       "</table>\n",
       "</div>"
      ],
      "text/plain": [
       "                                                                                                                                           text  \\\n",
       "0                     .@MichaelNutter got a lot of great points into 140 characters here. We have to keep the momentum. https://t.co/Bd66lBPMEs   \n",
       "1        Scrolling through images of the #womensmarch is awe-inspiring. Hope it brought joy to others as it did to me.\\nhttps://t.co/29oaMvk3hU   \n",
       "2  I stand w/ Nora Harren, a 17-year  from Boise, ID, &amp; every person marching for our values today. Onward! ✊✊🏾✊🏽✨… https://t.co/Zt8THPtAn8   \n",
       "3                      'Hope Not Fear'\\nIndeed. \\nAnd what a beautiful piece by Louisa Cannell. \\n#womensmarch 👊👊🏻👊🏼👊🏽✨ https://t.co/7h3Bzx79nB   \n",
       "4  Thanks for standing, speaking &amp; marching for our values @womensmarch. Important as ever. I truly believe we're always Stronger Together.   \n",
       "\n",
       "           created_at              source contributors  \n",
       "0 2017-01-23 00:20:14  Twitter for iPhone         None  \n",
       "1 2017-01-23 00:18:36  Twitter for iPhone         None  \n",
       "2 2017-01-21 20:27:17  Twitter for iPhone         None  \n",
       "3 2017-01-21 16:39:53  Twitter for iPhone         None  \n",
       "4 2017-01-21 15:07:21  Twitter for iPhone         None  "
      ]
     },
     "execution_count": 15,
     "metadata": {},
     "output_type": "execute_result"
    }
   ],
   "source": [
    "# The next line causes Pandas to display all the characters\n",
    "# from each tweet when the table is printed, for more\n",
    "# convenient reading.  Comment it out if you don't want it.\n",
    "pd.set_option('display.max_colwidth', 150)\n",
    "\n",
    "clinton_df.head()"
   ]
  },
  {
   "cell_type": "code",
   "execution_count": 16,
   "metadata": {
    "collapsed": false
   },
   "outputs": [
    {
     "name": "stdout",
     "output_type": "stream",
     "text": [
      "~~~~~~~~~~~~~~~~~~~~~~~~~~~~~~~~~~~~~~~~~~~~~~~~~~~~~~~~~~~~~~~~~~~~~\n",
      "Running tests\n",
      "\n",
      "---------------------------------------------------------------------\n",
      "Test summary\n",
      "    Passed: 1\n",
      "    Failed: 0\n",
      "[ooooooooook] 100.0% passed\n",
      "\n"
     ]
    },
    {
     "data": {
      "application/javascript": [
       "IPython.notebook.save_checkpoint();"
      ],
      "text/plain": [
       "<IPython.core.display.Javascript object>"
      ]
     },
     "metadata": {},
     "output_type": "display_data"
    },
    {
     "data": {
      "application/javascript": [
       "IPython.notebook.save_notebook();"
      ],
      "text/plain": [
       "<IPython.core.display.Javascript object>"
      ]
     },
     "metadata": {},
     "output_type": "display_data"
    },
    {
     "name": "stdout",
     "output_type": "stream",
     "text": [
      "Saving notebook... Saved 'hw2.ipynb'.\n",
      "Backup... 100% complete\n",
      "Backup successful for user: mikaelaklein@berkeley.edu\n",
      "URL: https://okpy.org/cal/data100/sp17/hw2/backups/PNm1vz\n",
      "NOTE: this is only a backup. To submit your assignment, use:\n",
      "\tpython3 ok --submit\n",
      "\n"
     ]
    }
   ],
   "source": [
    "_ = ok.grade('q05')\n",
    "_ = ok.backup()"
   ]
  },
  {
   "cell_type": "markdown",
   "metadata": {},
   "source": [
    "## Tweetsourcing\n",
    "Now that the preliminaries are done, we can do what we set out to do: Try to distinguish between Clinton's own tweets and her aides'."
   ]
  },
  {
   "cell_type": "markdown",
   "metadata": {},
   "source": [
    "#### Question 6\n",
    "Create a plot showing how many tweets came from each kind of source.  For a real challenge, try using the Pandas documentation and Google to figure out how to do this.  Otherwise, hints are provided.\n",
    "\n",
    "*Hint:* Start by grouping the data by source.  `df['source'].value_counts()` will create an object called a Series (which is like a table that contains exactly 2 columns, where one column is called the *index*).  You can create a version of that Series that's sorted by source (in this case, in alphabetical order) by calling `sort_index()` on it.\n",
    "\n",
    "*Hint 2:* To generate a bar plot from a Series `s`, call `s.plot.barh()`.  You can also use `matplotlib`'s [`plt.barh`](http://matplotlib.org/api/pyplot_api.html#matplotlib.pyplot.barh), but it's a little bit complicated to use."
   ]
  },
  {
   "cell_type": "code",
   "execution_count": 17,
   "metadata": {
    "collapsed": false
   },
   "outputs": [
    {
     "data": {
      "text/plain": [
       "<matplotlib.axes._subplots.AxesSubplot at 0x11abb7a90>"
      ]
     },
     "execution_count": 17,
     "metadata": {},
     "output_type": "execute_result"
    },
    {
     "data": {
      "image/png": "[encoded data removed]",
      "text/plain": [
       "<matplotlib.figure.Figure at 0x11abb76a0>"
      ]
     },
     "metadata": {},
     "output_type": "display_data"
    }
   ],
   "source": [
    "clinton_df['source'].value_counts().plot.barh()"
   ]
  },
  {
   "cell_type": "markdown",
   "metadata": {},
   "source": [
    "You should find that most tweets come from [TweetDeck](https://tweetdeck.twitter.com)."
   ]
  },
  {
   "cell_type": "markdown",
   "metadata": {},
   "source": [
    "#### Question 7\n",
    "Filter `clinton_df` to examine some tweets from TweetDeck and a few from the next-most-used platform.  From examining only a few tweets (say 10 from each category), can you tell whether Clinton's personal tweets are limited to one platform?\n",
    "\n",
    "*Hint:* If `df` is a DataFrame and `filter_array` is an array of booleans of the same length, then `df[filter_array]` is a new DataFrame containing only the rows in `df` corresponding to `True` values in `filter_array`."
   ]
  },
  {
   "cell_type": "code",
   "execution_count": 21,
   "metadata": {
    "collapsed": false,
    "for_assignment_type": "student"
   },
   "outputs": [
    {
     "data": {
      "text/html": [
       "<div>\n",
       "<table border=\"1\" class=\"dataframe\">\n",
       "  <thead>\n",
       "    <tr style=\"text-align: right;\">\n",
       "      <th></th>\n",
       "      <th>text</th>\n",
       "      <th>created_at</th>\n",
       "      <th>source</th>\n",
       "      <th>contributors</th>\n",
       "    </tr>\n",
       "  </thead>\n",
       "  <tbody>\n",
       "    <tr>\n",
       "      <th>35</th>\n",
       "      <td>RT @timkaine: Thinking about my daughter right now. No little girl will ever again have to wonder whether she, too, can be president. https…</td>\n",
       "      <td>2016-11-09 01:42:10</td>\n",
       "      <td>Twitter Web Client</td>\n",
       "      <td>None</td>\n",
       "    </tr>\n",
       "    <tr>\n",
       "      <th>36</th>\n",
       "      <td>RT @HillaryforNC: If you haven't voted, NC, @POTUS needs you to get in line. As long as you're in line when polls close, you can vote. http…</td>\n",
       "      <td>2016-11-09 00:45:15</td>\n",
       "      <td>Twitter Web Client</td>\n",
       "      <td>None</td>\n",
       "    </tr>\n",
       "    <tr>\n",
       "      <th>39</th>\n",
       "      <td>RT @RobbyMook: Strong Dem Broward + Orange Counties, FL surpassed total 2012 turnout as of 4pm. Amazing work, @HillaryforFL volunteers! #GO…</td>\n",
       "      <td>2016-11-08 22:02:33</td>\n",
       "      <td>Twitter Web Client</td>\n",
       "      <td>None</td>\n",
       "    </tr>\n",
       "    <tr>\n",
       "      <th>44</th>\n",
       "      <td>RT @VP: Today is Election Day in America. It’s time to get out and vote. https://t.co/a0MJUF4QIy</td>\n",
       "      <td>2016-11-08 17:23:42</td>\n",
       "      <td>Twitter Web Client</td>\n",
       "      <td>None</td>\n",
       "    </tr>\n",
       "    <tr>\n",
       "      <th>46</th>\n",
       "      <td>RT @aliciakeys: This morning, I woke up feeling hopeful for the power of our voice, for unity, for our continued progress. #VoteLove #ImWit…</td>\n",
       "      <td>2016-11-08 16:59:17</td>\n",
       "      <td>Twitter Web Client</td>\n",
       "      <td>None</td>\n",
       "    </tr>\n",
       "    <tr>\n",
       "      <th>49</th>\n",
       "      <td>RT @JeanneShaheen: We just voted to elect the 1st woman to be our President. Let me tell you, it feels amazing! #nhpolitics https://t.co/iK…</td>\n",
       "      <td>2016-11-08 16:15:08</td>\n",
       "      <td>Twitter Web Client</td>\n",
       "      <td>None</td>\n",
       "    </tr>\n",
       "    <tr>\n",
       "      <th>50</th>\n",
       "      <td>RT @elizabethforma: This morning I proudly cast my vote for @HillaryClinton to be the next President of the United States. #ImWithHer https…</td>\n",
       "      <td>2016-11-08 16:10:19</td>\n",
       "      <td>Twitter Web Client</td>\n",
       "      <td>None</td>\n",
       "    </tr>\n",
       "    <tr>\n",
       "      <th>51</th>\n",
       "      <td>RT @POTUS: Today, progress is on the ballot. Go vote - then make sure your friends, your family, and everyone you know votes too.</td>\n",
       "      <td>2016-11-08 16:03:58</td>\n",
       "      <td>Twitter Web Client</td>\n",
       "      <td>None</td>\n",
       "    </tr>\n",
       "    <tr>\n",
       "      <th>52</th>\n",
       "      <td>RT @EricaSmegs: Don't worry, Mom, I'll remember to vote today even though ur not here to remind me. Love you. This one is for you. https://…</td>\n",
       "      <td>2016-11-08 15:19:57</td>\n",
       "      <td>Twitter Web Client</td>\n",
       "      <td>None</td>\n",
       "    </tr>\n",
       "    <tr>\n",
       "      <th>55</th>\n",
       "      <td>RT @ChelseaClinton: Couldn’t be more proud of my mom &amp;amp; the campaign she's run. Let’s bring it home for her today. https://t.co/Mw1JC5L9rj</td>\n",
       "      <td>2016-11-08 14:52:50</td>\n",
       "      <td>Twitter Web Client</td>\n",
       "      <td>None</td>\n",
       "    </tr>\n",
       "    <tr>\n",
       "      <th>13</th>\n",
       "      <td>Scripture tells us: Let us not grow weary in doing good, for in due season, we shall reap, if we do not lose heart. https://t.co/snXfdLgZq8</td>\n",
       "      <td>2016-11-09 18:55:10</td>\n",
       "      <td>TweetDeck</td>\n",
       "      <td>None</td>\n",
       "    </tr>\n",
       "    <tr>\n",
       "      <th>14</th>\n",
       "      <td>“Let us have faith in each other. Let us not grow weary. Let us not lose heart. For there are more seasons to come and...more work to do.”</td>\n",
       "      <td>2016-11-09 16:53:19</td>\n",
       "      <td>TweetDeck</td>\n",
       "      <td>None</td>\n",
       "    </tr>\n",
       "    <tr>\n",
       "      <th>15</th>\n",
       "      <td>“We are stronger together and will go forward together. And you should never, ever regret fighting for that.” —Hillary</td>\n",
       "      <td>2016-11-09 16:53:02</td>\n",
       "      <td>TweetDeck</td>\n",
       "      <td>None</td>\n",
       "    </tr>\n",
       "    <tr>\n",
       "      <th>16</th>\n",
       "      <td>“I am grateful to our country for all it has given me. I count my blessings every day that I am an American.” —Hillary</td>\n",
       "      <td>2016-11-09 16:52:19</td>\n",
       "      <td>TweetDeck</td>\n",
       "      <td>None</td>\n",
       "    </tr>\n",
       "    <tr>\n",
       "      <th>17</th>\n",
       "      <td>\"To all the little girls watching...never doubt that you are valuable and powerful &amp;amp; deserving of every chance &amp;amp; opportunity in the world.\"</td>\n",
       "      <td>2016-11-09 16:51:59</td>\n",
       "      <td>TweetDeck</td>\n",
       "      <td>None</td>\n",
       "    </tr>\n",
       "    <tr>\n",
       "      <th>18</th>\n",
       "      <td>\"We have still have not shattered that highest and hardest glass ceiling. But some day, someone will.\" —Hillary</td>\n",
       "      <td>2016-11-09 16:51:46</td>\n",
       "      <td>TweetDeck</td>\n",
       "      <td>None</td>\n",
       "    </tr>\n",
       "    <tr>\n",
       "      <th>19</th>\n",
       "      <td>\"To all the women...who put their faith in this campaign and in me...nothing has made me prouder than to be your champion.\" —Hillary</td>\n",
       "      <td>2016-11-09 16:50:46</td>\n",
       "      <td>TweetDeck</td>\n",
       "      <td>None</td>\n",
       "    </tr>\n",
       "    <tr>\n",
       "      <th>20</th>\n",
       "      <td>\"This loss hurts. But please never stop believing that fighting for what’s right is worth it.\" —Hillary</td>\n",
       "      <td>2016-11-09 16:50:23</td>\n",
       "      <td>TweetDeck</td>\n",
       "      <td>None</td>\n",
       "    </tr>\n",
       "    <tr>\n",
       "      <th>21</th>\n",
       "      <td>\"To Bill, Chelsea, Marc, Charlotte, Aidan, our brothers, and our entire family—my love for you means more than I can ever express.\" —Hillary</td>\n",
       "      <td>2016-11-09 16:47:31</td>\n",
       "      <td>TweetDeck</td>\n",
       "      <td>None</td>\n",
       "    </tr>\n",
       "    <tr>\n",
       "      <th>22</th>\n",
       "      <td>\"To Barack and Michelle Obama, our country owes you an enormous debt of gratitude. We thank you for your graceful, determined leadership.”</td>\n",
       "      <td>2016-11-09 16:47:13</td>\n",
       "      <td>TweetDeck</td>\n",
       "      <td>None</td>\n",
       "    </tr>\n",
       "  </tbody>\n",
       "</table>\n",
       "</div>"
      ],
      "text/plain": [
       "                                                                                                                                                   text  \\\n",
       "35         RT @timkaine: Thinking about my daughter right now. No little girl will ever again have to wonder whether she, too, can be president. https…   \n",
       "36         RT @HillaryforNC: If you haven't voted, NC, @POTUS needs you to get in line. As long as you're in line when polls close, you can vote. http…   \n",
       "39         RT @RobbyMook: Strong Dem Broward + Orange Counties, FL surpassed total 2012 turnout as of 4pm. Amazing work, @HillaryforFL volunteers! #GO…   \n",
       "44                                                     RT @VP: Today is Election Day in America. It’s time to get out and vote. https://t.co/a0MJUF4QIy   \n",
       "46         RT @aliciakeys: This morning, I woke up feeling hopeful for the power of our voice, for unity, for our continued progress. #VoteLove #ImWit…   \n",
       "49         RT @JeanneShaheen: We just voted to elect the 1st woman to be our President. Let me tell you, it feels amazing! #nhpolitics https://t.co/iK…   \n",
       "50         RT @elizabethforma: This morning I proudly cast my vote for @HillaryClinton to be the next President of the United States. #ImWithHer https…   \n",
       "51                    RT @POTUS: Today, progress is on the ballot. Go vote - then make sure your friends, your family, and everyone you know votes too.   \n",
       "52         RT @EricaSmegs: Don't worry, Mom, I'll remember to vote today even though ur not here to remind me. Love you. This one is for you. https://…   \n",
       "55        RT @ChelseaClinton: Couldn’t be more proud of my mom &amp; the campaign she's run. Let’s bring it home for her today. https://t.co/Mw1JC5L9rj   \n",
       "13          Scripture tells us: Let us not grow weary in doing good, for in due season, we shall reap, if we do not lose heart. https://t.co/snXfdLgZq8   \n",
       "14           “Let us have faith in each other. Let us not grow weary. Let us not lose heart. For there are more seasons to come and...more work to do.”   \n",
       "15                               “We are stronger together and will go forward together. And you should never, ever regret fighting for that.” —Hillary   \n",
       "16                               “I am grateful to our country for all it has given me. I count my blessings every day that I am an American.” —Hillary   \n",
       "17  \"To all the little girls watching...never doubt that you are valuable and powerful &amp; deserving of every chance &amp; opportunity in the world.\"   \n",
       "18                                      \"We have still have not shattered that highest and hardest glass ceiling. But some day, someone will.\" —Hillary   \n",
       "19                 \"To all the women...who put their faith in this campaign and in me...nothing has made me prouder than to be your champion.\" —Hillary   \n",
       "20                                              \"This loss hurts. But please never stop believing that fighting for what’s right is worth it.\" —Hillary   \n",
       "21         \"To Bill, Chelsea, Marc, Charlotte, Aidan, our brothers, and our entire family—my love for you means more than I can ever express.\" —Hillary   \n",
       "22           \"To Barack and Michelle Obama, our country owes you an enormous debt of gratitude. We thank you for your graceful, determined leadership.”   \n",
       "\n",
       "            created_at              source contributors  \n",
       "35 2016-11-09 01:42:10  Twitter Web Client         None  \n",
       "36 2016-11-09 00:45:15  Twitter Web Client         None  \n",
       "39 2016-11-08 22:02:33  Twitter Web Client         None  \n",
       "44 2016-11-08 17:23:42  Twitter Web Client         None  \n",
       "46 2016-11-08 16:59:17  Twitter Web Client         None  \n",
       "49 2016-11-08 16:15:08  Twitter Web Client         None  \n",
       "50 2016-11-08 16:10:19  Twitter Web Client         None  \n",
       "51 2016-11-08 16:03:58  Twitter Web Client         None  \n",
       "52 2016-11-08 15:19:57  Twitter Web Client         None  \n",
       "55 2016-11-08 14:52:50  Twitter Web Client         None  \n",
       "13 2016-11-09 18:55:10           TweetDeck         None  \n",
       "14 2016-11-09 16:53:19           TweetDeck         None  \n",
       "15 2016-11-09 16:53:02           TweetDeck         None  \n",
       "16 2016-11-09 16:52:19           TweetDeck         None  \n",
       "17 2016-11-09 16:51:59           TweetDeck         None  \n",
       "18 2016-11-09 16:51:46           TweetDeck         None  \n",
       "19 2016-11-09 16:50:46           TweetDeck         None  \n",
       "20 2016-11-09 16:50:23           TweetDeck         None  \n",
       "21 2016-11-09 16:47:31           TweetDeck         None  \n",
       "22 2016-11-09 16:47:13           TweetDeck         None  "
      ]
     },
     "execution_count": 21,
     "metadata": {},
     "output_type": "execute_result"
    }
   ],
   "source": [
    "# Do your analysis, then write your conclusions in a brief comment.\n",
    "\n",
    "df1 = clinton_df[clinton_df['source'] == \"Twitter Web Client\"].head(10)\n",
    "df2 = clinton_df[clinton_df['source'] == \"TweetDeck\"].head(10)\n",
    "\n",
    "# So it looks like the tweets from Twitter Web Client are mostly retweets, and the tweets from TweetDeck are quotes\n",
    "# by Hillary. It still looks hard to tell which tweets Hillary wrote herself.\n",
    "\n",
    "pd.concat([df1, df2])"
   ]
  },
  {
   "cell_type": "markdown",
   "metadata": {},
   "source": [
    "## When in doubt, read...\n",
    "Check Hillary Clinton's [Twitter page](http://twitter.com/HillaryClinton).  It mentions an easy way to identify tweets by the candidate herself.  All other tweets are by her aides."
   ]
  },
  {
   "cell_type": "markdown",
   "metadata": {},
   "source": [
    "#### Question 8\n",
    "Write a function called `is_clinton` that takes a tweet (in JSON) as its argument and returns `True` for personal tweets by Clinton and `False` for tweets by her aides.  Use your function to create a column called `is_personal` in `clinton_df`.\n",
    "\n",
    "*Hint:* You might find the string method `endswith` helpful."
   ]
  },
  {
   "cell_type": "code",
   "execution_count": 22,
   "metadata": {
    "collapsed": false
   },
   "outputs": [
    {
     "data": {
      "text/html": [
       "<div>\n",
       "<table border=\"1\" class=\"dataframe\">\n",
       "  <thead>\n",
       "    <tr style=\"text-align: right;\">\n",
       "      <th></th>\n",
       "      <th>text</th>\n",
       "      <th>created_at</th>\n",
       "      <th>source</th>\n",
       "      <th>contributors</th>\n",
       "      <th>is_personal</th>\n",
       "    </tr>\n",
       "  </thead>\n",
       "  <tbody>\n",
       "    <tr>\n",
       "      <th>0</th>\n",
       "      <td>.@MichaelNutter got a lot of great points into 140 characters here. We have to keep the momentum. https://t.co/Bd66lBPMEs</td>\n",
       "      <td>2017-01-23 00:20:14</td>\n",
       "      <td>Twitter for iPhone</td>\n",
       "      <td>None</td>\n",
       "      <td>False</td>\n",
       "    </tr>\n",
       "    <tr>\n",
       "      <th>1</th>\n",
       "      <td>Scrolling through images of the #womensmarch is awe-inspiring. Hope it brought joy to others as it did to me.\\nhttps://t.co/29oaMvk3hU</td>\n",
       "      <td>2017-01-23 00:18:36</td>\n",
       "      <td>Twitter for iPhone</td>\n",
       "      <td>None</td>\n",
       "      <td>False</td>\n",
       "    </tr>\n",
       "    <tr>\n",
       "      <th>2</th>\n",
       "      <td>I stand w/ Nora Harren, a 17-year  from Boise, ID, &amp;amp; every person marching for our values today. Onward! ✊✊🏾✊🏽✨… https://t.co/Zt8THPtAn8</td>\n",
       "      <td>2017-01-21 20:27:17</td>\n",
       "      <td>Twitter for iPhone</td>\n",
       "      <td>None</td>\n",
       "      <td>False</td>\n",
       "    </tr>\n",
       "    <tr>\n",
       "      <th>3</th>\n",
       "      <td>'Hope Not Fear'\\nIndeed. \\nAnd what a beautiful piece by Louisa Cannell. \\n#womensmarch 👊👊🏻👊🏼👊🏽✨ https://t.co/7h3Bzx79nB</td>\n",
       "      <td>2017-01-21 16:39:53</td>\n",
       "      <td>Twitter for iPhone</td>\n",
       "      <td>None</td>\n",
       "      <td>False</td>\n",
       "    </tr>\n",
       "    <tr>\n",
       "      <th>4</th>\n",
       "      <td>Thanks for standing, speaking &amp;amp; marching for our values @womensmarch. Important as ever. I truly believe we're always Stronger Together.</td>\n",
       "      <td>2017-01-21 15:07:21</td>\n",
       "      <td>Twitter for iPhone</td>\n",
       "      <td>None</td>\n",
       "      <td>False</td>\n",
       "    </tr>\n",
       "    <tr>\n",
       "      <th>5</th>\n",
       "      <td>I'm here today to honor our democracy &amp;amp; its enduring values. I will never stop believing in our country &amp;amp; its future. #Inauguration</td>\n",
       "      <td>2017-01-20 15:53:50</td>\n",
       "      <td>Twitter for iPhone</td>\n",
       "      <td>None</td>\n",
       "      <td>False</td>\n",
       "    </tr>\n",
       "    <tr>\n",
       "      <th>6</th>\n",
       "      <td>Indeed. Bill &amp;amp; I have you in our thoughts &amp;amp; look forward to you both being back on your feet soon, wild socks &amp;amp; all… https://t.co/yUWS...</td>\n",
       "      <td>2017-01-19 00:00:19</td>\n",
       "      <td>Twitter for iPhone</td>\n",
       "      <td>None</td>\n",
       "      <td>False</td>\n",
       "    </tr>\n",
       "    <tr>\n",
       "      <th>7</th>\n",
       "      <td>Delighted that @NYGovCuomo proposed free college for ppl making &amp;lt;125K in NY. A plan @SenSanders &amp;amp; I worked hard on. https://t.co/V0aXjhxKpm</td>\n",
       "      <td>2017-01-03 23:28:01</td>\n",
       "      <td>Twitter for iPhone</td>\n",
       "      <td>None</td>\n",
       "      <td>False</td>\n",
       "    </tr>\n",
       "    <tr>\n",
       "      <th>8</th>\n",
       "      <td>The holidays are a time to be thankful for our blessings. Let's rejoice in this season &amp;amp; look forward with renewed hope &amp;amp; determination. -H</td>\n",
       "      <td>2016-12-26 21:37:34</td>\n",
       "      <td>Twitter for iPhone</td>\n",
       "      <td>None</td>\n",
       "      <td>True</td>\n",
       "    </tr>\n",
       "    <tr>\n",
       "      <th>9</th>\n",
       "      <td>RT @marceelias: I just published “Listening and Responding To Calls for an Audit and Recount” https://t.co/rHqtUEioso</td>\n",
       "      <td>2016-11-27 03:51:21</td>\n",
       "      <td>Twitter for iPhone</td>\n",
       "      <td>None</td>\n",
       "      <td>False</td>\n",
       "    </tr>\n",
       "    <tr>\n",
       "      <th>10</th>\n",
       "      <td>I was greeted by this heartwarming display on the corner of my street today. Thank you to all of you who did this.… https://t.co/fWPOa4Bgzc</td>\n",
       "      <td>2016-11-24 20:40:17</td>\n",
       "      <td>Twitter for iPhone</td>\n",
       "      <td>None</td>\n",
       "      <td>False</td>\n",
       "    </tr>\n",
       "    <tr>\n",
       "      <th>11</th>\n",
       "      <td>Hoping everyone has a safe &amp;amp; Happy Thanksgiving today, &amp;amp; quality time with family &amp;amp; friends. -H</td>\n",
       "      <td>2016-11-24 20:37:00</td>\n",
       "      <td>Twitter for iPhone</td>\n",
       "      <td>None</td>\n",
       "      <td>True</td>\n",
       "    </tr>\n",
       "    <tr>\n",
       "      <th>12</th>\n",
       "      <td>Looking forward to honoring some brave young people tonight at @ChildDefender where I started my career. Tune in: https://t.co/4gmaM2A9Dx -H</td>\n",
       "      <td>2016-11-17 00:15:53</td>\n",
       "      <td>Twitter for iPhone</td>\n",
       "      <td>None</td>\n",
       "      <td>True</td>\n",
       "    </tr>\n",
       "    <tr>\n",
       "      <th>13</th>\n",
       "      <td>Scripture tells us: Let us not grow weary in doing good, for in due season, we shall reap, if we do not lose heart. https://t.co/snXfdLgZq8</td>\n",
       "      <td>2016-11-09 18:55:10</td>\n",
       "      <td>TweetDeck</td>\n",
       "      <td>None</td>\n",
       "      <td>False</td>\n",
       "    </tr>\n",
       "    <tr>\n",
       "      <th>14</th>\n",
       "      <td>“Let us have faith in each other. Let us not grow weary. Let us not lose heart. For there are more seasons to come and...more work to do.”</td>\n",
       "      <td>2016-11-09 16:53:19</td>\n",
       "      <td>TweetDeck</td>\n",
       "      <td>None</td>\n",
       "      <td>False</td>\n",
       "    </tr>\n",
       "    <tr>\n",
       "      <th>15</th>\n",
       "      <td>“We are stronger together and will go forward together. And you should never, ever regret fighting for that.” —Hillary</td>\n",
       "      <td>2016-11-09 16:53:02</td>\n",
       "      <td>TweetDeck</td>\n",
       "      <td>None</td>\n",
       "      <td>False</td>\n",
       "    </tr>\n",
       "    <tr>\n",
       "      <th>16</th>\n",
       "      <td>“I am grateful to our country for all it has given me. I count my blessings every day that I am an American.” —Hillary</td>\n",
       "      <td>2016-11-09 16:52:19</td>\n",
       "      <td>TweetDeck</td>\n",
       "      <td>None</td>\n",
       "      <td>False</td>\n",
       "    </tr>\n",
       "    <tr>\n",
       "      <th>17</th>\n",
       "      <td>\"To all the little girls watching...never doubt that you are valuable and powerful &amp;amp; deserving of every chance &amp;amp; opportunity in the world.\"</td>\n",
       "      <td>2016-11-09 16:51:59</td>\n",
       "      <td>TweetDeck</td>\n",
       "      <td>None</td>\n",
       "      <td>False</td>\n",
       "    </tr>\n",
       "    <tr>\n",
       "      <th>18</th>\n",
       "      <td>\"We have still have not shattered that highest and hardest glass ceiling. But some day, someone will.\" —Hillary</td>\n",
       "      <td>2016-11-09 16:51:46</td>\n",
       "      <td>TweetDeck</td>\n",
       "      <td>None</td>\n",
       "      <td>False</td>\n",
       "    </tr>\n",
       "    <tr>\n",
       "      <th>19</th>\n",
       "      <td>\"To all the women...who put their faith in this campaign and in me...nothing has made me prouder than to be your champion.\" —Hillary</td>\n",
       "      <td>2016-11-09 16:50:46</td>\n",
       "      <td>TweetDeck</td>\n",
       "      <td>None</td>\n",
       "      <td>False</td>\n",
       "    </tr>\n",
       "    <tr>\n",
       "      <th>20</th>\n",
       "      <td>\"This loss hurts. But please never stop believing that fighting for what’s right is worth it.\" —Hillary</td>\n",
       "      <td>2016-11-09 16:50:23</td>\n",
       "      <td>TweetDeck</td>\n",
       "      <td>None</td>\n",
       "      <td>False</td>\n",
       "    </tr>\n",
       "    <tr>\n",
       "      <th>21</th>\n",
       "      <td>\"To Bill, Chelsea, Marc, Charlotte, Aidan, our brothers, and our entire family—my love for you means more than I can ever express.\" —Hillary</td>\n",
       "      <td>2016-11-09 16:47:31</td>\n",
       "      <td>TweetDeck</td>\n",
       "      <td>None</td>\n",
       "      <td>False</td>\n",
       "    </tr>\n",
       "    <tr>\n",
       "      <th>22</th>\n",
       "      <td>\"To Barack and Michelle Obama, our country owes you an enormous debt of gratitude. We thank you for your graceful, determined leadership.”</td>\n",
       "      <td>2016-11-09 16:47:13</td>\n",
       "      <td>TweetDeck</td>\n",
       "      <td>None</td>\n",
       "      <td>False</td>\n",
       "    </tr>\n",
       "    <tr>\n",
       "      <th>23</th>\n",
       "      <td>\"I want to thank Tim Kaine and Anne Holton for being our partners on this journey.\" —Hillary</td>\n",
       "      <td>2016-11-09 16:45:58</td>\n",
       "      <td>TweetDeck</td>\n",
       "      <td>None</td>\n",
       "      <td>False</td>\n",
       "    </tr>\n",
       "    <tr>\n",
       "      <th>24</th>\n",
       "      <td>\"Our responsibility as citizens is to keep doing our part to build that better, stronger, fairer America we seek. And I know you will.”</td>\n",
       "      <td>2016-11-09 16:45:42</td>\n",
       "      <td>TweetDeck</td>\n",
       "      <td>None</td>\n",
       "      <td>False</td>\n",
       "    </tr>\n",
       "    <tr>\n",
       "      <th>25</th>\n",
       "      <td>\"Our constitutional democracy demands our participation, not just every four years, but all the time.\" —Hillary</td>\n",
       "      <td>2016-11-09 16:44:28</td>\n",
       "      <td>TweetDeck</td>\n",
       "      <td>None</td>\n",
       "      <td>False</td>\n",
       "    </tr>\n",
       "    <tr>\n",
       "      <th>26</th>\n",
       "      <td>“Donald Trump is going to be our president. We owe him an open mind and the chance to lead.” —Hillary</td>\n",
       "      <td>2016-11-09 16:43:34</td>\n",
       "      <td>TweetDeck</td>\n",
       "      <td>None</td>\n",
       "      <td>False</td>\n",
       "    </tr>\n",
       "    <tr>\n",
       "      <th>27</th>\n",
       "      <td>\"We have seen that our nation is more deeply divided than we thought. But I still believe in America—and I always will.\" —Hillary</td>\n",
       "      <td>2016-11-09 16:43:20</td>\n",
       "      <td>TweetDeck</td>\n",
       "      <td>None</td>\n",
       "      <td>False</td>\n",
       "    </tr>\n",
       "    <tr>\n",
       "      <th>28</th>\n",
       "      <td>\"I want you to remember this: Our campaign was never about one person or even one election. It was about the country we love.” —Hillary</td>\n",
       "      <td>2016-11-09 16:43:06</td>\n",
       "      <td>TweetDeck</td>\n",
       "      <td>None</td>\n",
       "      <td>False</td>\n",
       "    </tr>\n",
       "    <tr>\n",
       "      <th>29</th>\n",
       "      <td>“You represent the best of America, and being your candidate has been one of the greatest honors of my life.” —Hillary to @HFA</td>\n",
       "      <td>2016-11-09 16:42:39</td>\n",
       "      <td>TweetDeck</td>\n",
       "      <td>None</td>\n",
       "      <td>False</td>\n",
       "    </tr>\n",
       "    <tr>\n",
       "      <th>...</th>\n",
       "      <td>...</td>\n",
       "      <td>...</td>\n",
       "      <td>...</td>\n",
       "      <td>...</td>\n",
       "      <td>...</td>\n",
       "    </tr>\n",
       "    <tr>\n",
       "      <th>3187</th>\n",
       "      <td>Donald Trump chose one of the most anti-LGBT politicians in the country to be his Vice President. #RNCinCLE https://t.co/krj1yThzKp</td>\n",
       "      <td>2016-07-21 02:40:37</td>\n",
       "      <td>TweetDeck</td>\n",
       "      <td>None</td>\n",
       "      <td>False</td>\n",
       "    </tr>\n",
       "    <tr>\n",
       "      <th>3188</th>\n",
       "      <td>A few things you should know about Trump's V̶P̶ ̶p̶i̶c̶k̶ convention speaker, Newt Gingrich. #RNCinCLE\\nhttps://t.co/6oIENhBl93</td>\n",
       "      <td>2016-07-21 02:26:46</td>\n",
       "      <td>Twitter Web Client</td>\n",
       "      <td>None</td>\n",
       "      <td>False</td>\n",
       "    </tr>\n",
       "    <tr>\n",
       "      <th>3189</th>\n",
       "      <td>RT @TheBriefing2016: Newt once compared Planned Parenthood to ISIS. Yeah. https://t.co/84WmkbkfTl https://t.co/aR9ILeGMCa</td>\n",
       "      <td>2016-07-21 02:24:10</td>\n",
       "      <td>TweetDeck</td>\n",
       "      <td>None</td>\n",
       "      <td>False</td>\n",
       "    </tr>\n",
       "    <tr>\n",
       "      <th>3190</th>\n",
       "      <td>RT @Hillary_esp: Y ahora le toca el turno en la convención republicana a... ¡Newt Gingrich! https://t.co/lj490zwvfb</td>\n",
       "      <td>2016-07-21 02:22:37</td>\n",
       "      <td>TweetDeck</td>\n",
       "      <td>None</td>\n",
       "      <td>False</td>\n",
       "    </tr>\n",
       "    <tr>\n",
       "      <th>3191</th>\n",
       "      <td>We made this when we thought Newt might be Trump’s VP pick. He wasn’t. Here you go anyway! #RNCinCLE https://t.co/HGZ55tJpTY</td>\n",
       "      <td>2016-07-21 02:21:16</td>\n",
       "      <td>TweetDeck</td>\n",
       "      <td>None</td>\n",
       "      <td>False</td>\n",
       "    </tr>\n",
       "    <tr>\n",
       "      <th>3192</th>\n",
       "      <td>RT @TheBriefing2016: A speaker tonight said that Donald Trump always pays his bills.\\n\\nAnnnd that claim just got rated false. \\n\\n#RNCINCLE ht…</td>\n",
       "      <td>2016-07-21 02:14:09</td>\n",
       "      <td>TweetDeck</td>\n",
       "      <td>None</td>\n",
       "      <td>False</td>\n",
       "    </tr>\n",
       "    <tr>\n",
       "      <th>3193</th>\n",
       "      <td>RT @TheBriefing2016: Ted Cruz once called Donald Trump a pathological liar. And yet...here he is. #RNCinCLE https://t.co/ZfTFm1qy5Q</td>\n",
       "      <td>2016-07-21 01:42:29</td>\n",
       "      <td>TweetDeck</td>\n",
       "      <td>None</td>\n",
       "      <td>False</td>\n",
       "    </tr>\n",
       "    <tr>\n",
       "      <th>3194</th>\n",
       "      <td>\"Pathological liar.\"\\n\"Out of a psychology textbook.\"\\n\"Narcissist.\" —@tedcruz on Trump, 78 days ago #RNCinCLE\\nhttps://t.co/sQOnXYpKdE</td>\n",
       "      <td>2016-07-21 01:33:38</td>\n",
       "      <td>Twitter Web Client</td>\n",
       "      <td>None</td>\n",
       "      <td>False</td>\n",
       "    </tr>\n",
       "    <tr>\n",
       "      <th>3195</th>\n",
       "      <td>Very big of you, @MarcoRubio. #RNCinCLE https://t.co/1aVwsiIRpK</td>\n",
       "      <td>2016-07-21 01:32:47</td>\n",
       "      <td>TweetDeck</td>\n",
       "      <td>None</td>\n",
       "      <td>False</td>\n",
       "    </tr>\n",
       "    <tr>\n",
       "      <th>3196</th>\n",
       "      <td>Neo-Nazis, white supremacists, and anti-Semites: three groups @realDonaldTrump is bringing together.\\nhttps://t.co/I4aaPQgqbn</td>\n",
       "      <td>2016-07-21 01:02:48</td>\n",
       "      <td>Twitter Web Client</td>\n",
       "      <td>None</td>\n",
       "      <td>False</td>\n",
       "    </tr>\n",
       "    <tr>\n",
       "      <th>3197</th>\n",
       "      <td>RT @Hillary_esp: Aplaudo al 5to Circuito por bloquear la ley de ID del votante en Texas, de las más restrictivas. Facilitemos el voto, no l…</td>\n",
       "      <td>2016-07-21 00:31:59</td>\n",
       "      <td>TweetDeck</td>\n",
       "      <td>None</td>\n",
       "      <td>False</td>\n",
       "    </tr>\n",
       "    <tr>\n",
       "      <th>3198</th>\n",
       "      <td>Fact check: The #RNCinCLE speakers are lying to America—at least 67 times so far. https://t.co/KlfQ71l6Tn</td>\n",
       "      <td>2016-07-21 00:09:30</td>\n",
       "      <td>TweetDeck</td>\n",
       "      <td>None</td>\n",
       "      <td>False</td>\n",
       "    </tr>\n",
       "    <tr>\n",
       "      <th>3199</th>\n",
       "      <td>Hillary on the passing of Rep. Mark Takai. https://t.co/wzVKFaUF1y</td>\n",
       "      <td>2016-07-20 23:39:32</td>\n",
       "      <td>TweetDeck</td>\n",
       "      <td>None</td>\n",
       "      <td>False</td>\n",
       "    </tr>\n",
       "    <tr>\n",
       "      <th>3200</th>\n",
       "      <td>I applaud the 5th Circuit for blocking Texas's voter ID law—one of the most restrictive in America. Let's make voting easier, not harder. -H</td>\n",
       "      <td>2016-07-20 23:20:45</td>\n",
       "      <td>TweetDeck</td>\n",
       "      <td>None</td>\n",
       "      <td>True</td>\n",
       "    </tr>\n",
       "    <tr>\n",
       "      <th>3201</th>\n",
       "      <td>Whose rights has Mike Pence restricted?\\n✓Women\\n✓Immigrants\\n✓LGBT people https://t.co/mpWiUDRvxM</td>\n",
       "      <td>2016-07-20 22:53:09</td>\n",
       "      <td>TweetDeck</td>\n",
       "      <td>None</td>\n",
       "      <td>False</td>\n",
       "    </tr>\n",
       "    <tr>\n",
       "      <th>3202</th>\n",
       "      <td>Trump or Pence: Who said it worse? It's a close call. https://t.co/1SgYUICguz</td>\n",
       "      <td>2016-07-20 22:17:04</td>\n",
       "      <td>TweetDeck</td>\n",
       "      <td>None</td>\n",
       "      <td>False</td>\n",
       "    </tr>\n",
       "    <tr>\n",
       "      <th>3203</th>\n",
       "      <td>What our president says matters. We can't let @realDonaldTrump's hateful words speak for us. https://t.co/L8WymYbvls</td>\n",
       "      <td>2016-07-20 21:05:01</td>\n",
       "      <td>TweetDeck</td>\n",
       "      <td>None</td>\n",
       "      <td>False</td>\n",
       "    </tr>\n",
       "    <tr>\n",
       "      <th>3204</th>\n",
       "      <td>This week in 1848, the Seneca Falls Convention declared that women deserve equal rights.\\n\\n168 years later... https://t.co/h0TXCr4Rn4</td>\n",
       "      <td>2016-07-20 20:16:10</td>\n",
       "      <td>TweetDeck</td>\n",
       "      <td>None</td>\n",
       "      <td>False</td>\n",
       "    </tr>\n",
       "    <tr>\n",
       "      <th>3205</th>\n",
       "      <td>RT @SenGillibrand: .@HillaryClinton is committed to working to overturn disastrous #CitizensUnited decision within her first 30 days. https…</td>\n",
       "      <td>2016-07-20 19:36:13</td>\n",
       "      <td>TweetDeck</td>\n",
       "      <td>None</td>\n",
       "      <td>False</td>\n",
       "    </tr>\n",
       "    <tr>\n",
       "      <th>3206</th>\n",
       "      <td>Last night's #RNCinCLE theme: \"Make America Work* Again\"\\n\\n*Instructions not included https://t.co/r1sIlw7XFY</td>\n",
       "      <td>2016-07-20 19:11:00</td>\n",
       "      <td>TweetDeck</td>\n",
       "      <td>None</td>\n",
       "      <td>False</td>\n",
       "    </tr>\n",
       "    <tr>\n",
       "      <th>3207</th>\n",
       "      <td>RT @Hillary_esp: Le presentamos ¡Hillary en español!, una nueva cuenta para compartirles información sobre esta campaña presidencial. https…</td>\n",
       "      <td>2016-07-20 18:34:01</td>\n",
       "      <td>TweetDeck</td>\n",
       "      <td>None</td>\n",
       "      <td>False</td>\n",
       "    </tr>\n",
       "    <tr>\n",
       "      <th>3208</th>\n",
       "      <td>Trump says he'd run the U.S. like his businesses.\\n\\nWhich pretty much means letting America go bankrupt. https://t.co/2aEDjaNX0M</td>\n",
       "      <td>2016-07-20 17:46:01</td>\n",
       "      <td>TweetDeck</td>\n",
       "      <td>None</td>\n",
       "      <td>False</td>\n",
       "    </tr>\n",
       "    <tr>\n",
       "      <th>3209</th>\n",
       "      <td>\"I will bring people together.\" —@realDonaldTrump\\n\\nYeah, we don't think so.\\nhttps://t.co/ckcYkBz8Tx</td>\n",
       "      <td>2016-07-20 16:30:07</td>\n",
       "      <td>Twitter Web Client</td>\n",
       "      <td>None</td>\n",
       "      <td>False</td>\n",
       "    </tr>\n",
       "    <tr>\n",
       "      <th>3210</th>\n",
       "      <td>\"He won me over with that Mexican rapist speech.\" —Ann Coulter on Donald Trump https://t.co/GTNOhKYMA2</td>\n",
       "      <td>2016-07-20 15:03:13</td>\n",
       "      <td>TweetDeck</td>\n",
       "      <td>None</td>\n",
       "      <td>False</td>\n",
       "    </tr>\n",
       "    <tr>\n",
       "      <th>3211</th>\n",
       "      <td>Trump doesn't represent us or our values. Join the 100,000 people who have already signed our letter if you agree: https://t.co/1ftZ6mCAHZ</td>\n",
       "      <td>2016-07-20 14:22:32</td>\n",
       "      <td>TweetDeck</td>\n",
       "      <td>None</td>\n",
       "      <td>False</td>\n",
       "    </tr>\n",
       "    <tr>\n",
       "      <th>3212</th>\n",
       "      <td>Five disturbing things the GOP officially stands for (yes, in 2016): https://t.co/YpwVUr5Fow</td>\n",
       "      <td>2016-07-20 13:03:46</td>\n",
       "      <td>TweetDeck</td>\n",
       "      <td>None</td>\n",
       "      <td>False</td>\n",
       "    </tr>\n",
       "    <tr>\n",
       "      <th>3213</th>\n",
       "      <td>On the #RNCinCLE's \"economy night,\" here's everything we learned about Donald Trump's economic plan: https://t.co/GI51bfZtQS</td>\n",
       "      <td>2016-07-20 11:59:33</td>\n",
       "      <td>TweetDeck</td>\n",
       "      <td>None</td>\n",
       "      <td>False</td>\n",
       "    </tr>\n",
       "    <tr>\n",
       "      <th>3214</th>\n",
       "      <td>So...what exactly did we learn tonight about Donald Trump's economic plan? #RNCinCLE\\nhttps://t.co/GI51bfHSsi</td>\n",
       "      <td>2016-07-20 03:09:24</td>\n",
       "      <td>Twitter Web Client</td>\n",
       "      <td>None</td>\n",
       "      <td>False</td>\n",
       "    </tr>\n",
       "    <tr>\n",
       "      <th>3215</th>\n",
       "      <td>Yeah, Donald Trump has been a real gem to working women. #RNCinCLE https://t.co/LmUZI1J8KQ</td>\n",
       "      <td>2016-07-20 02:54:40</td>\n",
       "      <td>TweetDeck</td>\n",
       "      <td>None</td>\n",
       "      <td>False</td>\n",
       "    </tr>\n",
       "    <tr>\n",
       "      <th>3216</th>\n",
       "      <td>It's not brain surgery: Republicans tend to be a bit more truth-y when the presidency isn't on the line. #RNCinCLE https://t.co/LX3y5Iq7p7</td>\n",
       "      <td>2016-07-20 02:37:10</td>\n",
       "      <td>TweetDeck</td>\n",
       "      <td>None</td>\n",
       "      <td>False</td>\n",
       "    </tr>\n",
       "  </tbody>\n",
       "</table>\n",
       "<p>3217 rows × 5 columns</p>\n",
       "</div>"
      ],
      "text/plain": [
       "                                                                                                                                                       text  \\\n",
       "0                                 .@MichaelNutter got a lot of great points into 140 characters here. We have to keep the momentum. https://t.co/Bd66lBPMEs   \n",
       "1                    Scrolling through images of the #womensmarch is awe-inspiring. Hope it brought joy to others as it did to me.\\nhttps://t.co/29oaMvk3hU   \n",
       "2              I stand w/ Nora Harren, a 17-year  from Boise, ID, &amp; every person marching for our values today. Onward! ✊✊🏾✊🏽✨… https://t.co/Zt8THPtAn8   \n",
       "3                                  'Hope Not Fear'\\nIndeed. \\nAnd what a beautiful piece by Louisa Cannell. \\n#womensmarch 👊👊🏻👊🏼👊🏽✨ https://t.co/7h3Bzx79nB   \n",
       "4              Thanks for standing, speaking &amp; marching for our values @womensmarch. Important as ever. I truly believe we're always Stronger Together.   \n",
       "5               I'm here today to honor our democracy &amp; its enduring values. I will never stop believing in our country &amp; its future. #Inauguration   \n",
       "6     Indeed. Bill &amp; I have you in our thoughts &amp; look forward to you both being back on your feet soon, wild socks &amp; all… https://t.co/yUWS...   \n",
       "7        Delighted that @NYGovCuomo proposed free college for ppl making &lt;125K in NY. A plan @SenSanders &amp; I worked hard on. https://t.co/V0aXjhxKpm   \n",
       "8       The holidays are a time to be thankful for our blessings. Let's rejoice in this season &amp; look forward with renewed hope &amp; determination. -H   \n",
       "9                                     RT @marceelias: I just published “Listening and Responding To Calls for an Audit and Recount” https://t.co/rHqtUEioso   \n",
       "10              I was greeted by this heartwarming display on the corner of my street today. Thank you to all of you who did this.… https://t.co/fWPOa4Bgzc   \n",
       "11                                              Hoping everyone has a safe &amp; Happy Thanksgiving today, &amp; quality time with family &amp; friends. -H   \n",
       "12             Looking forward to honoring some brave young people tonight at @ChildDefender where I started my career. Tune in: https://t.co/4gmaM2A9Dx -H   \n",
       "13              Scripture tells us: Let us not grow weary in doing good, for in due season, we shall reap, if we do not lose heart. https://t.co/snXfdLgZq8   \n",
       "14               “Let us have faith in each other. Let us not grow weary. Let us not lose heart. For there are more seasons to come and...more work to do.”   \n",
       "15                                   “We are stronger together and will go forward together. And you should never, ever regret fighting for that.” —Hillary   \n",
       "16                                   “I am grateful to our country for all it has given me. I count my blessings every day that I am an American.” —Hillary   \n",
       "17      \"To all the little girls watching...never doubt that you are valuable and powerful &amp; deserving of every chance &amp; opportunity in the world.\"   \n",
       "18                                          \"We have still have not shattered that highest and hardest glass ceiling. But some day, someone will.\" —Hillary   \n",
       "19                     \"To all the women...who put their faith in this campaign and in me...nothing has made me prouder than to be your champion.\" —Hillary   \n",
       "20                                                  \"This loss hurts. But please never stop believing that fighting for what’s right is worth it.\" —Hillary   \n",
       "21             \"To Bill, Chelsea, Marc, Charlotte, Aidan, our brothers, and our entire family—my love for you means more than I can ever express.\" —Hillary   \n",
       "22               \"To Barack and Michelle Obama, our country owes you an enormous debt of gratitude. We thank you for your graceful, determined leadership.”   \n",
       "23                                                             \"I want to thank Tim Kaine and Anne Holton for being our partners on this journey.\" —Hillary   \n",
       "24                  \"Our responsibility as citizens is to keep doing our part to build that better, stronger, fairer America we seek. And I know you will.”   \n",
       "25                                          \"Our constitutional democracy demands our participation, not just every four years, but all the time.\" —Hillary   \n",
       "26                                                    “Donald Trump is going to be our president. We owe him an open mind and the chance to lead.” —Hillary   \n",
       "27                        \"We have seen that our nation is more deeply divided than we thought. But I still believe in America—and I always will.\" —Hillary   \n",
       "28                  \"I want you to remember this: Our campaign was never about one person or even one election. It was about the country we love.” —Hillary   \n",
       "29                           “You represent the best of America, and being your candidate has been one of the greatest honors of my life.” —Hillary to @HFA   \n",
       "...                                                                                                                                                     ...   \n",
       "3187                    Donald Trump chose one of the most anti-LGBT politicians in the country to be his Vice President. #RNCinCLE https://t.co/krj1yThzKp   \n",
       "3188                        A few things you should know about Trump's V̶P̶ ̶p̶i̶c̶k̶ convention speaker, Newt Gingrich. #RNCinCLE\\nhttps://t.co/6oIENhBl93   \n",
       "3189                              RT @TheBriefing2016: Newt once compared Planned Parenthood to ISIS. Yeah. https://t.co/84WmkbkfTl https://t.co/aR9ILeGMCa   \n",
       "3190                                    RT @Hillary_esp: Y ahora le toca el turno en la convención republicana a... ¡Newt Gingrich! https://t.co/lj490zwvfb   \n",
       "3191                           We made this when we thought Newt might be Trump’s VP pick. He wasn’t. Here you go anyway! #RNCinCLE https://t.co/HGZ55tJpTY   \n",
       "3192       RT @TheBriefing2016: A speaker tonight said that Donald Trump always pays his bills.\\n\\nAnnnd that claim just got rated false. \\n\\n#RNCINCLE ht…   \n",
       "3193                    RT @TheBriefing2016: Ted Cruz once called Donald Trump a pathological liar. And yet...here he is. #RNCinCLE https://t.co/ZfTFm1qy5Q   \n",
       "3194                \"Pathological liar.\"\\n\"Out of a psychology textbook.\"\\n\"Narcissist.\" —@tedcruz on Trump, 78 days ago #RNCinCLE\\nhttps://t.co/sQOnXYpKdE   \n",
       "3195                                                                                        Very big of you, @MarcoRubio. #RNCinCLE https://t.co/1aVwsiIRpK   \n",
       "3196                          Neo-Nazis, white supremacists, and anti-Semites: three groups @realDonaldTrump is bringing together.\\nhttps://t.co/I4aaPQgqbn   \n",
       "3197           RT @Hillary_esp: Aplaudo al 5to Circuito por bloquear la ley de ID del votante en Texas, de las más restrictivas. Facilitemos el voto, no l…   \n",
       "3198                                              Fact check: The #RNCinCLE speakers are lying to America—at least 67 times so far. https://t.co/KlfQ71l6Tn   \n",
       "3199                                                                                     Hillary on the passing of Rep. Mark Takai. https://t.co/wzVKFaUF1y   \n",
       "3200           I applaud the 5th Circuit for blocking Texas's voter ID law—one of the most restrictive in America. Let's make voting easier, not harder. -H   \n",
       "3201                                                     Whose rights has Mike Pence restricted?\\n✓Women\\n✓Immigrants\\n✓LGBT people https://t.co/mpWiUDRvxM   \n",
       "3202                                                                          Trump or Pence: Who said it worse? It's a close call. https://t.co/1SgYUICguz   \n",
       "3203                                   What our president says matters. We can't let @realDonaldTrump's hateful words speak for us. https://t.co/L8WymYbvls   \n",
       "3204                 This week in 1848, the Seneca Falls Convention declared that women deserve equal rights.\\n\\n168 years later... https://t.co/h0TXCr4Rn4   \n",
       "3205           RT @SenGillibrand: .@HillaryClinton is committed to working to overturn disastrous #CitizensUnited decision within her first 30 days. https…   \n",
       "3206                                         Last night's #RNCinCLE theme: \"Make America Work* Again\"\\n\\n*Instructions not included https://t.co/r1sIlw7XFY   \n",
       "3207           RT @Hillary_esp: Le presentamos ¡Hillary en español!, una nueva cuenta para compartirles información sobre esta campaña presidencial. https…   \n",
       "3208                      Trump says he'd run the U.S. like his businesses.\\n\\nWhich pretty much means letting America go bankrupt. https://t.co/2aEDjaNX0M   \n",
       "3209                                                 \"I will bring people together.\" —@realDonaldTrump\\n\\nYeah, we don't think so.\\nhttps://t.co/ckcYkBz8Tx   \n",
       "3210                                                 \"He won me over with that Mexican rapist speech.\" —Ann Coulter on Donald Trump https://t.co/GTNOhKYMA2   \n",
       "3211             Trump doesn't represent us or our values. Join the 100,000 people who have already signed our letter if you agree: https://t.co/1ftZ6mCAHZ   \n",
       "3212                                                           Five disturbing things the GOP officially stands for (yes, in 2016): https://t.co/YpwVUr5Fow   \n",
       "3213                           On the #RNCinCLE's \"economy night,\" here's everything we learned about Donald Trump's economic plan: https://t.co/GI51bfZtQS   \n",
       "3214                                          So...what exactly did we learn tonight about Donald Trump's economic plan? #RNCinCLE\\nhttps://t.co/GI51bfHSsi   \n",
       "3215                                                             Yeah, Donald Trump has been a real gem to working women. #RNCinCLE https://t.co/LmUZI1J8KQ   \n",
       "3216             It's not brain surgery: Republicans tend to be a bit more truth-y when the presidency isn't on the line. #RNCinCLE https://t.co/LX3y5Iq7p7   \n",
       "\n",
       "              created_at              source contributors is_personal  \n",
       "0    2017-01-23 00:20:14  Twitter for iPhone         None       False  \n",
       "1    2017-01-23 00:18:36  Twitter for iPhone         None       False  \n",
       "2    2017-01-21 20:27:17  Twitter for iPhone         None       False  \n",
       "3    2017-01-21 16:39:53  Twitter for iPhone         None       False  \n",
       "4    2017-01-21 15:07:21  Twitter for iPhone         None       False  \n",
       "5    2017-01-20 15:53:50  Twitter for iPhone         None       False  \n",
       "6    2017-01-19 00:00:19  Twitter for iPhone         None       False  \n",
       "7    2017-01-03 23:28:01  Twitter for iPhone         None       False  \n",
       "8    2016-12-26 21:37:34  Twitter for iPhone         None        True  \n",
       "9    2016-11-27 03:51:21  Twitter for iPhone         None       False  \n",
       "10   2016-11-24 20:40:17  Twitter for iPhone         None       False  \n",
       "11   2016-11-24 20:37:00  Twitter for iPhone         None        True  \n",
       "12   2016-11-17 00:15:53  Twitter for iPhone         None        True  \n",
       "13   2016-11-09 18:55:10           TweetDeck         None       False  \n",
       "14   2016-11-09 16:53:19           TweetDeck         None       False  \n",
       "15   2016-11-09 16:53:02           TweetDeck         None       False  \n",
       "16   2016-11-09 16:52:19           TweetDeck         None       False  \n",
       "17   2016-11-09 16:51:59           TweetDeck         None       False  \n",
       "18   2016-11-09 16:51:46           TweetDeck         None       False  \n",
       "19   2016-11-09 16:50:46           TweetDeck         None       False  \n",
       "20   2016-11-09 16:50:23           TweetDeck         None       False  \n",
       "21   2016-11-09 16:47:31           TweetDeck         None       False  \n",
       "22   2016-11-09 16:47:13           TweetDeck         None       False  \n",
       "23   2016-11-09 16:45:58           TweetDeck         None       False  \n",
       "24   2016-11-09 16:45:42           TweetDeck         None       False  \n",
       "25   2016-11-09 16:44:28           TweetDeck         None       False  \n",
       "26   2016-11-09 16:43:34           TweetDeck         None       False  \n",
       "27   2016-11-09 16:43:20           TweetDeck         None       False  \n",
       "28   2016-11-09 16:43:06           TweetDeck         None       False  \n",
       "29   2016-11-09 16:42:39           TweetDeck         None       False  \n",
       "...                  ...                 ...          ...         ...  \n",
       "3187 2016-07-21 02:40:37           TweetDeck         None       False  \n",
       "3188 2016-07-21 02:26:46  Twitter Web Client         None       False  \n",
       "3189 2016-07-21 02:24:10           TweetDeck         None       False  \n",
       "3190 2016-07-21 02:22:37           TweetDeck         None       False  \n",
       "3191 2016-07-21 02:21:16           TweetDeck         None       False  \n",
       "3192 2016-07-21 02:14:09           TweetDeck         None       False  \n",
       "3193 2016-07-21 01:42:29           TweetDeck         None       False  \n",
       "3194 2016-07-21 01:33:38  Twitter Web Client         None       False  \n",
       "3195 2016-07-21 01:32:47           TweetDeck         None       False  \n",
       "3196 2016-07-21 01:02:48  Twitter Web Client         None       False  \n",
       "3197 2016-07-21 00:31:59           TweetDeck         None       False  \n",
       "3198 2016-07-21 00:09:30           TweetDeck         None       False  \n",
       "3199 2016-07-20 23:39:32           TweetDeck         None       False  \n",
       "3200 2016-07-20 23:20:45           TweetDeck         None        True  \n",
       "3201 2016-07-20 22:53:09           TweetDeck         None       False  \n",
       "3202 2016-07-20 22:17:04           TweetDeck         None       False  \n",
       "3203 2016-07-20 21:05:01           TweetDeck         None       False  \n",
       "3204 2016-07-20 20:16:10           TweetDeck         None       False  \n",
       "3205 2016-07-20 19:36:13           TweetDeck         None       False  \n",
       "3206 2016-07-20 19:11:00           TweetDeck         None       False  \n",
       "3207 2016-07-20 18:34:01           TweetDeck         None       False  \n",
       "3208 2016-07-20 17:46:01           TweetDeck         None       False  \n",
       "3209 2016-07-20 16:30:07  Twitter Web Client         None       False  \n",
       "3210 2016-07-20 15:03:13           TweetDeck         None       False  \n",
       "3211 2016-07-20 14:22:32           TweetDeck         None       False  \n",
       "3212 2016-07-20 13:03:46           TweetDeck         None       False  \n",
       "3213 2016-07-20 11:59:33           TweetDeck         None       False  \n",
       "3214 2016-07-20 03:09:24  Twitter Web Client         None       False  \n",
       "3215 2016-07-20 02:54:40           TweetDeck         None       False  \n",
       "3216 2016-07-20 02:37:10           TweetDeck         None       False  \n",
       "\n",
       "[3217 rows x 5 columns]"
      ]
     },
     "execution_count": 22,
     "metadata": {},
     "output_type": "execute_result"
    }
   ],
   "source": [
    "def is_clinton(tweet):\n",
    "    \"\"\"Distinguishes between tweets by Clinton and tweets by her aides.\n",
    "    \n",
    "    Args:\n",
    "        tweet (Status): One tweet.\n",
    "    \n",
    "    Returns:\n",
    "        bool: True if the tweet is written by Clinton herself.\"\"\"\n",
    "    \n",
    "    text = extract_text(tweet)\n",
    "    return text.endswith(\"-H\")\n",
    "\n",
    "clinton_df[\"is_personal\"] = [is_clinton(clinton_tweets[i]) for i in range(len(clinton_tweets))]\n",
    "clinton_df"
   ]
  },
  {
   "cell_type": "markdown",
   "metadata": {},
   "source": [
    "Now we have identified Clinton's personal tweets.  Let us return to our analysis of sources and see if there was any pattern we could have found.\n",
    "\n",
    "You may recall that Tables from Data 8 have a method called `pivot`, which is useful for cross-classifying a dataset on two categorical attrbiutes.  DataFrames support a more complicated version of pivoting.  The cell below pivots `clinton_df` for you."
   ]
  },
  {
   "cell_type": "code",
   "execution_count": 23,
   "metadata": {
    "collapsed": false
   },
   "outputs": [
    {
     "data": {
      "text/html": [
       "<div>\n",
       "<table border=\"1\" class=\"dataframe\">\n",
       "  <thead>\n",
       "    <tr style=\"text-align: right;\">\n",
       "      <th>is_personal</th>\n",
       "      <th>False</th>\n",
       "      <th>True</th>\n",
       "    </tr>\n",
       "    <tr>\n",
       "      <th>source</th>\n",
       "      <th></th>\n",
       "      <th></th>\n",
       "    </tr>\n",
       "  </thead>\n",
       "  <tbody>\n",
       "    <tr>\n",
       "      <th>Media Studio</th>\n",
       "      <td>207</td>\n",
       "      <td>0</td>\n",
       "    </tr>\n",
       "    <tr>\n",
       "      <th>TweetDeck</th>\n",
       "      <td>2418</td>\n",
       "      <td>31</td>\n",
       "    </tr>\n",
       "    <tr>\n",
       "      <th>Twitter Web Client</th>\n",
       "      <td>471</td>\n",
       "      <td>14</td>\n",
       "    </tr>\n",
       "    <tr>\n",
       "      <th>Twitter for iPhone</th>\n",
       "      <td>70</td>\n",
       "      <td>6</td>\n",
       "    </tr>\n",
       "  </tbody>\n",
       "</table>\n",
       "</div>"
      ],
      "text/plain": [
       "is_personal         False  True\n",
       "source                         \n",
       "Media Studio          207     0\n",
       "TweetDeck            2418    31\n",
       "Twitter Web Client    471    14\n",
       "Twitter for iPhone     70     6"
      ]
     },
     "execution_count": 23,
     "metadata": {},
     "output_type": "execute_result"
    }
   ],
   "source": [
    "# This cell is filled in for you; just run it and examine the output.\n",
    "def pivot_count(df, vertical_column, horizontal_column):\n",
    "    \"\"\"Cross-classifies df on two columns.\"\"\"\n",
    "    pivoted = pd.pivot_table(df[[vertical_column, horizontal_column]], index=[vertical_column], columns=[horizontal_column], aggfunc=len, fill_value=0)\n",
    "    return pivoted.rename(columns={False: \"False\", True: \"True\"})\n",
    "\n",
    "clinton_pivoted = pivot_count(clinton_df, 'source', 'is_personal')\n",
    "clinton_pivoted"
   ]
  },
  {
   "cell_type": "markdown",
   "metadata": {},
   "source": [
    "Do Clinton and her aides have different \"signatures\" of tweet sources?  That is, for each tweet they send, does Clinton send tweets from each source with roughly the same frequency as her aides?  It's a little hard to tell from the pivoted table alone."
   ]
  },
  {
   "cell_type": "markdown",
   "metadata": {},
   "source": [
    "#### Question 9\n",
    "Create a visualization to facilitate that comparison.\n",
    "\n",
    "*Hint:* `df.plot.barh` works for DataFrames, too.  But think about what data you want to plot."
   ]
  },
  {
   "cell_type": "code",
   "execution_count": 24,
   "metadata": {
    "collapsed": false,
    "for_assignment_type": "student"
   },
   "outputs": [
    {
     "data": {
      "text/plain": [
       "<matplotlib.axes._subplots.AxesSubplot at 0x11abe7908>"
      ]
     },
     "execution_count": 24,
     "metadata": {},
     "output_type": "execute_result"
    },
    {
     "data": {
      "image/png": "[encoded data removed]",
      "text/plain": [
       "<matplotlib.figure.Figure at 0x11abb96d8>"
      ]
     },
     "metadata": {},
     "output_type": "display_data"
    }
   ],
   "source": [
    "clinton_pivoted_proportions = pd.DataFrame()\n",
    "clinton_pivoted_proportions[\"False\"] = clinton_pivoted[\"False\"]/np.sum(clinton_pivoted[\"False\"])\n",
    "clinton_pivoted_proportions[\"True\"] = clinton_pivoted[\"True\"]/np.sum(clinton_pivoted[\"True\"])\n",
    "\n",
    "clinton_pivoted_proportions.plot.barh()"
   ]
  },
  {
   "cell_type": "markdown",
   "metadata": {},
   "source": [
    "You should see that there are some differences, but they aren't large.  Do we need to worry that the differences (or lack thereof) are just \"due to chance\"?\n",
    "\n",
    "Statistician Ani argues as follows:\n",
    "\n",
    "> \"The tweets we see are not a random sample from anything.  We have simply gathered every tweet by @HillaryClinton from the last several months.  It is therefore meaningless to compute, for example, a confidence interval for the rate at which Clinton used TweetDeck.  We have calculated exactly that rate from the data we have.\"\n",
    "\n",
    "Statistician Belinda responds:\n",
    "\n",
    "> \"We are interested in whether Clinton and her aides *behave differently in general* with respect to Twitter client usage in a way that we could use to identify their tweets.  It's plausible to imagine that the tweets we see are a random sample from a huge unobserved population of all the tweets Clinton and her aides *might send*.  We must worry about error due to random chance when we draw conclusions about this population using only the data we have available.\""
   ]
  },
  {
   "cell_type": "markdown",
   "metadata": {},
   "source": [
    "#### Question 10\n",
    "What position would you take on this question?  Choose a side and give one (brief) argument for it, or argue for some third position."
   ]
  },
  {
   "cell_type": "markdown",
   "metadata": {},
   "source": [
    "*I agree with Statistician Belinda. Since we are interested in whether Clinton and her aides behave differently in general with respect to Twitter client usage, just computing the proportions as is isn't enough. What we need to do now is perform a simulation where our null hypothesis assumes that there is no difference in tweet behavior between Clinton and her aides. If there is a difference, we would be able to tell based on the trends of our simulated samples. So yes, we do need to worry that the differences because it might not be due to chance, in which case we would have a better idea of which sources Hillary herself tends to use.*"
   ]
  },
  {
   "cell_type": "markdown",
   "metadata": {},
   "source": [
    "#### Question 11\n",
    "Assume you are convinced by Belinda's argument.  Perform a statistical test of the null hypothesis that the Clinton and aide tweets' sources are all independent samples from the same distribution (that is, that the differences we observe are \"due to chance\").  Briefly describe the test methodology and report your results.\n",
    "\n",
    "*Hint:* If you need a refresher, [this section](https://www.inferentialthinking.com/chapters/16/1/two-categorical-distributions.html) of the Data 8 textbook from Fall 2016 covered this kind of hypothesis test.\n",
    "\n",
    "*Hint 2:* Feel free to use `datascience.Table` to answer this question.  However, it will be advantageous to learn how to do it with `numpy` alone.  In our solution, we used some `numpy` functions you might not be aware of: `np.append`, `np.random.permutation`, `np.bincount`, and `np.count_nonzero`.  We have provided the function `expand_counts`, which should help you solve a tricky problem that will arise."
   ]
  },
  {
   "cell_type": "code",
   "execution_count": 25,
   "metadata": {
    "collapsed": false,
    "for_assignment_type": "student"
   },
   "outputs": [
    {
     "name": "stdout",
     "output_type": "stream",
     "text": [
      "Observed TVD: 0.221278783149\n",
      "P-value: 0.0004\n"
     ]
    },
    {
     "data": {
      "image/png": "[encoded data removed]",
      "text/plain": [
       "<matplotlib.figure.Figure at 0x11e1947f0>"
      ]
     },
     "metadata": {},
     "output_type": "display_data"
    }
   ],
   "source": [
    "# Use this cell to perform your hypothesis test.\n",
    "\n",
    "# This function is provided for your convenience.  It's okay\n",
    "# if you don't use it.\n",
    "def expand_counts(source_counts):\n",
    "    \"\"\"'Blow up' a list/array of counts of categories into an array of\n",
    "    individuals matching the counts.  This is the inverse of np.bincount\n",
    "    (with some technical caveats: only if the order of the individuals\n",
    "    doesn't matter and each category has at least one count).\n",
    "    \n",
    "    For example, we can generate a list of two individuals of type 0,\n",
    "    four of type 1, zero of type 2, and one of type 3 as follows:\n",
    "    \n",
    "    >>> expand_counts([2, 4, 0, 1])\n",
    "    array([0, 0, 1, 1, 1, 1, 3])\"\"\"\n",
    "    return np.repeat(np.arange(len(source_counts)), source_counts)\n",
    "\n",
    "# Create a dataframe with only the columns we want\n",
    "new_clinton_df = clinton_df.loc[:, [\"is_personal\", \"source\"]]\n",
    "\n",
    "# Define our test statistic\n",
    "def tvd(dist1, dist2):\n",
    "    return 0.5*(np.sum(np.abs(dist1 - dist2)))\n",
    "\n",
    "# Calulate our observed test statistic\n",
    "observed_tvd = tvd(clinton_pivoted[\"False\"]/np.sum(clinton_pivoted[\"False\"]), \\\n",
    "                   clinton_pivoted[\"True\"]/np.sum(clinton_pivoted[\"True\"]))\n",
    "print('Observed TVD:', observed_tvd)\n",
    "\n",
    "# Start the simulation\n",
    "repetitions = 5000\n",
    "tvds = []\n",
    "\n",
    "new_clinton_df\n",
    "for i in np.arange(repetitions):\n",
    "    shuffled_source = np.random.permutation(new_clinton_df[\"source\"])\n",
    "    new_clinton_df[\"shuffled sources\"] = shuffled_source\n",
    "    shuffled_counts = pivot_count(new_clinton_df, 'shuffled sources', 'is_personal')\n",
    "    new_tvd = tvd(shuffled_counts[\"False\"]/np.sum(shuffled_counts[\"False\"]), \\\n",
    "                  shuffled_counts[\"True\"]/np.sum(shuffled_counts[\"True\"]))\n",
    "    tvds = np.append(tvds, new_tvd)\n",
    "    \n",
    "plt.hist(tvds)\n",
    "\n",
    "print('P-value:', sum(tvds >= observed_tvd)/repetitions)"
   ]
  },
  {
   "cell_type": "markdown",
   "metadata": {},
   "source": [
    "*Based on the p-value I calculated above, it is pretty clear that we can reject the null hypothesis and conclude that Clinton's and her aide's tweets' sources are NOT all independent samples from the same distribution, so this is NOT due to chance. In the simulation above, I took 5000 random permutations of the data, calculated their test statistics using the tvd (total varation distance, which compares two distributions), and plotted a histogram of those tvds. Seeing as our observed test statistic is no where near the bulk of the data, it is pretty safe to assume that our null hypothesis is false, so we accept the alternative.*"
   ]
  },
  {
   "cell_type": "markdown",
   "metadata": {},
   "source": [
    "#### Question 12\n",
    "Suppose you sample a random @HillaryClinton tweet and find that it is from the Twitter Web Client.  Your visualization in question 9 should show you that Clinton tweets from this source about twice as frequently as her aides do, so you might imagine it's reasonable to predict that the tweet is by Clinton.  But what is the probability that the tweet is by Clinton?  (You should find a relatively small number.  Clinton's aides tweet much more than she does.  So even though there is a difference in their tweet source usage, it would be difficult to classify tweets this way.)\n",
    "\n",
    "*Hint:* Bayes' rule is covered in [this section](https://www.inferentialthinking.com/chapters/17/1/more-likely-than-not-binary-classifier.html) of the Data 8 textbook."
   ]
  },
  {
   "cell_type": "code",
   "execution_count": 26,
   "metadata": {
    "collapsed": false
   },
   "outputs": [
    {
     "data": {
      "text/plain": [
       "0.028865979381443307"
      ]
     },
     "execution_count": 26,
     "metadata": {},
     "output_type": "execute_result"
    }
   ],
   "source": [
    "prob_web_given_clinton = clinton_pivoted_proportions.iloc[2,1]\n",
    "prob_clinton = np.sum(clinton_pivoted[\"True\"])/(np.sum(clinton_pivoted[\"True\"])+np.sum(clinton_pivoted[\"False\"]))\n",
    "prob_aides = 1 - prob_clinton\n",
    "prob_web_given_aides = clinton_pivoted.iloc[2,0]/np.sum(clinton_pivoted[\"False\"])\n",
    "\n",
    "probability_clinton = (prob_web_given_clinton*prob_clinton)/(prob_web_given_clinton*prob_clinton + prob_web_given_aides*prob_aides)\n",
    "probability_clinton"
   ]
  },
  {
   "cell_type": "code",
   "execution_count": 27,
   "metadata": {
    "collapsed": false
   },
   "outputs": [
    {
     "name": "stdout",
     "output_type": "stream",
     "text": [
      "~~~~~~~~~~~~~~~~~~~~~~~~~~~~~~~~~~~~~~~~~~~~~~~~~~~~~~~~~~~~~~~~~~~~~\n",
      "Running tests\n",
      "\n",
      "---------------------------------------------------------------------\n",
      "Test summary\n",
      "    Passed: 1\n",
      "    Failed: 0\n",
      "[ooooooooook] 100.0% passed\n",
      "\n"
     ]
    },
    {
     "data": {
      "application/javascript": [
       "IPython.notebook.save_checkpoint();"
      ],
      "text/plain": [
       "<IPython.core.display.Javascript object>"
      ]
     },
     "metadata": {},
     "output_type": "display_data"
    },
    {
     "data": {
      "application/javascript": [
       "IPython.notebook.save_notebook();"
      ],
      "text/plain": [
       "<IPython.core.display.Javascript object>"
      ]
     },
     "metadata": {},
     "output_type": "display_data"
    },
    {
     "name": "stdout",
     "output_type": "stream",
     "text": [
      "Saving notebook... Saved 'hw2.ipynb'.\n",
      "Backup... 100% complete\n",
      "Backup successful for user: mikaelaklein@berkeley.edu\n",
      "URL: https://okpy.org/cal/data100/sp17/hw2/backups/n5QZLY\n",
      "NOTE: this is only a backup. To submit your assignment, use:\n",
      "\tpython3 ok --submit\n",
      "\n"
     ]
    }
   ],
   "source": [
    "_ = ok.grade('q12')\n",
    "_ = ok.backup()"
   ]
  },
  {
   "cell_type": "markdown",
   "metadata": {},
   "source": [
    "# Another candidate\n",
    "Our results so far aren't Earth-shattering.  Clinton uses different Twitter clients at slightly different rates than her aides.\n",
    "\n",
    "Now that we've categorized the tweets, we could of course investigate their contents.  A manual analysis (also known as \"reading\") might be interesting, but it is beyond the scope of this course.  And we'll have to wait a few more weeks before we can use a computer to help with such an analysis.\n",
    "\n",
    "Instead, let's repeat our analysis for Donald Trump."
   ]
  },
  {
   "cell_type": "markdown",
   "metadata": {},
   "source": [
    "#### Question 13\n",
    "Download the tweet data for Trump (@realDonaldTrump), and repeat the steps through question 6 to create a table called `trump_df`."
   ]
  },
  {
   "cell_type": "code",
   "execution_count": 28,
   "metadata": {
    "collapsed": false
   },
   "outputs": [],
   "source": [
    "import tweepy\n",
    "trump_tweets = get_tweets_with_cache(\"realDonaldTrump\", \"keys.json\")\n",
    "trump_df = make_dataframe(trump_tweets)"
   ]
  },
  {
   "cell_type": "code",
   "execution_count": 29,
   "metadata": {
    "collapsed": false
   },
   "outputs": [
    {
     "data": {
      "text/html": [
       "<div>\n",
       "<table border=\"1\" class=\"dataframe\">\n",
       "  <thead>\n",
       "    <tr style=\"text-align: right;\">\n",
       "      <th></th>\n",
       "      <th>text</th>\n",
       "      <th>created_at</th>\n",
       "      <th>source</th>\n",
       "      <th>contributors</th>\n",
       "    </tr>\n",
       "  </thead>\n",
       "  <tbody>\n",
       "    <tr>\n",
       "      <th>0</th>\n",
       "      <td>Enjoy the #SuperBowl and then we continue: MAKE AMERICA GREAT AGAIN!</td>\n",
       "      <td>2017-02-05 22:49:42</td>\n",
       "      <td>Twitter for Android</td>\n",
       "      <td>None</td>\n",
       "    </tr>\n",
       "    <tr>\n",
       "      <th>1</th>\n",
       "      <td>I have instructed Homeland Security to check people coming into our country VERY CAREFULLY. The courts are making the job very difficult!</td>\n",
       "      <td>2017-02-05 20:42:33</td>\n",
       "      <td>Twitter for Android</td>\n",
       "      <td>None</td>\n",
       "    </tr>\n",
       "    <tr>\n",
       "      <th>2</th>\n",
       "      <td>Just cannot  believe a judge would put our country in such peril. If something happens blame him and court system. People pouring in. Bad!</td>\n",
       "      <td>2017-02-05 20:39:05</td>\n",
       "      <td>Twitter for Android</td>\n",
       "      <td>None</td>\n",
       "    </tr>\n",
       "    <tr>\n",
       "      <th>3</th>\n",
       "      <td>The judge opens up our country to potential terrorists and others that do not have our best interests at heart. Bad people are very happy!</td>\n",
       "      <td>2017-02-05 00:48:12</td>\n",
       "      <td>Twitter for Android</td>\n",
       "      <td>None</td>\n",
       "    </tr>\n",
       "    <tr>\n",
       "      <th>4</th>\n",
       "      <td>Interview with @oreillyfactor on Fox Network - 4:00 P.M. (prior to Super Bowl). Enjoy!</td>\n",
       "      <td>2017-02-05 00:34:50</td>\n",
       "      <td>Twitter for Android</td>\n",
       "      <td>None</td>\n",
       "    </tr>\n",
       "  </tbody>\n",
       "</table>\n",
       "</div>"
      ],
      "text/plain": [
       "                                                                                                                                         text  \\\n",
       "0                                                                        Enjoy the #SuperBowl and then we continue: MAKE AMERICA GREAT AGAIN!   \n",
       "1   I have instructed Homeland Security to check people coming into our country VERY CAREFULLY. The courts are making the job very difficult!   \n",
       "2  Just cannot  believe a judge would put our country in such peril. If something happens blame him and court system. People pouring in. Bad!   \n",
       "3  The judge opens up our country to potential terrorists and others that do not have our best interests at heart. Bad people are very happy!   \n",
       "4                                                      Interview with @oreillyfactor on Fox Network - 4:00 P.M. (prior to Super Bowl). Enjoy!   \n",
       "\n",
       "           created_at               source contributors  \n",
       "0 2017-02-05 22:49:42  Twitter for Android         None  \n",
       "1 2017-02-05 20:42:33  Twitter for Android         None  \n",
       "2 2017-02-05 20:39:05  Twitter for Android         None  \n",
       "3 2017-02-05 00:48:12  Twitter for Android         None  \n",
       "4 2017-02-05 00:34:50  Twitter for Android         None  "
      ]
     },
     "execution_count": 29,
     "metadata": {},
     "output_type": "execute_result"
    }
   ],
   "source": [
    "trump_df.head()"
   ]
  },
  {
   "cell_type": "markdown",
   "metadata": {},
   "source": [
    "#### Question 14\n",
    "Make a bar chart of the sources of Trump tweets."
   ]
  },
  {
   "cell_type": "code",
   "execution_count": 30,
   "metadata": {
    "collapsed": false
   },
   "outputs": [
    {
     "data": {
      "text/plain": [
       "<matplotlib.axes._subplots.AxesSubplot at 0x11e35dc88>"
      ]
     },
     "execution_count": 30,
     "metadata": {},
     "output_type": "execute_result"
    },
    {
     "data": {
      "image/png": "[encoded data removed]",
      "text/plain": [
       "<matplotlib.figure.Figure at 0x11ac478d0>"
      ]
     },
     "metadata": {},
     "output_type": "display_data"
    }
   ],
   "source": [
    "trump_df['source'].value_counts().plot.barh()"
   ]
  },
  {
   "cell_type": "markdown",
   "metadata": {},
   "source": [
    "You should find two major sources of tweets.\n",
    "\n",
    "It is reported (for example, in [this Gawker article](http://gawker.com/our-trump-twitter-bot-filters-out-donald-trumps-new-han-1783906386)) that Trump himself uses an Android phone (a Samsung Galaxy), while his aides use iPhones.  But Trump has not confirmed this.  Also, he has reportedly [switched phones](http://indiatoday.intoday.in/technology/story/which-phone-will-president-donald-trump-use-a-blackberry-that-cant-even-click-pics/1/862350.html) since his inauguration!  How might we verify whether this is a way to identify his tweets?\n",
    "\n",
    "A retweet is a tweet that replies to (or simply repeats) a tweet by another user.  Twitter provides several mechanisms for this, as explained in [this article](https://blog.hubspot.com/blog/tabid/6307/bid/27675/How-to-Retweet-the-Right-Way-in-4-Easy-Steps.aspx#sm.00001bz3cbt3sqe1kyf4eavc4lj9a).  However, Trump has an unusual way of retweeting: He simply adds the original sender's name to the original message, puts everything in quotes, and then adds his own comments at the end.\n",
    "\n",
    "For example, this is a tweet by user @melissa7889:\n",
    "\n",
    "        @realDonaldTrump @JRACKER33 you should run for president!\n",
    "\n",
    "Here is Trump's retweet of this, from 2013:\n",
    "\n",
    "        \"@melissa7889: @realDonaldTrump @JRACKER33 you should run for president!\" Thanks,very nice!\n",
    "\n",
    "Since 2015, the usual way of retweeting this message, and the method used by Trump's aides (but not Trump himself), would have been:\n",
    "\n",
    "        Thanks,very nice! RT @melissa7889: @realDonaldTrump @JRACKER33 you should run for president!"
   ]
  },
  {
   "cell_type": "markdown",
   "metadata": {},
   "source": [
    "#### Question 15\n",
    "Write a function to identify Trump-style retweets, and another function to identify the aide-style retweets.  Then, use them to create a function called `tweet_type` that takes a tweet as its argument and returns values `\"Trump retweet\"`, `\"Aide retweet\"`, and `\"Not a retweet\"` as appropriate.  Use your function to add a `'tweet_type'` column to `trump_df`.\n",
    "\n",
    "*Hint:* Try the string method `startswith` and the Python keyword `in`."
   ]
  },
  {
   "cell_type": "code",
   "execution_count": 31,
   "metadata": {
    "collapsed": false,
    "for_assignment_type": "student"
   },
   "outputs": [],
   "source": [
    "def is_trump_style_retweet(tweet_text):\n",
    "    \"\"\"Returns True if tweet_text looks like a Trump-style retweet.\"\"\"\n",
    "    return tweet_text.startswith('\"@')\n",
    "    \n",
    "def is_aide_style_retweet(tweet_text):\n",
    "    \"\"\"Returns True if tweet_text looks like an aide-style retweet.\"\"\"\n",
    "    if tweet_text.find(\"RT\") != -1:\n",
    "        return True\n",
    "    else:\n",
    "        return False\n",
    "\n",
    "def tweet_type(tweet_text):\n",
    "    \"\"\"Returns \"Trump retweet\", \"Aide retweet\", or \"Not a retweet\"\n",
    "    as appropriate.\"\"\"\n",
    "    if is_trump_style_retweet(tweet_text) == True:\n",
    "        return \"Trump retweet\"\n",
    "    elif is_aide_style_retweet(tweet_text) == True:\n",
    "        return \"Aide retweet\"\n",
    "    else:\n",
    "        return \"Not a retweet\"\n",
    "\n",
    "trump_df['tweet_type'] = [tweet_type(trump_df[\"text\"][i]) for i in range(len(trump_df[\"text\"]))]"
   ]
  },
  {
   "cell_type": "code",
   "execution_count": 32,
   "metadata": {
    "collapsed": false
   },
   "outputs": [
    {
     "data": {
      "text/html": [
       "<div>\n",
       "<table border=\"1\" class=\"dataframe\">\n",
       "  <thead>\n",
       "    <tr style=\"text-align: right;\">\n",
       "      <th></th>\n",
       "      <th>text</th>\n",
       "      <th>created_at</th>\n",
       "      <th>source</th>\n",
       "      <th>contributors</th>\n",
       "      <th>tweet_type</th>\n",
       "    </tr>\n",
       "  </thead>\n",
       "  <tbody>\n",
       "    <tr>\n",
       "      <th>0</th>\n",
       "      <td>Enjoy the #SuperBowl and then we continue: MAKE AMERICA GREAT AGAIN!</td>\n",
       "      <td>2017-02-05 22:49:42</td>\n",
       "      <td>Twitter for Android</td>\n",
       "      <td>None</td>\n",
       "      <td>Not a retweet</td>\n",
       "    </tr>\n",
       "    <tr>\n",
       "      <th>1</th>\n",
       "      <td>I have instructed Homeland Security to check people coming into our country VERY CAREFULLY. The courts are making the job very difficult!</td>\n",
       "      <td>2017-02-05 20:42:33</td>\n",
       "      <td>Twitter for Android</td>\n",
       "      <td>None</td>\n",
       "      <td>Not a retweet</td>\n",
       "    </tr>\n",
       "    <tr>\n",
       "      <th>2</th>\n",
       "      <td>Just cannot  believe a judge would put our country in such peril. If something happens blame him and court system. People pouring in. Bad!</td>\n",
       "      <td>2017-02-05 20:39:05</td>\n",
       "      <td>Twitter for Android</td>\n",
       "      <td>None</td>\n",
       "      <td>Not a retweet</td>\n",
       "    </tr>\n",
       "    <tr>\n",
       "      <th>3</th>\n",
       "      <td>The judge opens up our country to potential terrorists and others that do not have our best interests at heart. Bad people are very happy!</td>\n",
       "      <td>2017-02-05 00:48:12</td>\n",
       "      <td>Twitter for Android</td>\n",
       "      <td>None</td>\n",
       "      <td>Not a retweet</td>\n",
       "    </tr>\n",
       "    <tr>\n",
       "      <th>4</th>\n",
       "      <td>Interview with @oreillyfactor on Fox Network - 4:00 P.M. (prior to Super Bowl). Enjoy!</td>\n",
       "      <td>2017-02-05 00:34:50</td>\n",
       "      <td>Twitter for Android</td>\n",
       "      <td>None</td>\n",
       "      <td>Not a retweet</td>\n",
       "    </tr>\n",
       "    <tr>\n",
       "      <th>5</th>\n",
       "      <td>Why aren't the lawyers looking at and using the Federal Court decision in Boston, which is at conflict with ridiculous lift ban decision?</td>\n",
       "      <td>2017-02-04 23:37:59</td>\n",
       "      <td>Twitter for Android</td>\n",
       "      <td>None</td>\n",
       "      <td>Not a retweet</td>\n",
       "    </tr>\n",
       "    <tr>\n",
       "      <th>6</th>\n",
       "      <td>Because the ban was lifted by a judge, many very bad and dangerous people may be pouring into our country. A terrible decision</td>\n",
       "      <td>2017-02-04 21:44:49</td>\n",
       "      <td>Twitter for Android</td>\n",
       "      <td>None</td>\n",
       "      <td>Not a retweet</td>\n",
       "    </tr>\n",
       "    <tr>\n",
       "      <th>7</th>\n",
       "      <td>What is our country coming to when a judge can halt a Homeland Security travel ban and anyone, even with bad intentions, can come into U.S.?</td>\n",
       "      <td>2017-02-04 20:44:07</td>\n",
       "      <td>Twitter for Android</td>\n",
       "      <td>None</td>\n",
       "      <td>Not a retweet</td>\n",
       "    </tr>\n",
       "    <tr>\n",
       "      <th>8</th>\n",
       "      <td>MAKE AMERICA GREAT AGAIN!</td>\n",
       "      <td>2017-02-04 14:26:10</td>\n",
       "      <td>Twitter for Android</td>\n",
       "      <td>None</td>\n",
       "      <td>Not a retweet</td>\n",
       "    </tr>\n",
       "    <tr>\n",
       "      <th>9</th>\n",
       "      <td>After being forced to apologize for its bad and inaccurate coverage of me after winning the election, the FAKE NEWS @nytimes is still lost!</td>\n",
       "      <td>2017-02-04 13:39:27</td>\n",
       "      <td>Twitter for Android</td>\n",
       "      <td>None</td>\n",
       "      <td>Not a retweet</td>\n",
       "    </tr>\n",
       "    <tr>\n",
       "      <th>10</th>\n",
       "      <td>The opinion of this so-called judge, which essentially takes law-enforcement away from our country, is ridiculous and will be overturned!</td>\n",
       "      <td>2017-02-04 13:12:02</td>\n",
       "      <td>Twitter for Android</td>\n",
       "      <td>None</td>\n",
       "      <td>Not a retweet</td>\n",
       "    </tr>\n",
       "    <tr>\n",
       "      <th>11</th>\n",
       "      <td>Interesting that certain Middle-Eastern countries agree with the ban. They know if certain people are allowed in it's death &amp;amp; destruction!</td>\n",
       "      <td>2017-02-04 13:06:39</td>\n",
       "      <td>Twitter for Android</td>\n",
       "      <td>None</td>\n",
       "      <td>Not a retweet</td>\n",
       "    </tr>\n",
       "    <tr>\n",
       "      <th>12</th>\n",
       "      <td>When a country is no longer able to say who can, and who cannot , come in &amp;amp; out, especially for reasons of safety &amp;amp;.security - big trouble!</td>\n",
       "      <td>2017-02-04 12:59:35</td>\n",
       "      <td>Twitter for Android</td>\n",
       "      <td>None</td>\n",
       "      <td>Not a retweet</td>\n",
       "    </tr>\n",
       "    <tr>\n",
       "      <th>13</th>\n",
       "      <td>Countries charge U.S. companies taxes or tariffs while the U.S. charges them nothing or little.We should charge them SAME as they charge us!</td>\n",
       "      <td>2017-02-04 03:07:47</td>\n",
       "      <td>Twitter for Android</td>\n",
       "      <td>None</td>\n",
       "      <td>Not a retweet</td>\n",
       "    </tr>\n",
       "    <tr>\n",
       "      <th>14</th>\n",
       "      <td>We must keep \"evil\" out of our country!</td>\n",
       "      <td>2017-02-03 23:08:38</td>\n",
       "      <td>Twitter for Android</td>\n",
       "      <td>None</td>\n",
       "      <td>Not a retweet</td>\n",
       "    </tr>\n",
       "    <tr>\n",
       "      <th>15</th>\n",
       "      <td>A new radical Islamic terrorist has just attacked in Louvre Museum in Paris. Tourists were locked down. France on edge again. GET SMART U.S.</td>\n",
       "      <td>2017-02-03 12:51:58</td>\n",
       "      <td>Twitter for Android</td>\n",
       "      <td>None</td>\n",
       "      <td>Aide retweet</td>\n",
       "    </tr>\n",
       "    <tr>\n",
       "      <th>16</th>\n",
       "      <td>Professional anarchists, thugs and paid protesters are proving the point of the millions of people who voted to MAKE AMERICA GREAT AGAIN!</td>\n",
       "      <td>2017-02-03 11:48:16</td>\n",
       "      <td>Twitter for Android</td>\n",
       "      <td>None</td>\n",
       "      <td>Not a retweet</td>\n",
       "    </tr>\n",
       "    <tr>\n",
       "      <th>17</th>\n",
       "      <td>Meeting with biggest business leaders this morning. Good jobs are coming back to U.S., health care and tax bills are being crafted NOW!</td>\n",
       "      <td>2017-02-03 11:41:11</td>\n",
       "      <td>Twitter for Android</td>\n",
       "      <td>None</td>\n",
       "      <td>Not a retweet</td>\n",
       "    </tr>\n",
       "    <tr>\n",
       "      <th>18</th>\n",
       "      <td>Thank you to Prime Minister of Australia for telling the truth about our very civil conversation that FAKE NEWS media lied about. Very nice!</td>\n",
       "      <td>2017-02-03 11:34:32</td>\n",
       "      <td>Twitter for Android</td>\n",
       "      <td>None</td>\n",
       "      <td>Not a retweet</td>\n",
       "    </tr>\n",
       "    <tr>\n",
       "      <th>19</th>\n",
       "      <td>Iran is playing with fire - they don't appreciate how \"kind\" President Obama was to them. Not me!</td>\n",
       "      <td>2017-02-03 11:28:02</td>\n",
       "      <td>Twitter for Android</td>\n",
       "      <td>None</td>\n",
       "      <td>Not a retweet</td>\n",
       "    </tr>\n",
       "    <tr>\n",
       "      <th>20</th>\n",
       "      <td>Yes, Arnold Schwarzenegger did a really bad job as Governor of California and even worse on the Apprentice...but at least he tried hard!</td>\n",
       "      <td>2017-02-03 11:24:51</td>\n",
       "      <td>Twitter for Android</td>\n",
       "      <td>None</td>\n",
       "      <td>Not a retweet</td>\n",
       "    </tr>\n",
       "    <tr>\n",
       "      <th>21</th>\n",
       "      <td>Thank you, @Samsung! We would love to have you! https://t.co/r5nxC9oOA4</td>\n",
       "      <td>2017-02-02 17:29:16</td>\n",
       "      <td>Twitter for iPhone</td>\n",
       "      <td>None</td>\n",
       "      <td>Not a retweet</td>\n",
       "    </tr>\n",
       "    <tr>\n",
       "      <th>22</th>\n",
       "      <td>Iran was on its last legs and ready to collapse until the U.S. came along and gave it a life-line in the form of the Iran Deal: $150 billion</td>\n",
       "      <td>2017-02-02 11:39:49</td>\n",
       "      <td>Twitter for Android</td>\n",
       "      <td>None</td>\n",
       "      <td>Not a retweet</td>\n",
       "    </tr>\n",
       "    <tr>\n",
       "      <th>23</th>\n",
       "      <td>Iran has been formally PUT ON NOTICE for firing a ballistic missile.Should have been thankful for the terrible deal the U.S. made with them!</td>\n",
       "      <td>2017-02-02 11:34:36</td>\n",
       "      <td>Twitter for Android</td>\n",
       "      <td>None</td>\n",
       "      <td>Not a retweet</td>\n",
       "    </tr>\n",
       "    <tr>\n",
       "      <th>24</th>\n",
       "      <td>Attending Chief Ryan Owens' Dignified Transfer yesterday with my daughter Ivanka was my great honor. To a great and brave man - thank you!</td>\n",
       "      <td>2017-02-02 11:25:40</td>\n",
       "      <td>Twitter for Android</td>\n",
       "      <td>None</td>\n",
       "      <td>Not a retweet</td>\n",
       "    </tr>\n",
       "    <tr>\n",
       "      <th>25</th>\n",
       "      <td>Congratulations to Rex Tillerson on being sworn in as our new Secretary of State. He will be a star!</td>\n",
       "      <td>2017-02-02 11:18:21</td>\n",
       "      <td>Twitter for Android</td>\n",
       "      <td>None</td>\n",
       "      <td>Not a retweet</td>\n",
       "    </tr>\n",
       "    <tr>\n",
       "      <th>26</th>\n",
       "      <td>If U.C. Berkeley does not allow free speech and practices violence on innocent people with a different point of view - NO FEDERAL FUNDS?</td>\n",
       "      <td>2017-02-02 11:13:13</td>\n",
       "      <td>Twitter for Android</td>\n",
       "      <td>None</td>\n",
       "      <td>Not a retweet</td>\n",
       "    </tr>\n",
       "    <tr>\n",
       "      <th>27</th>\n",
       "      <td>Do you believe it? The Obama Administration agreed to take thousands of illegal immigrants from Australia. Why? I will study this dumb deal!</td>\n",
       "      <td>2017-02-02 03:55:49</td>\n",
       "      <td>Twitter for Android</td>\n",
       "      <td>None</td>\n",
       "      <td>Not a retweet</td>\n",
       "    </tr>\n",
       "    <tr>\n",
       "      <th>28</th>\n",
       "      <td>Iran is rapidly taking over more and more of Iraq even after the U.S. has squandered three trillion dollars there. Obvious long ago!</td>\n",
       "      <td>2017-02-02 03:06:14</td>\n",
       "      <td>Twitter for Android</td>\n",
       "      <td>None</td>\n",
       "      <td>Not a retweet</td>\n",
       "    </tr>\n",
       "    <tr>\n",
       "      <th>29</th>\n",
       "      <td>Everybody is arguing whether or not it is a BAN. Call it what you want, it is about keeping bad people (with bad intentions) out of country!</td>\n",
       "      <td>2017-02-01 12:50:16</td>\n",
       "      <td>Twitter for Android</td>\n",
       "      <td>None</td>\n",
       "      <td>Not a retweet</td>\n",
       "    </tr>\n",
       "    <tr>\n",
       "      <th>...</th>\n",
       "      <td>...</td>\n",
       "      <td>...</td>\n",
       "      <td>...</td>\n",
       "      <td>...</td>\n",
       "      <td>...</td>\n",
       "    </tr>\n",
       "    <tr>\n",
       "      <th>3200</th>\n",
       "      <td>Watching John Kasich being interviewed - acting so innocent and like such a nice guy. Remember him in second debate, until I put him down.</td>\n",
       "      <td>2016-03-15 14:53:41</td>\n",
       "      <td>Twitter for Android</td>\n",
       "      <td>None</td>\n",
       "      <td>Not a retweet</td>\n",
       "    </tr>\n",
       "    <tr>\n",
       "      <th>3201</th>\n",
       "      <td>RT @EricTrump: Mathematically it is statistically impossible for Kasich to get to 1237 - he would need 112% of the remaining delegates to b…</td>\n",
       "      <td>2016-03-15 14:36:09</td>\n",
       "      <td>Twitter for iPhone</td>\n",
       "      <td>None</td>\n",
       "      <td>Aide retweet</td>\n",
       "    </tr>\n",
       "    <tr>\n",
       "      <th>3202</th>\n",
       "      <td>#VoteTrump #SuperTuesday\\n✅Florida\\n✅Illinois\\n✅Missouri\\n✅North Carolina\\n✅Ohio \\n#TrumpTrain \\nhttps://t.co/zyRctsFmSq https://t.co/kxrn0ev4UF</td>\n",
       "      <td>2016-03-15 13:43:25</td>\n",
       "      <td>Twitter for iPhone</td>\n",
       "      <td>None</td>\n",
       "      <td>Not a retweet</td>\n",
       "    </tr>\n",
       "    <tr>\n",
       "      <th>3203</th>\n",
       "      <td>North Carolina lost 300,000 manufacturing jobs and Ohio lost 400,000 since 2000. Going to Mexico etc. NO MORE IF I WIN, WE WILL BRING BACK!</td>\n",
       "      <td>2016-03-15 13:37:24</td>\n",
       "      <td>Twitter for Android</td>\n",
       "      <td>None</td>\n",
       "      <td>Not a retweet</td>\n",
       "    </tr>\n",
       "    <tr>\n",
       "      <th>3204</th>\n",
       "      <td>RT @EricTrump: Friends in #FL #OH #NC #IL &amp;amp; #MO we would be honored to have your #VOTE! #SuperTuesday #LetsDoThis #MakeAmericaGreatAgain #T…</td>\n",
       "      <td>2016-03-15 13:24:01</td>\n",
       "      <td>Twitter for iPhone</td>\n",
       "      <td>None</td>\n",
       "      <td>Aide retweet</td>\n",
       "    </tr>\n",
       "    <tr>\n",
       "      <th>3205</th>\n",
       "      <td>Just in, big news- I have been declared the winner of the CNMI Rep Caucus with 72.8% of the vote! Thank you! #SuperTuesday #VoteTrump</td>\n",
       "      <td>2016-03-15 12:38:37</td>\n",
       "      <td>Twitter for iPhone</td>\n",
       "      <td>None</td>\n",
       "      <td>Not a retweet</td>\n",
       "    </tr>\n",
       "    <tr>\n",
       "      <th>3206</th>\n",
       "      <td>Good morning Ohio! Some additional information from my daughter, @IvankaTrump! #VoteTrump #SuperTuesday https://t.co/H7sBEnSpYq</td>\n",
       "      <td>2016-03-15 12:10:10</td>\n",
       "      <td>Twitter for iPhone</td>\n",
       "      <td>None</td>\n",
       "      <td>Not a retweet</td>\n",
       "    </tr>\n",
       "    <tr>\n",
       "      <th>3207</th>\n",
       "      <td>Don't reward Mitt Romney, who let us all down in the last presidential race, by voting for Kasich (who voted for NAFTA, open borders etc.).</td>\n",
       "      <td>2016-03-15 11:31:46</td>\n",
       "      <td>Twitter for Android</td>\n",
       "      <td>None</td>\n",
       "      <td>Not a retweet</td>\n",
       "    </tr>\n",
       "    <tr>\n",
       "      <th>3208</th>\n",
       "      <td>Please remember, I am the ONLY candidate who is self-funding his campaign. Kasich, Rubio and Cruz are all bought and paid for by lobbyists!</td>\n",
       "      <td>2016-03-15 10:39:06</td>\n",
       "      <td>Twitter for Android</td>\n",
       "      <td>None</td>\n",
       "      <td>Not a retweet</td>\n",
       "    </tr>\n",
       "    <tr>\n",
       "      <th>3209</th>\n",
       "      <td>I will bring our jobs back to America, fix our military and take care of our vets, end Common Core and ObamaCare, protect 2nd A, build WALL</td>\n",
       "      <td>2016-03-15 10:25:53</td>\n",
       "      <td>Twitter for Android</td>\n",
       "      <td>None</td>\n",
       "      <td>Not a retweet</td>\n",
       "    </tr>\n",
       "    <tr>\n",
       "      <th>3210</th>\n",
       "      <td>Rubio is weak on illegal immigration, with the worst voting record in the U.S. Senate in many years. He will never MAKE AMERICA GREAT AGAIN!</td>\n",
       "      <td>2016-03-15 04:21:20</td>\n",
       "      <td>Twitter for Android</td>\n",
       "      <td>None</td>\n",
       "      <td>Not a retweet</td>\n",
       "    </tr>\n",
       "    <tr>\n",
       "      <th>3211</th>\n",
       "      <td>Kasich voted for NAFTA, a disaster for Ohio, and now wants the even worse TPP approved. Vote Trump and end this madness!</td>\n",
       "      <td>2016-03-15 04:10:00</td>\n",
       "      <td>Twitter for Android</td>\n",
       "      <td>None</td>\n",
       "      <td>Not a retweet</td>\n",
       "    </tr>\n",
       "    <tr>\n",
       "      <th>3212</th>\n",
       "      <td>\"@mazzei48: @realDonaldTrump @BrazielCarol @FoxNews Listening to interview on replay of @A Savage Nation #GO DONALD TRUMP !!!!!\" Thanks.</td>\n",
       "      <td>2016-03-15 03:46:39</td>\n",
       "      <td>Twitter for Android</td>\n",
       "      <td>None</td>\n",
       "      <td>Trump retweet</td>\n",
       "    </tr>\n",
       "    <tr>\n",
       "      <th>3213</th>\n",
       "      <td>\"@wh: https://t.co/AZmCErLKCn WOW people are so misinformed on DonaldTrump character! Watch this video! Hillary and Bernie don't come close</td>\n",
       "      <td>2016-03-15 03:44:11</td>\n",
       "      <td>Twitter for Android</td>\n",
       "      <td>None</td>\n",
       "      <td>Trump retweet</td>\n",
       "    </tr>\n",
       "    <tr>\n",
       "      <th>3214</th>\n",
       "      <td>\"@realwwshelton: @loudobbsnews I believe that @realDonaldTrump will be the big winner tomorrow.\"  Thank you!</td>\n",
       "      <td>2016-03-15 03:24:41</td>\n",
       "      <td>Twitter for Android</td>\n",
       "      <td>None</td>\n",
       "      <td>Trump retweet</td>\n",
       "    </tr>\n",
       "    <tr>\n",
       "      <th>3215</th>\n",
       "      <td>\"@BrazielCarol: @FoxNews @realDonaldTrump Who started this mess, the protesters of course . And media made it worse.\"</td>\n",
       "      <td>2016-03-15 03:22:21</td>\n",
       "      <td>Twitter for Android</td>\n",
       "      <td>None</td>\n",
       "      <td>Trump retweet</td>\n",
       "    </tr>\n",
       "    <tr>\n",
       "      <th>3216</th>\n",
       "      <td>Sadly, this kind of stuff even happened to Ronald Reagan. There is nothing nice about it! #MakeAmericaGreatAgain \\nhttps://t.co/jC7cn1v18u</td>\n",
       "      <td>2016-03-15 01:11:17</td>\n",
       "      <td>Twitter for iPhone</td>\n",
       "      <td>None</td>\n",
       "      <td>Not a retweet</td>\n",
       "    </tr>\n",
       "    <tr>\n",
       "      <th>3217</th>\n",
       "      <td>THANK YOU - Youngstown, Ohio! I love you! Get out &amp;amp; #VoteTrump tomorrow. #Trump2016 https://t.co/OReGiIS6TF</td>\n",
       "      <td>2016-03-15 00:48:09</td>\n",
       "      <td>Twitter for iPhone</td>\n",
       "      <td>None</td>\n",
       "      <td>Not a retweet</td>\n",
       "    </tr>\n",
       "    <tr>\n",
       "      <th>3218</th>\n",
       "      <td>Kasich has helped decimate the coal and steel industries in Ohio. I will bring them back! #MakeAmericaGreatAgain</td>\n",
       "      <td>2016-03-14 16:59:52</td>\n",
       "      <td>Twitter for iPhone</td>\n",
       "      <td>None</td>\n",
       "      <td>Not a retweet</td>\n",
       "    </tr>\n",
       "    <tr>\n",
       "      <th>3219</th>\n",
       "      <td>Gov Kasich voted for NAFTA, which devastated Ohio and is now pushing TPP hard- bad for American workers!</td>\n",
       "      <td>2016-03-14 16:59:19</td>\n",
       "      <td>Twitter for iPhone</td>\n",
       "      <td>None</td>\n",
       "      <td>Not a retweet</td>\n",
       "    </tr>\n",
       "    <tr>\n",
       "      <th>3220</th>\n",
       "      <td>Leaving the great people of North Carolina. Amazing event. Heading to Tampa now! #VoteTrump</td>\n",
       "      <td>2016-03-14 16:56:06</td>\n",
       "      <td>Twitter for iPhone</td>\n",
       "      <td>None</td>\n",
       "      <td>Not a retweet</td>\n",
       "    </tr>\n",
       "    <tr>\n",
       "      <th>3221</th>\n",
       "      <td>Look forward to being in Tampa this afternoon. Wonderful crowds. Thank you, Florida!</td>\n",
       "      <td>2016-03-14 15:24:15</td>\n",
       "      <td>Twitter for iPhone</td>\n",
       "      <td>None</td>\n",
       "      <td>Not a retweet</td>\n",
       "    </tr>\n",
       "    <tr>\n",
       "      <th>3222</th>\n",
       "      <td>We don't have a country- if we don't have borders. #VoteTrump \\nVideo: https://t.co/wG4RgOi1bW https://t.co/oAXBvcKIsr</td>\n",
       "      <td>2016-03-14 12:55:28</td>\n",
       "      <td>Twitter for iPhone</td>\n",
       "      <td>None</td>\n",
       "      <td>Not a retweet</td>\n",
       "    </tr>\n",
       "    <tr>\n",
       "      <th>3223</th>\n",
       "      <td>Just received from @PeteRose_14. \\nThank you Pete! #VoteTrump on \\nTuesday Ohio! #Trump2016\\n#MakeAmericaGreatAgain https://t.co/UvP03n7dQq</td>\n",
       "      <td>2016-03-14 00:13:41</td>\n",
       "      <td>Twitter for iPhone</td>\n",
       "      <td>None</td>\n",
       "      <td>Not a retweet</td>\n",
       "    </tr>\n",
       "    <tr>\n",
       "      <th>3224</th>\n",
       "      <td>RT @RSBNetwork: LIVE Stream: Donald Trump about to speak in Boca Raton, FL. Protesters already before Trump speaks. #TrumpTrain \\n\\nhttps://t…</td>\n",
       "      <td>2016-03-14 00:04:26</td>\n",
       "      <td>Twitter for iPhone</td>\n",
       "      <td>None</td>\n",
       "      <td>Aide retweet</td>\n",
       "    </tr>\n",
       "    <tr>\n",
       "      <th>3225</th>\n",
       "      <td>LYIN' TED https://t.co/Q0qXDGCN1l</td>\n",
       "      <td>2016-03-13 20:32:48</td>\n",
       "      <td>Twitter for iPhone</td>\n",
       "      <td>None</td>\n",
       "      <td>Not a retweet</td>\n",
       "    </tr>\n",
       "    <tr>\n",
       "      <th>3226</th>\n",
       "      <td>The failing @nytimes is truly one of the worst newspapers. They knowingly write lies and never even call to fact check. Really bad people!</td>\n",
       "      <td>2016-03-13 18:53:07</td>\n",
       "      <td>Twitter for Android</td>\n",
       "      <td>None</td>\n",
       "      <td>Not a retweet</td>\n",
       "    </tr>\n",
       "    <tr>\n",
       "      <th>3227</th>\n",
       "      <td>Because Gov. Kasich cannot run in the state of Pennsylvania-he cannot win the nomination- &amp;amp; should not be allowed to compete in Ohio on Tue.</td>\n",
       "      <td>2016-03-13 18:26:20</td>\n",
       "      <td>Twitter for iPhone</td>\n",
       "      <td>None</td>\n",
       "      <td>Not a retweet</td>\n",
       "    </tr>\n",
       "    <tr>\n",
       "      <th>3228</th>\n",
       "      <td>Carly Fiorina- I agree! Ted Cruz is just another politician. All talk- no action!\\nhttps://t.co/08xkEBD8Be</td>\n",
       "      <td>2016-03-13 17:07:00</td>\n",
       "      <td>Twitter for iPhone</td>\n",
       "      <td>None</td>\n",
       "      <td>Not a retweet</td>\n",
       "    </tr>\n",
       "    <tr>\n",
       "      <th>3229</th>\n",
       "      <td>Thank you Kevin. With unification of the party, Republican wins will be massive! \\nhttps://t.co/1rmyCGSlsV</td>\n",
       "      <td>2016-03-13 17:06:31</td>\n",
       "      <td>Twitter for iPhone</td>\n",
       "      <td>None</td>\n",
       "      <td>Not a retweet</td>\n",
       "    </tr>\n",
       "  </tbody>\n",
       "</table>\n",
       "<p>3230 rows × 5 columns</p>\n",
       "</div>"
      ],
      "text/plain": [
       "                                                                                                                                                     text  \\\n",
       "0                                                                                    Enjoy the #SuperBowl and then we continue: MAKE AMERICA GREAT AGAIN!   \n",
       "1               I have instructed Homeland Security to check people coming into our country VERY CAREFULLY. The courts are making the job very difficult!   \n",
       "2              Just cannot  believe a judge would put our country in such peril. If something happens blame him and court system. People pouring in. Bad!   \n",
       "3              The judge opens up our country to potential terrorists and others that do not have our best interests at heart. Bad people are very happy!   \n",
       "4                                                                  Interview with @oreillyfactor on Fox Network - 4:00 P.M. (prior to Super Bowl). Enjoy!   \n",
       "5               Why aren't the lawyers looking at and using the Federal Court decision in Boston, which is at conflict with ridiculous lift ban decision?   \n",
       "6                          Because the ban was lifted by a judge, many very bad and dangerous people may be pouring into our country. A terrible decision   \n",
       "7            What is our country coming to when a judge can halt a Homeland Security travel ban and anyone, even with bad intentions, can come into U.S.?   \n",
       "8                                                                                                                               MAKE AMERICA GREAT AGAIN!   \n",
       "9             After being forced to apologize for its bad and inaccurate coverage of me after winning the election, the FAKE NEWS @nytimes is still lost!   \n",
       "10              The opinion of this so-called judge, which essentially takes law-enforcement away from our country, is ridiculous and will be overturned!   \n",
       "11         Interesting that certain Middle-Eastern countries agree with the ban. They know if certain people are allowed in it's death &amp; destruction!   \n",
       "12    When a country is no longer able to say who can, and who cannot , come in &amp; out, especially for reasons of safety &amp;.security - big trouble!   \n",
       "13           Countries charge U.S. companies taxes or tariffs while the U.S. charges them nothing or little.We should charge them SAME as they charge us!   \n",
       "14                                                                                                                We must keep \"evil\" out of our country!   \n",
       "15           A new radical Islamic terrorist has just attacked in Louvre Museum in Paris. Tourists were locked down. France on edge again. GET SMART U.S.   \n",
       "16              Professional anarchists, thugs and paid protesters are proving the point of the millions of people who voted to MAKE AMERICA GREAT AGAIN!   \n",
       "17                Meeting with biggest business leaders this morning. Good jobs are coming back to U.S., health care and tax bills are being crafted NOW!   \n",
       "18           Thank you to Prime Minister of Australia for telling the truth about our very civil conversation that FAKE NEWS media lied about. Very nice!   \n",
       "19                                                      Iran is playing with fire - they don't appreciate how \"kind\" President Obama was to them. Not me!   \n",
       "20               Yes, Arnold Schwarzenegger did a really bad job as Governor of California and even worse on the Apprentice...but at least he tried hard!   \n",
       "21                                                                                Thank you, @Samsung! We would love to have you! https://t.co/r5nxC9oOA4   \n",
       "22           Iran was on its last legs and ready to collapse until the U.S. came along and gave it a life-line in the form of the Iran Deal: $150 billion   \n",
       "23           Iran has been formally PUT ON NOTICE for firing a ballistic missile.Should have been thankful for the terrible deal the U.S. made with them!   \n",
       "24             Attending Chief Ryan Owens' Dignified Transfer yesterday with my daughter Ivanka was my great honor. To a great and brave man - thank you!   \n",
       "25                                                   Congratulations to Rex Tillerson on being sworn in as our new Secretary of State. He will be a star!   \n",
       "26               If U.C. Berkeley does not allow free speech and practices violence on innocent people with a different point of view - NO FEDERAL FUNDS?   \n",
       "27           Do you believe it? The Obama Administration agreed to take thousands of illegal immigrants from Australia. Why? I will study this dumb deal!   \n",
       "28                   Iran is rapidly taking over more and more of Iraq even after the U.S. has squandered three trillion dollars there. Obvious long ago!   \n",
       "29           Everybody is arguing whether or not it is a BAN. Call it what you want, it is about keeping bad people (with bad intentions) out of country!   \n",
       "...                                                                                                                                                   ...   \n",
       "3200           Watching John Kasich being interviewed - acting so innocent and like such a nice guy. Remember him in second debate, until I put him down.   \n",
       "3201         RT @EricTrump: Mathematically it is statistically impossible for Kasich to get to 1237 - he would need 112% of the remaining delegates to b…   \n",
       "3202     #VoteTrump #SuperTuesday\\n✅Florida\\n✅Illinois\\n✅Missouri\\n✅North Carolina\\n✅Ohio \\n#TrumpTrain \\nhttps://t.co/zyRctsFmSq https://t.co/kxrn0ev4UF   \n",
       "3203          North Carolina lost 300,000 manufacturing jobs and Ohio lost 400,000 since 2000. Going to Mexico etc. NO MORE IF I WIN, WE WILL BRING BACK!   \n",
       "3204     RT @EricTrump: Friends in #FL #OH #NC #IL &amp; #MO we would be honored to have your #VOTE! #SuperTuesday #LetsDoThis #MakeAmericaGreatAgain #T…   \n",
       "3205                Just in, big news- I have been declared the winner of the CNMI Rep Caucus with 72.8% of the vote! Thank you! #SuperTuesday #VoteTrump   \n",
       "3206                      Good morning Ohio! Some additional information from my daughter, @IvankaTrump! #VoteTrump #SuperTuesday https://t.co/H7sBEnSpYq   \n",
       "3207          Don't reward Mitt Romney, who let us all down in the last presidential race, by voting for Kasich (who voted for NAFTA, open borders etc.).   \n",
       "3208          Please remember, I am the ONLY candidate who is self-funding his campaign. Kasich, Rubio and Cruz are all bought and paid for by lobbyists!   \n",
       "3209          I will bring our jobs back to America, fix our military and take care of our vets, end Common Core and ObamaCare, protect 2nd A, build WALL   \n",
       "3210         Rubio is weak on illegal immigration, with the worst voting record in the U.S. Senate in many years. He will never MAKE AMERICA GREAT AGAIN!   \n",
       "3211                             Kasich voted for NAFTA, a disaster for Ohio, and now wants the even worse TPP approved. Vote Trump and end this madness!   \n",
       "3212             \"@mazzei48: @realDonaldTrump @BrazielCarol @FoxNews Listening to interview on replay of @A Savage Nation #GO DONALD TRUMP !!!!!\" Thanks.   \n",
       "3213          \"@wh: https://t.co/AZmCErLKCn WOW people are so misinformed on DonaldTrump character! Watch this video! Hillary and Bernie don't come close   \n",
       "3214                                         \"@realwwshelton: @loudobbsnews I believe that @realDonaldTrump will be the big winner tomorrow.\"  Thank you!   \n",
       "3215                                \"@BrazielCarol: @FoxNews @realDonaldTrump Who started this mess, the protesters of course . And media made it worse.\"   \n",
       "3216           Sadly, this kind of stuff even happened to Ronald Reagan. There is nothing nice about it! #MakeAmericaGreatAgain \\nhttps://t.co/jC7cn1v18u   \n",
       "3217                                      THANK YOU - Youngstown, Ohio! I love you! Get out &amp; #VoteTrump tomorrow. #Trump2016 https://t.co/OReGiIS6TF   \n",
       "3218                                     Kasich has helped decimate the coal and steel industries in Ohio. I will bring them back! #MakeAmericaGreatAgain   \n",
       "3219                                             Gov Kasich voted for NAFTA, which devastated Ohio and is now pushing TPP hard- bad for American workers!   \n",
       "3220                                                          Leaving the great people of North Carolina. Amazing event. Heading to Tampa now! #VoteTrump   \n",
       "3221                                                                 Look forward to being in Tampa this afternoon. Wonderful crowds. Thank you, Florida!   \n",
       "3222                               We don't have a country- if we don't have borders. #VoteTrump \\nVideo: https://t.co/wG4RgOi1bW https://t.co/oAXBvcKIsr   \n",
       "3223          Just received from @PeteRose_14. \\nThank you Pete! #VoteTrump on \\nTuesday Ohio! #Trump2016\\n#MakeAmericaGreatAgain https://t.co/UvP03n7dQq   \n",
       "3224       RT @RSBNetwork: LIVE Stream: Donald Trump about to speak in Boca Raton, FL. Protesters already before Trump speaks. #TrumpTrain \\n\\nhttps://t…   \n",
       "3225                                                                                                                    LYIN' TED https://t.co/Q0qXDGCN1l   \n",
       "3226           The failing @nytimes is truly one of the worst newspapers. They knowingly write lies and never even call to fact check. Really bad people!   \n",
       "3227     Because Gov. Kasich cannot run in the state of Pennsylvania-he cannot win the nomination- &amp; should not be allowed to compete in Ohio on Tue.   \n",
       "3228                                           Carly Fiorina- I agree! Ted Cruz is just another politician. All talk- no action!\\nhttps://t.co/08xkEBD8Be   \n",
       "3229                                           Thank you Kevin. With unification of the party, Republican wins will be massive! \\nhttps://t.co/1rmyCGSlsV   \n",
       "\n",
       "              created_at               source contributors     tweet_type  \n",
       "0    2017-02-05 22:49:42  Twitter for Android         None  Not a retweet  \n",
       "1    2017-02-05 20:42:33  Twitter for Android         None  Not a retweet  \n",
       "2    2017-02-05 20:39:05  Twitter for Android         None  Not a retweet  \n",
       "3    2017-02-05 00:48:12  Twitter for Android         None  Not a retweet  \n",
       "4    2017-02-05 00:34:50  Twitter for Android         None  Not a retweet  \n",
       "5    2017-02-04 23:37:59  Twitter for Android         None  Not a retweet  \n",
       "6    2017-02-04 21:44:49  Twitter for Android         None  Not a retweet  \n",
       "7    2017-02-04 20:44:07  Twitter for Android         None  Not a retweet  \n",
       "8    2017-02-04 14:26:10  Twitter for Android         None  Not a retweet  \n",
       "9    2017-02-04 13:39:27  Twitter for Android         None  Not a retweet  \n",
       "10   2017-02-04 13:12:02  Twitter for Android         None  Not a retweet  \n",
       "11   2017-02-04 13:06:39  Twitter for Android         None  Not a retweet  \n",
       "12   2017-02-04 12:59:35  Twitter for Android         None  Not a retweet  \n",
       "13   2017-02-04 03:07:47  Twitter for Android         None  Not a retweet  \n",
       "14   2017-02-03 23:08:38  Twitter for Android         None  Not a retweet  \n",
       "15   2017-02-03 12:51:58  Twitter for Android         None   Aide retweet  \n",
       "16   2017-02-03 11:48:16  Twitter for Android         None  Not a retweet  \n",
       "17   2017-02-03 11:41:11  Twitter for Android         None  Not a retweet  \n",
       "18   2017-02-03 11:34:32  Twitter for Android         None  Not a retweet  \n",
       "19   2017-02-03 11:28:02  Twitter for Android         None  Not a retweet  \n",
       "20   2017-02-03 11:24:51  Twitter for Android         None  Not a retweet  \n",
       "21   2017-02-02 17:29:16   Twitter for iPhone         None  Not a retweet  \n",
       "22   2017-02-02 11:39:49  Twitter for Android         None  Not a retweet  \n",
       "23   2017-02-02 11:34:36  Twitter for Android         None  Not a retweet  \n",
       "24   2017-02-02 11:25:40  Twitter for Android         None  Not a retweet  \n",
       "25   2017-02-02 11:18:21  Twitter for Android         None  Not a retweet  \n",
       "26   2017-02-02 11:13:13  Twitter for Android         None  Not a retweet  \n",
       "27   2017-02-02 03:55:49  Twitter for Android         None  Not a retweet  \n",
       "28   2017-02-02 03:06:14  Twitter for Android         None  Not a retweet  \n",
       "29   2017-02-01 12:50:16  Twitter for Android         None  Not a retweet  \n",
       "...                  ...                  ...          ...            ...  \n",
       "3200 2016-03-15 14:53:41  Twitter for Android         None  Not a retweet  \n",
       "3201 2016-03-15 14:36:09   Twitter for iPhone         None   Aide retweet  \n",
       "3202 2016-03-15 13:43:25   Twitter for iPhone         None  Not a retweet  \n",
       "3203 2016-03-15 13:37:24  Twitter for Android         None  Not a retweet  \n",
       "3204 2016-03-15 13:24:01   Twitter for iPhone         None   Aide retweet  \n",
       "3205 2016-03-15 12:38:37   Twitter for iPhone         None  Not a retweet  \n",
       "3206 2016-03-15 12:10:10   Twitter for iPhone         None  Not a retweet  \n",
       "3207 2016-03-15 11:31:46  Twitter for Android         None  Not a retweet  \n",
       "3208 2016-03-15 10:39:06  Twitter for Android         None  Not a retweet  \n",
       "3209 2016-03-15 10:25:53  Twitter for Android         None  Not a retweet  \n",
       "3210 2016-03-15 04:21:20  Twitter for Android         None  Not a retweet  \n",
       "3211 2016-03-15 04:10:00  Twitter for Android         None  Not a retweet  \n",
       "3212 2016-03-15 03:46:39  Twitter for Android         None  Trump retweet  \n",
       "3213 2016-03-15 03:44:11  Twitter for Android         None  Trump retweet  \n",
       "3214 2016-03-15 03:24:41  Twitter for Android         None  Trump retweet  \n",
       "3215 2016-03-15 03:22:21  Twitter for Android         None  Trump retweet  \n",
       "3216 2016-03-15 01:11:17   Twitter for iPhone         None  Not a retweet  \n",
       "3217 2016-03-15 00:48:09   Twitter for iPhone         None  Not a retweet  \n",
       "3218 2016-03-14 16:59:52   Twitter for iPhone         None  Not a retweet  \n",
       "3219 2016-03-14 16:59:19   Twitter for iPhone         None  Not a retweet  \n",
       "3220 2016-03-14 16:56:06   Twitter for iPhone         None  Not a retweet  \n",
       "3221 2016-03-14 15:24:15   Twitter for iPhone         None  Not a retweet  \n",
       "3222 2016-03-14 12:55:28   Twitter for iPhone         None  Not a retweet  \n",
       "3223 2016-03-14 00:13:41   Twitter for iPhone         None  Not a retweet  \n",
       "3224 2016-03-14 00:04:26   Twitter for iPhone         None   Aide retweet  \n",
       "3225 2016-03-13 20:32:48   Twitter for iPhone         None  Not a retweet  \n",
       "3226 2016-03-13 18:53:07  Twitter for Android         None  Not a retweet  \n",
       "3227 2016-03-13 18:26:20   Twitter for iPhone         None  Not a retweet  \n",
       "3228 2016-03-13 17:07:00   Twitter for iPhone         None  Not a retweet  \n",
       "3229 2016-03-13 17:06:31   Twitter for iPhone         None  Not a retweet  \n",
       "\n",
       "[3230 rows x 5 columns]"
      ]
     },
     "execution_count": 32,
     "metadata": {},
     "output_type": "execute_result"
    }
   ],
   "source": [
    "trump_df"
   ]
  },
  {
   "cell_type": "code",
   "execution_count": 33,
   "metadata": {
    "collapsed": false
   },
   "outputs": [
    {
     "name": "stdout",
     "output_type": "stream",
     "text": [
      "~~~~~~~~~~~~~~~~~~~~~~~~~~~~~~~~~~~~~~~~~~~~~~~~~~~~~~~~~~~~~~~~~~~~~\n",
      "Running tests\n",
      "\n",
      "---------------------------------------------------------------------\n",
      "Test summary\n",
      "    Passed: 1\n",
      "    Failed: 0\n",
      "[ooooooooook] 100.0% passed\n",
      "\n"
     ]
    },
    {
     "data": {
      "application/javascript": [
       "IPython.notebook.save_checkpoint();"
      ],
      "text/plain": [
       "<IPython.core.display.Javascript object>"
      ]
     },
     "metadata": {},
     "output_type": "display_data"
    },
    {
     "data": {
      "application/javascript": [
       "IPython.notebook.save_notebook();"
      ],
      "text/plain": [
       "<IPython.core.display.Javascript object>"
      ]
     },
     "metadata": {},
     "output_type": "display_data"
    },
    {
     "name": "stdout",
     "output_type": "stream",
     "text": [
      "Saving notebook... Saved 'hw2.ipynb'.\n",
      "Backup... 100% complete\n",
      "Backup successful for user: mikaelaklein@berkeley.edu\n",
      "URL: https://okpy.org/cal/data100/sp17/hw2/backups/9r68lY\n",
      "NOTE: this is only a backup. To submit your assignment, use:\n",
      "\tpython3 ok --submit\n",
      "\n"
     ]
    }
   ],
   "source": [
    "_ = ok.grade('q15')\n",
    "_ = ok.backup()"
   ]
  },
  {
   "cell_type": "markdown",
   "metadata": {},
   "source": [
    "#### Question 16\n",
    "Cross-classify @realDonaldTrump tweets by `source` and by `tweet_type` into a table called `trump_pivoted`.\n",
    "\n",
    "*Hint:* We did something very similar after question 7.  You don't need to write much new code for this."
   ]
  },
  {
   "cell_type": "code",
   "execution_count": 34,
   "metadata": {
    "collapsed": false
   },
   "outputs": [
    {
     "data": {
      "text/html": [
       "<div>\n",
       "<table border=\"1\" class=\"dataframe\">\n",
       "  <thead>\n",
       "    <tr style=\"text-align: right;\">\n",
       "      <th>tweet_type</th>\n",
       "      <th>Aide retweet</th>\n",
       "      <th>Not a retweet</th>\n",
       "      <th>Trump retweet</th>\n",
       "    </tr>\n",
       "    <tr>\n",
       "      <th>source</th>\n",
       "      <th></th>\n",
       "      <th></th>\n",
       "      <th></th>\n",
       "    </tr>\n",
       "  </thead>\n",
       "  <tbody>\n",
       "    <tr>\n",
       "      <th>Instagram</th>\n",
       "      <td>0</td>\n",
       "      <td>2</td>\n",
       "      <td>0</td>\n",
       "    </tr>\n",
       "    <tr>\n",
       "      <th>Media Studio</th>\n",
       "      <td>0</td>\n",
       "      <td>1</td>\n",
       "      <td>0</td>\n",
       "    </tr>\n",
       "    <tr>\n",
       "      <th>Periscope</th>\n",
       "      <td>0</td>\n",
       "      <td>1</td>\n",
       "      <td>0</td>\n",
       "    </tr>\n",
       "    <tr>\n",
       "      <th>Twitter Ads</th>\n",
       "      <td>0</td>\n",
       "      <td>1</td>\n",
       "      <td>0</td>\n",
       "    </tr>\n",
       "    <tr>\n",
       "      <th>Twitter Web Client</th>\n",
       "      <td>42</td>\n",
       "      <td>242</td>\n",
       "      <td>0</td>\n",
       "    </tr>\n",
       "    <tr>\n",
       "      <th>Twitter for Android</th>\n",
       "      <td>8</td>\n",
       "      <td>1108</td>\n",
       "      <td>329</td>\n",
       "    </tr>\n",
       "    <tr>\n",
       "      <th>Twitter for iPad</th>\n",
       "      <td>3</td>\n",
       "      <td>19</td>\n",
       "      <td>0</td>\n",
       "    </tr>\n",
       "    <tr>\n",
       "      <th>Twitter for iPhone</th>\n",
       "      <td>139</td>\n",
       "      <td>1331</td>\n",
       "      <td>4</td>\n",
       "    </tr>\n",
       "  </tbody>\n",
       "</table>\n",
       "</div>"
      ],
      "text/plain": [
       "tweet_type           Aide retweet  Not a retweet  Trump retweet\n",
       "source                                                         \n",
       "Instagram                       0              2              0\n",
       "Media Studio                    0              1              0\n",
       "Periscope                       0              1              0\n",
       "Twitter Ads                     0              1              0\n",
       "Twitter Web Client             42            242              0\n",
       "Twitter for Android             8           1108            329\n",
       "Twitter for iPad                3             19              0\n",
       "Twitter for iPhone            139           1331              4"
      ]
     },
     "execution_count": 34,
     "metadata": {},
     "output_type": "execute_result"
    }
   ],
   "source": [
    "trump_pivoted = pivot_count(trump_df, 'source', 'tweet_type')\n",
    "trump_pivoted"
   ]
  },
  {
   "cell_type": "code",
   "execution_count": 35,
   "metadata": {
    "collapsed": false
   },
   "outputs": [
    {
     "name": "stdout",
     "output_type": "stream",
     "text": [
      "~~~~~~~~~~~~~~~~~~~~~~~~~~~~~~~~~~~~~~~~~~~~~~~~~~~~~~~~~~~~~~~~~~~~~\n",
      "Running tests\n",
      "\n",
      "---------------------------------------------------------------------\n",
      "Test summary\n",
      "    Passed: 1\n",
      "    Failed: 0\n",
      "[ooooooooook] 100.0% passed\n",
      "\n"
     ]
    },
    {
     "data": {
      "application/javascript": [
       "IPython.notebook.save_checkpoint();"
      ],
      "text/plain": [
       "<IPython.core.display.Javascript object>"
      ]
     },
     "metadata": {},
     "output_type": "display_data"
    },
    {
     "data": {
      "application/javascript": [
       "IPython.notebook.save_notebook();"
      ],
      "text/plain": [
       "<IPython.core.display.Javascript object>"
      ]
     },
     "metadata": {},
     "output_type": "display_data"
    },
    {
     "name": "stdout",
     "output_type": "stream",
     "text": [
      "Saving notebook... Saved 'hw2.ipynb'.\n",
      "Backup... 100% complete\n",
      "Backup successful for user: mikaelaklein@berkeley.edu\n",
      "URL: https://okpy.org/cal/data100/sp17/hw2/backups/pYwgEm\n",
      "NOTE: this is only a backup. To submit your assignment, use:\n",
      "\tpython3 ok --submit\n",
      "\n"
     ]
    }
   ],
   "source": [
    "_ = ok.grade('q16')\n",
    "_ = ok.backup()"
   ]
  },
  {
   "cell_type": "markdown",
   "metadata": {},
   "source": [
    "#### Question 17\n",
    "Does the cross-classified table show evidence against the hypothesis that Trump and his advisors tweet from roughly the same sources?  Again assuming you agree with Statistician Belinda, run an hypothesis test in the next cell to verify that there is a difference in the relevant distributions.  Then use the subsequent cell to describe your methodology and results.  Are there any important caveats?"
   ]
  },
  {
   "cell_type": "code",
   "execution_count": 36,
   "metadata": {
    "collapsed": false
   },
   "outputs": [
    {
     "name": "stdout",
     "output_type": "stream",
     "text": [
      "Observed TVD: 0.946321321321\n",
      "P-value: 0.0\n"
     ]
    },
    {
     "data": {
      "image/png": "[encoded data removed]",
      "text/plain": [
       "<matplotlib.figure.Figure at 0x11e82c160>"
      ]
     },
     "metadata": {},
     "output_type": "display_data"
    }
   ],
   "source": [
    "# Change the pivot data frame to proportions\n",
    "trump_pivoted_proportions = pd.DataFrame()\n",
    "trump_pivoted_proportions[\"Aide retweet\"] = trump_pivoted[\"Aide retweet\"]/np.sum(trump_pivoted[\"Aide retweet\"])\n",
    "trump_pivoted_proportions[\"Not a retweet\"] = trump_pivoted[\"Not a retweet\"]/np.sum(trump_pivoted[\"Not a retweet\"])\n",
    "trump_pivoted_proportions[\"Trump retweet\"] = trump_pivoted[\"Trump retweet\"]/np.sum(trump_pivoted[\"Trump retweet\"])\n",
    "\n",
    "# Create a dataframe with only the columns we want\n",
    "new_trump_df = trump_df.loc[:, [\"tweet_type\", \"source\"]]\n",
    "new_trump_df = new_trump_df[new_trump_df[\"tweet_type\"] != \"Not a retweet\"]\n",
    "\n",
    "# Define our test statistic\n",
    "def tvd(dist1, dist2):\n",
    "    return 0.5*(np.sum(np.abs(dist1 - dist2)))\n",
    "\n",
    "# Calulate our observed test statistic\n",
    "observed_tvd = tvd(trump_pivoted_proportions[\"Aide retweet\"], trump_pivoted_proportions[\"Trump retweet\"])\n",
    "print('Observed TVD:', observed_tvd)\n",
    "\n",
    "# Start the simulation\n",
    "repetitions = 5000\n",
    "tvds = []\n",
    "\n",
    "for i in np.arange(repetitions):\n",
    "    shuffled_source = np.random.permutation(new_trump_df[\"source\"])\n",
    "    new_trump_df[\"shuffled sources\"] = shuffled_source\n",
    "    shuffled_counts = pivot_count(new_trump_df, 'shuffled sources', 'tweet_type')\n",
    "    new_tvd = tvd(shuffled_counts[\"Aide retweet\"]/np.sum(shuffled_counts[\"Aide retweet\"]), \\\n",
    "                  shuffled_counts[\"Trump retweet\"]/np.sum(shuffled_counts[\"Trump retweet\"]))\n",
    "    tvds = np.append(tvds, new_tvd)\n",
    "    \n",
    "plt.hist(tvds)\n",
    "\n",
    "print('P-value:', sum(tvds >= observed_tvd)/repetitions)"
   ]
  },
  {
   "cell_type": "markdown",
   "metadata": {},
   "source": [
    "*By just comparing the retweets made by his aides and the retweets made by Trump himself (as in not including the tweets that are not retweets), I've found that there is a huge discrepancy between the sources Trump uses and the sources his advisors use. From our simulated histogram, we cannot even see our observed test-statisic, which implies that our p-value is basically 0. Therefore, we have enough evidence to reject our null hypothesis that Trump and his advisors retweet from roughly the same sources.*"
   ]
  },
  {
   "cell_type": "markdown",
   "metadata": {},
   "source": [
    "We are really interested in knowing whether we can classify @realDonaldTrump tweets on the basis of the source.  Just knowing that there is a difference in source distributions isn't nearly enough.  Instead, we would like to claim something like this: \"@realDonaldTrump tweets from Twitter for Android are generally authored by Trump himself.  Other tweets are generally authored by his aides.\"\n",
    "\n",
    "#### Question 18\n",
    "If you use bootstrap methods to compute a confidence interval for the proportion of Trump aide retweets from Android phones in \"the population of all @realDonaldTrump retweets,\" you will find that the interval is [0, 0].  That's because there are no retweets from Android phones by Trump aides in our dataset.  Is it reasonable to conclude from this that Trump aides definitely never tweet from Android phones?"
   ]
  },
  {
   "cell_type": "markdown",
   "metadata": {},
   "source": [
    "*No, I believe that it is not reasonable to conclude that from the fact that there are no retweets from Android phone by Trump aides that aides definitely never tweet from Android phones. We cannot come to this conclusion because the data about retweets does not explain the trends in tweets. It could be the case that Trump only likes to retweet, and he does so from his Android phone, but the tweets from his phone are made by his aides. Since we don't have any data on tweets, we cannot just assume that Trumps's tweet behavior is the same as his retweet behavior, especially if we assume that tweeting and retweeting are completely unrelated events.*"
   ]
  },
  {
   "cell_type": "markdown",
   "metadata": {},
   "source": [
    "# Submitting your assignment\n",
    "First, run the next cell to run all the tests at once."
   ]
  },
  {
   "cell_type": "code",
   "execution_count": 37,
   "metadata": {
    "collapsed": false
   },
   "outputs": [
    {
     "name": "stdout",
     "output_type": "stream",
     "text": [
      "~~~~~~~~~~~~~~~~~~~~~~~~~~~~~~~~~~~~~~~~~~~~~~~~~~~~~~~~~~~~~~~~~~~~~\n",
      "Running tests\n",
      "\n",
      "---------------------------------------------------------------------\n",
      "Test summary\n",
      "    Passed: 2\n",
      "    Failed: 0\n",
      "[ooooooooook] 100.0% passed\n",
      "\n",
      "~~~~~~~~~~~~~~~~~~~~~~~~~~~~~~~~~~~~~~~~~~~~~~~~~~~~~~~~~~~~~~~~~~~~~\n",
      "Running tests\n",
      "\n",
      "---------------------------------------------------------------------\n",
      "Test summary\n",
      "    Passed: 1\n",
      "    Failed: 0\n",
      "[ooooooooook] 100.0% passed\n",
      "\n",
      "~~~~~~~~~~~~~~~~~~~~~~~~~~~~~~~~~~~~~~~~~~~~~~~~~~~~~~~~~~~~~~~~~~~~~\n",
      "Running tests\n",
      "\n",
      "---------------------------------------------------------------------\n",
      "Test summary\n",
      "    Passed: 1\n",
      "    Failed: 0\n",
      "[ooooooooook] 100.0% passed\n",
      "\n",
      "~~~~~~~~~~~~~~~~~~~~~~~~~~~~~~~~~~~~~~~~~~~~~~~~~~~~~~~~~~~~~~~~~~~~~\n",
      "Running tests\n",
      "\n",
      "---------------------------------------------------------------------\n",
      "Test summary\n",
      "    Passed: 1\n",
      "    Failed: 0\n",
      "[ooooooooook] 100.0% passed\n",
      "\n",
      "~~~~~~~~~~~~~~~~~~~~~~~~~~~~~~~~~~~~~~~~~~~~~~~~~~~~~~~~~~~~~~~~~~~~~\n",
      "Running tests\n",
      "\n",
      "---------------------------------------------------------------------\n",
      "Test summary\n",
      "    Passed: 1\n",
      "    Failed: 0\n",
      "[ooooooooook] 100.0% passed\n",
      "\n",
      "~~~~~~~~~~~~~~~~~~~~~~~~~~~~~~~~~~~~~~~~~~~~~~~~~~~~~~~~~~~~~~~~~~~~~\n",
      "Running tests\n",
      "\n",
      "---------------------------------------------------------------------\n",
      "Test summary\n",
      "    Passed: 1\n",
      "    Failed: 0\n",
      "[ooooooooook] 100.0% passed\n",
      "\n"
     ]
    }
   ],
   "source": [
    "_ = ok.grade_all()"
   ]
  },
  {
   "cell_type": "markdown",
   "metadata": {},
   "source": [
    "Now, run this code in your terminal to make a\n",
    "[git commit](https://www.atlassian.com/git/tutorials/saving-changes/git-commit)\n",
    "that saves a snapshot of your changes in `git`. The last line of the cell\n",
    "runs [git push](http://stackoverflow.com/questions/2745076/what-are-the-differences-between-git-commit-and-git-push), which will send your work to your personal Github repo.\n",
    "\n",
    "**Note:** Don't add and commit your `keys.json` file!  `git add -A` will do that, but the code we've written below won't.\n",
    "\n",
    "    # Tell git to commit your changes to this notebook\n",
    "    git add sp17/hw/hw2/hw2.ipynb\n",
    "    \n",
    "    # Tell git to make the commit\n",
    "    git commit -m \"hw2 finished\"\n",
    "    \n",
    "    # Send your updates to your personal private repo\n",
    "    git push origin master\n",
    "\n",
    "Finally, we'll submit the assignment to OkPy so that the staff will know to grade it. You can submit as many times as you want, and you can choose which submission you want us to grade by going to https://okpy.org/cal/data100/sp17/."
   ]
  },
  {
   "cell_type": "code",
   "execution_count": 38,
   "metadata": {
    "collapsed": false
   },
   "outputs": [
    {
     "data": {
      "application/javascript": [
       "IPython.notebook.save_checkpoint();"
      ],
      "text/plain": [
       "<IPython.core.display.Javascript object>"
      ]
     },
     "metadata": {},
     "output_type": "display_data"
    },
    {
     "data": {
      "application/javascript": [
       "IPython.notebook.save_notebook();"
      ],
      "text/plain": [
       "<IPython.core.display.Javascript object>"
      ]
     },
     "metadata": {},
     "output_type": "display_data"
    },
    {
     "name": "stdout",
     "output_type": "stream",
     "text": [
      "Saving notebook... Saved 'hw2.ipynb'.\n",
      "Submit... 100% complete\n",
      "Submission successful for user: mikaelaklein@berkeley.edu\n",
      "URL: https://okpy.org/cal/data100/sp17/hw2/submissions/XDx6mV\n",
      "\n"
     ]
    }
   ],
   "source": [
    "# Now, we'll submit to okpy\n",
    "_ = ok.submit()"
   ]
  },
  {
   "cell_type": "markdown",
   "metadata": {},
   "source": [
    "Congratulations, you're done!\n",
    "\n",
    "We've only scratched the surface of this dataset.  Twitter is a rich source of data about language and social interaction, and not only for political figures.  Now you know how to access it!"
   ]
  }
 ],
 "metadata": {
  "anaconda-cloud": {},
  "kernelspec": {
   "display_name": "Python 3",
   "language": "python",
   "name": "python3"
  },
  "language_info": {
   "codemirror_mode": {
    "name": "ipython",
    "version": 3
   },
   "file_extension": ".py",
   "mimetype": "text/x-python",
   "name": "python",
   "nbconvert_exporter": "python",
   "pygments_lexer": "ipython3",
   "version": "3.5.2"
  }
 },
 "nbformat": 4,
 "nbformat_minor": 1
}
