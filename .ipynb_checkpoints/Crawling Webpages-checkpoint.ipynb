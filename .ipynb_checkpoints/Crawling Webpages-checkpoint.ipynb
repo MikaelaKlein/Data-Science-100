{
 "cells": [
  {
   "cell_type": "markdown",
   "metadata": {
    "deletable": true,
    "editable": true
   },
   "source": [
    "## Homework 5"
   ]
  },
  {
   "cell_type": "code",
   "execution_count": 1,
   "metadata": {
    "collapsed": false,
    "deletable": true,
    "editable": true
   },
   "outputs": [
    {
     "name": "stdout",
     "output_type": "stream",
     "text": [
      "Requirement already up-to-date: okpy in /anaconda/envs/ds100/lib/python3.5/site-packages\n",
      "Requirement already up-to-date: requests==2.12.4 in /anaconda/envs/ds100/lib/python3.5/site-packages (from okpy)\n",
      "=====================================================================\n",
      "Assignment: Homework 5\n",
      "OK, version v1.11.0\n",
      "=====================================================================\n",
      "\n"
     ]
    }
   ],
   "source": [
    "import numpy as np\n",
    "import pandas as pd\n",
    "%matplotlib inline\n",
    "import matplotlib.pyplot as plt\n",
    "import seaborn as sns\n",
    "from IPython.display import display, Latex, Markdown\n",
    "\n",
    "!pip install -U okpy\n",
    "from client.api.notebook import Notebook\n",
    "ok = Notebook('hw5.ok')"
   ]
  },
  {
   "cell_type": "markdown",
   "metadata": {
    "deletable": true,
    "editable": true
   },
   "source": [
    "## This assignment\n",
    "\n",
    "In this assignment we will study a fundamental problem in crawling the web: *deciding when to re-index changing pages*.  \n",
    "\n",
    "Search engines like those deployed at Google and Microsoft periodically visit, or *crawl*, web pages to check their current status and record any changes to the page.  Some pages, such as news websites, are updated frequently while other pages, [like this one](http://youvegotmail.warnerbros.com/cmp/0frameset.html), are never updated. \n",
    "\n",
    "**Why not crawl the entire web all the time?**\n",
    "\n",
    "The web is **big** and even giant search engines don't have the resources to re-read the entire web continuously.  Fortunately, different sites change at different rates, so an intuitive strategy would be to visit sites more if they are changed more frequently.  But this requires us to know, or at least estimate, how often each web site is changed.  This is the main question you'll answer in this assignment.\n",
    "\n",
    "\n",
    "Along the way you will:\n",
    "\n",
    "* do some EDA to understand the site dataset.\n",
    "* build several *models* for the site changes.\n",
    "* use simulation to get a concrete understanding of your models.\n",
    "* compute maximum-likelihood estimates of model parameters.\n",
    "* use simulation and visualization to understand the accuracy of your estimates of site change frequencies."
   ]
  },
  {
   "cell_type": "markdown",
   "metadata": {
    "deletable": true,
    "editable": true
   },
   "source": [
    "## Examining the data\n",
    "Our dataset consists of observations for about 1000 pages over a 30-day period.  Every hour, each page was downloaded, and it was determined whether the page had been changed since the previous hour.  For the first hour, we can't tell whether it has changed, so there are 719 such \"checks\" for each page.\n",
    "\n",
    "**Important fact about the data:** Not every check succeeded.  Sometimes the page failed to load, or it was otherwise impossible to tell whether it had changed since the previous hour.  These hours are **omitted** from the dataset.  A field in the dataset indicates the number of successful checks for each page.\n",
    "\n",
    "The dataset is in JSON format in the file `crawl.json`.  For each page, we have: the URL, called `url`; the number of successful visits to the page, `number of checks`; and the checks when a change was detected, called `positive checks`.  Examine the `crawl.json` file.  You might find it convenient to load it into python using `json.load`.  The next cell two cells are provided for that."
   ]
  },
  {
   "cell_type": "code",
   "execution_count": 2,
   "metadata": {
    "collapsed": false,
    "deletable": true,
    "editable": true
   },
   "outputs": [
    {
     "name": "stdout",
     "output_type": "stream",
     "text": [
      "[\r\n",
      "    {\r\n",
      "        \"number of checks\": 378,\r\n",
      "        \"positive checks\": [\r\n",
      "            35,\r\n",
      "            134,\r\n",
      "            155,\r\n",
      "            157,\r\n",
      "            177,\r\n",
      "            204,\r\n",
      "            314,\r\n",
      "            315,\r\n",
      "            319,\r\n",
      "            350,\r\n",
      "            366,\r\n",
      "            369,\r\n",
      "            371\r\n",
      "        ],\r\n",
      "        \"url\": \"http://5eg.net/gallery/thumbnails.php?album=lastcom\"\r\n",
      "    },\r\n",
      "    {\r\n",
      "        \"number of checks\": 707,\r\n",
      "        \"positive checks\": [\r\n",
      "            552,\r\n",
      "            604,\r\n"
     ]
    }
   ],
   "source": [
    "# Use this cell to examine the dataset, if you like.\n",
    "!head -n 25 crawl.json"
   ]
  },
  {
   "cell_type": "code",
   "execution_count": 3,
   "metadata": {
    "collapsed": true,
    "deletable": true,
    "editable": true
   },
   "outputs": [],
   "source": [
    "# This cell loads the JSON data into Python.\n",
    "import json\n",
    "with open(\"crawl.json\", \"r\") as f:\n",
    "    crawl_json = json.load(f)"
   ]
  },
  {
   "cell_type": "markdown",
   "metadata": {
    "deletable": true,
    "editable": true
   },
   "source": [
    "\n",
    "---\n",
    "\n",
    "## Question 1"
   ]
  },
  {
   "cell_type": "markdown",
   "metadata": {
    "deletable": true,
    "editable": true
   },
   "source": [
    "Fill in the function `json_description` to determine:\n",
    "\n",
    "1. the number of records, and\n",
    "2. the set of possible top level *keys* (field names) in each record."
   ]
  },
  {
   "cell_type": "code",
   "execution_count": 4,
   "metadata": {
    "collapsed": true,
    "deletable": true,
    "editable": true,
    "for_assignment_type": "student"
   },
   "outputs": [],
   "source": [
    "def json_description(crawl_json_records):\n",
    "    \"\"\"Produces information about a JSON object containing crawl data.\n",
    "    \n",
    "    Args:\n",
    "      crawl_json_records (list): A list of JSON objects such as the\n",
    "                                 crawl_json variable above.\n",
    "    \n",
    "    Returns:\n",
    "      2-tuple: An (int, set) pair.  The integer is the number of records\n",
    "               in the given list.  The set is a set (constructed with\n",
    "               Python's set() function) of strings.  It contains all the\n",
    "               field top names that appear at the top level of any record\n",
    "               in crawl_json_records.\n",
    "    \"\"\"\n",
    "    num_records = len(crawl_json_records)\n",
    "    possible_fields = set(crawl_json_records[0].keys())\n",
    "    \n",
    "    # Feel free to erase the next line.  It just demonstrates how\n",
    "    # to return a tuple.  You'll have to replace the variable names\n",
    "    # with whatever you define in this function.\n",
    "    \n",
    "    return (num_records, possible_fields)"
   ]
  },
  {
   "cell_type": "code",
   "execution_count": 5,
   "metadata": {
    "collapsed": false
   },
   "outputs": [
    {
     "data": {
      "text/plain": [
       "(1000, {'number of checks', 'positive checks', 'url'})"
      ]
     },
     "execution_count": 5,
     "metadata": {},
     "output_type": "execute_result"
    }
   ],
   "source": [
    "json_description(crawl_json)"
   ]
  },
  {
   "cell_type": "code",
   "execution_count": 6,
   "metadata": {
    "collapsed": false,
    "deletable": true,
    "editable": true
   },
   "outputs": [
    {
     "name": "stdout",
     "output_type": "stream",
     "text": [
      "~~~~~~~~~~~~~~~~~~~~~~~~~~~~~~~~~~~~~~~~~~~~~~~~~~~~~~~~~~~~~~~~~~~~~\n",
      "Running tests\n",
      "\n",
      "---------------------------------------------------------------------\n",
      "Test summary\n",
      "    Passed: 1\n",
      "    Failed: 0\n",
      "[ooooooooook] 100.0% passed\n",
      "\n"
     ]
    },
    {
     "data": {
      "application/javascript": [
       "IPython.notebook.save_checkpoint();"
      ],
      "text/plain": [
       "<IPython.core.display.Javascript object>"
      ]
     },
     "metadata": {},
     "output_type": "display_data"
    },
    {
     "data": {
      "application/javascript": [
       "IPython.notebook.save_notebook();"
      ],
      "text/plain": [
       "<IPython.core.display.Javascript object>"
      ]
     },
     "metadata": {},
     "output_type": "display_data"
    },
    {
     "name": "stdout",
     "output_type": "stream",
     "text": [
      "Saving notebook... Saved 'hw5.ipynb'.\n",
      "Performing authentication\n",
      "Please enter your bCourses email.\n",
      "bCourses email: mikaelaklein@berkeley.edu\n",
      "Successfully logged in as mikaelaklein@berkeley.edu\n",
      "Backup... 100% complete\n",
      "Backup successful for user: mikaelaklein@berkeley.edu\n",
      "\n"
     ]
    }
   ],
   "source": [
    "_ = ok.grade('q01')\n",
    "_ = ok.backup()"
   ]
  },
  {
   "cell_type": "code",
   "execution_count": 7,
   "metadata": {
    "collapsed": false,
    "deletable": true,
    "editable": true
   },
   "outputs": [
    {
     "name": "stdout",
     "output_type": "stream",
     "text": [
      "Number of records: 1000\n",
      "Keys in the records: {'number of checks', 'url', 'positive checks'}\n"
     ]
    }
   ],
   "source": [
    "# Display results\n",
    "n, keys = json_description(crawl_json)\n",
    "print(\"Number of records:\", n)\n",
    "print(\"Keys in the records:\", keys)"
   ]
  },
  {
   "cell_type": "markdown",
   "metadata": {
    "deletable": true,
    "editable": true
   },
   "source": [
    "---\n",
    "\n",
    "## Question 2\n",
    "What is the granularity of the dataset as represented in `crawl.json`?  Write a one to two sentence description in the cell below:"
   ]
  },
  {
   "cell_type": "code",
   "execution_count": 8,
   "metadata": {
    "collapsed": false,
    "deletable": true,
    "editable": true,
    "for_assignment_type": "student"
   },
   "outputs": [
    {
     "data": {
      "text/markdown": [
       "\n",
       "\n",
       "The granularity is pages.\n",
       "\n"
      ],
      "text/plain": [
       "<IPython.core.display.Markdown object>"
      ]
     },
     "metadata": {},
     "output_type": "display_data"
    }
   ],
   "source": [
    "# Use this cell for your explorations.\n",
    "q2_answer = r\"\"\"\n",
    "\n",
    "The granularity is pages.\n",
    "\n",
    "\"\"\"\n",
    "\n",
    "display(Markdown(q2_answer))"
   ]
  },
  {
   "cell_type": "markdown",
   "metadata": {
    "deletable": true,
    "editable": true
   },
   "source": [
    "\n",
    "---\n",
    "\n",
    "## Question 3\n",
    "\n",
    "It will be more convenient to work with the data in Pandas DataFrame with a rectangular format.  Fill in the function `make_crawls_dataframe` in the cell below.  **Then** run the cell below that to create the table `crawls`."
   ]
  },
  {
   "cell_type": "code",
   "execution_count": 9,
   "metadata": {
    "collapsed": false,
    "deletable": true,
    "editable": true,
    "for_assignment_type": "student"
   },
   "outputs": [],
   "source": [
    "def make_crawls_dataframe(crawl_json_records):\n",
    "    \"\"\"Creates a Pandas DataFrame from the given list of JSON records.\n",
    "    \n",
    "    The DataFrame corresponds to the following relation:\n",
    "\n",
    "        crawls(primary key (url, hour), updated)\n",
    "\n",
    "    Each hour in which a crawl happened for a page (regardless of\n",
    "    whether it found a change) should be represented.  `updated` is\n",
    "    a boolean value indicating whether the check for that hour found\n",
    "    a change.\n",
    "\n",
    "    The result is sorted by URL in ascending order and **further**\n",
    "    sorted by hour in ascending order among the rows for each URL.\n",
    "    \n",
    "    Args:\n",
    "      crawl_json_records (list): A list of JSON objects such as the\n",
    "                                 crawl_json variable above.\n",
    "    \n",
    "    Returns:\n",
    "      DataFrame: A table whose schema (and sort order) is described\n",
    "                 above.\n",
    "    \"\"\"\n",
    "    url_list = []\n",
    "    for i in range(len(crawl_json_records)):\n",
    "        url_list = url_list + [crawl_json_records[i]['url']]*crawl_json_records[i]['number of checks']\n",
    "    \n",
    "    hour = []\n",
    "    for i in range(len(crawl_json_records)):\n",
    "        hour = np.append(hour, np.arange(1, crawl_json_records[i]['number of checks']+1))\n",
    "    \n",
    "    updated = []\n",
    "    for i in range(len(crawl_json_records)):\n",
    "        updated = np.append(updated, np.in1d(np.arange(1, crawl_json_records[i]['number of checks']+1), \\\n",
    "                                             crawl_json_records[i]['positive checks']))\n",
    "    \n",
    "    df = pd.DataFrame()\n",
    "    df['url'] = np.array(url_list)\n",
    "    df['hour'] = [int(hour[i]) for i in range(len(hour))]\n",
    "    df['updated'] = [bool(updated[i]) for i in range(len(updated))]\n",
    "    \n",
    "    return df.sort_values(['url', 'hour']).set_index(['url', 'hour'])"
   ]
  },
  {
   "cell_type": "code",
   "execution_count": 10,
   "metadata": {
    "collapsed": false,
    "deletable": true,
    "editable": true
   },
   "outputs": [
    {
     "data": {
      "text/html": [
       "<div>\n",
       "<table border=\"1\" class=\"dataframe\">\n",
       "  <thead>\n",
       "    <tr style=\"text-align: right;\">\n",
       "      <th></th>\n",
       "      <th></th>\n",
       "      <th>updated</th>\n",
       "    </tr>\n",
       "    <tr>\n",
       "      <th>url</th>\n",
       "      <th>hour</th>\n",
       "      <th></th>\n",
       "    </tr>\n",
       "  </thead>\n",
       "  <tbody>\n",
       "    <tr>\n",
       "      <th rowspan=\"30\" valign=\"top\">http://0968797090.blinklist.com/tag/%E5%8F%B0%E5%8C%97%E9%A0%82%E9%BB%9E%E7%AE%A1%E7%90%86%E5%A7%94%E5%93%A1%E6%9C%83/</th>\n",
       "      <th>1</th>\n",
       "      <td>False</td>\n",
       "    </tr>\n",
       "    <tr>\n",
       "      <th>2</th>\n",
       "      <td>False</td>\n",
       "    </tr>\n",
       "    <tr>\n",
       "      <th>3</th>\n",
       "      <td>False</td>\n",
       "    </tr>\n",
       "    <tr>\n",
       "      <th>4</th>\n",
       "      <td>False</td>\n",
       "    </tr>\n",
       "    <tr>\n",
       "      <th>5</th>\n",
       "      <td>False</td>\n",
       "    </tr>\n",
       "    <tr>\n",
       "      <th>6</th>\n",
       "      <td>False</td>\n",
       "    </tr>\n",
       "    <tr>\n",
       "      <th>7</th>\n",
       "      <td>False</td>\n",
       "    </tr>\n",
       "    <tr>\n",
       "      <th>8</th>\n",
       "      <td>False</td>\n",
       "    </tr>\n",
       "    <tr>\n",
       "      <th>9</th>\n",
       "      <td>False</td>\n",
       "    </tr>\n",
       "    <tr>\n",
       "      <th>10</th>\n",
       "      <td>False</td>\n",
       "    </tr>\n",
       "    <tr>\n",
       "      <th>11</th>\n",
       "      <td>False</td>\n",
       "    </tr>\n",
       "    <tr>\n",
       "      <th>12</th>\n",
       "      <td>False</td>\n",
       "    </tr>\n",
       "    <tr>\n",
       "      <th>13</th>\n",
       "      <td>False</td>\n",
       "    </tr>\n",
       "    <tr>\n",
       "      <th>14</th>\n",
       "      <td>False</td>\n",
       "    </tr>\n",
       "    <tr>\n",
       "      <th>15</th>\n",
       "      <td>False</td>\n",
       "    </tr>\n",
       "    <tr>\n",
       "      <th>16</th>\n",
       "      <td>False</td>\n",
       "    </tr>\n",
       "    <tr>\n",
       "      <th>17</th>\n",
       "      <td>False</td>\n",
       "    </tr>\n",
       "    <tr>\n",
       "      <th>18</th>\n",
       "      <td>False</td>\n",
       "    </tr>\n",
       "    <tr>\n",
       "      <th>19</th>\n",
       "      <td>False</td>\n",
       "    </tr>\n",
       "    <tr>\n",
       "      <th>20</th>\n",
       "      <td>False</td>\n",
       "    </tr>\n",
       "    <tr>\n",
       "      <th>21</th>\n",
       "      <td>False</td>\n",
       "    </tr>\n",
       "    <tr>\n",
       "      <th>22</th>\n",
       "      <td>False</td>\n",
       "    </tr>\n",
       "    <tr>\n",
       "      <th>23</th>\n",
       "      <td>False</td>\n",
       "    </tr>\n",
       "    <tr>\n",
       "      <th>24</th>\n",
       "      <td>False</td>\n",
       "    </tr>\n",
       "    <tr>\n",
       "      <th>25</th>\n",
       "      <td>False</td>\n",
       "    </tr>\n",
       "    <tr>\n",
       "      <th>26</th>\n",
       "      <td>False</td>\n",
       "    </tr>\n",
       "    <tr>\n",
       "      <th>27</th>\n",
       "      <td>False</td>\n",
       "    </tr>\n",
       "    <tr>\n",
       "      <th>28</th>\n",
       "      <td>False</td>\n",
       "    </tr>\n",
       "    <tr>\n",
       "      <th>29</th>\n",
       "      <td>False</td>\n",
       "    </tr>\n",
       "    <tr>\n",
       "      <th>30</th>\n",
       "      <td>False</td>\n",
       "    </tr>\n",
       "    <tr>\n",
       "      <th>...</th>\n",
       "      <th>...</th>\n",
       "      <td>...</td>\n",
       "    </tr>\n",
       "    <tr>\n",
       "      <th rowspan=\"30\" valign=\"top\">https://www.northwestcollege.org/tr/index.cfm</th>\n",
       "      <th>690</th>\n",
       "      <td>False</td>\n",
       "    </tr>\n",
       "    <tr>\n",
       "      <th>691</th>\n",
       "      <td>False</td>\n",
       "    </tr>\n",
       "    <tr>\n",
       "      <th>692</th>\n",
       "      <td>False</td>\n",
       "    </tr>\n",
       "    <tr>\n",
       "      <th>693</th>\n",
       "      <td>False</td>\n",
       "    </tr>\n",
       "    <tr>\n",
       "      <th>694</th>\n",
       "      <td>False</td>\n",
       "    </tr>\n",
       "    <tr>\n",
       "      <th>695</th>\n",
       "      <td>True</td>\n",
       "    </tr>\n",
       "    <tr>\n",
       "      <th>696</th>\n",
       "      <td>True</td>\n",
       "    </tr>\n",
       "    <tr>\n",
       "      <th>697</th>\n",
       "      <td>True</td>\n",
       "    </tr>\n",
       "    <tr>\n",
       "      <th>698</th>\n",
       "      <td>False</td>\n",
       "    </tr>\n",
       "    <tr>\n",
       "      <th>699</th>\n",
       "      <td>True</td>\n",
       "    </tr>\n",
       "    <tr>\n",
       "      <th>700</th>\n",
       "      <td>False</td>\n",
       "    </tr>\n",
       "    <tr>\n",
       "      <th>701</th>\n",
       "      <td>True</td>\n",
       "    </tr>\n",
       "    <tr>\n",
       "      <th>702</th>\n",
       "      <td>True</td>\n",
       "    </tr>\n",
       "    <tr>\n",
       "      <th>703</th>\n",
       "      <td>True</td>\n",
       "    </tr>\n",
       "    <tr>\n",
       "      <th>704</th>\n",
       "      <td>False</td>\n",
       "    </tr>\n",
       "    <tr>\n",
       "      <th>705</th>\n",
       "      <td>True</td>\n",
       "    </tr>\n",
       "    <tr>\n",
       "      <th>706</th>\n",
       "      <td>True</td>\n",
       "    </tr>\n",
       "    <tr>\n",
       "      <th>707</th>\n",
       "      <td>False</td>\n",
       "    </tr>\n",
       "    <tr>\n",
       "      <th>708</th>\n",
       "      <td>True</td>\n",
       "    </tr>\n",
       "    <tr>\n",
       "      <th>709</th>\n",
       "      <td>True</td>\n",
       "    </tr>\n",
       "    <tr>\n",
       "      <th>710</th>\n",
       "      <td>True</td>\n",
       "    </tr>\n",
       "    <tr>\n",
       "      <th>711</th>\n",
       "      <td>True</td>\n",
       "    </tr>\n",
       "    <tr>\n",
       "      <th>712</th>\n",
       "      <td>False</td>\n",
       "    </tr>\n",
       "    <tr>\n",
       "      <th>713</th>\n",
       "      <td>False</td>\n",
       "    </tr>\n",
       "    <tr>\n",
       "      <th>714</th>\n",
       "      <td>False</td>\n",
       "    </tr>\n",
       "    <tr>\n",
       "      <th>715</th>\n",
       "      <td>False</td>\n",
       "    </tr>\n",
       "    <tr>\n",
       "      <th>716</th>\n",
       "      <td>False</td>\n",
       "    </tr>\n",
       "    <tr>\n",
       "      <th>717</th>\n",
       "      <td>False</td>\n",
       "    </tr>\n",
       "    <tr>\n",
       "      <th>718</th>\n",
       "      <td>True</td>\n",
       "    </tr>\n",
       "    <tr>\n",
       "      <th>719</th>\n",
       "      <td>True</td>\n",
       "    </tr>\n",
       "  </tbody>\n",
       "</table>\n",
       "<p>521674 rows × 1 columns</p>\n",
       "</div>"
      ],
      "text/plain": [
       "                                                        updated\n",
       "url                                                hour        \n",
       "http://0968797090.blinklist.com/tag/%E5%8F%B0%E... 1      False\n",
       "                                                   2      False\n",
       "                                                   3      False\n",
       "                                                   4      False\n",
       "                                                   5      False\n",
       "                                                   6      False\n",
       "                                                   7      False\n",
       "                                                   8      False\n",
       "                                                   9      False\n",
       "                                                   10     False\n",
       "                                                   11     False\n",
       "                                                   12     False\n",
       "                                                   13     False\n",
       "                                                   14     False\n",
       "                                                   15     False\n",
       "                                                   16     False\n",
       "                                                   17     False\n",
       "                                                   18     False\n",
       "                                                   19     False\n",
       "                                                   20     False\n",
       "                                                   21     False\n",
       "                                                   22     False\n",
       "                                                   23     False\n",
       "                                                   24     False\n",
       "                                                   25     False\n",
       "                                                   26     False\n",
       "                                                   27     False\n",
       "                                                   28     False\n",
       "                                                   29     False\n",
       "                                                   30     False\n",
       "...                                                         ...\n",
       "https://www.northwestcollege.org/tr/index.cfm      690    False\n",
       "                                                   691    False\n",
       "                                                   692    False\n",
       "                                                   693    False\n",
       "                                                   694    False\n",
       "                                                   695     True\n",
       "                                                   696     True\n",
       "                                                   697     True\n",
       "                                                   698    False\n",
       "                                                   699     True\n",
       "                                                   700    False\n",
       "                                                   701     True\n",
       "                                                   702     True\n",
       "                                                   703     True\n",
       "                                                   704    False\n",
       "                                                   705     True\n",
       "                                                   706     True\n",
       "                                                   707    False\n",
       "                                                   708     True\n",
       "                                                   709     True\n",
       "                                                   710     True\n",
       "                                                   711     True\n",
       "                                                   712    False\n",
       "                                                   713    False\n",
       "                                                   714    False\n",
       "                                                   715    False\n",
       "                                                   716    False\n",
       "                                                   717    False\n",
       "                                                   718     True\n",
       "                                                   719     True\n",
       "\n",
       "[521674 rows x 1 columns]"
      ]
     },
     "execution_count": 10,
     "metadata": {},
     "output_type": "execute_result"
    }
   ],
   "source": [
    "# Run this cell before you continue.\n",
    "crawls = make_crawls_dataframe(crawl_json)\n",
    "crawls"
   ]
  },
  {
   "cell_type": "code",
   "execution_count": 11,
   "metadata": {
    "collapsed": false,
    "deletable": true,
    "editable": true
   },
   "outputs": [
    {
     "name": "stdout",
     "output_type": "stream",
     "text": [
      "~~~~~~~~~~~~~~~~~~~~~~~~~~~~~~~~~~~~~~~~~~~~~~~~~~~~~~~~~~~~~~~~~~~~~\n",
      "Running tests\n",
      "\n",
      "---------------------------------------------------------------------\n",
      "Test summary\n",
      "    Passed: 1\n",
      "    Failed: 0\n",
      "[ooooooooook] 100.0% passed\n",
      "\n"
     ]
    },
    {
     "data": {
      "application/javascript": [
       "IPython.notebook.save_checkpoint();"
      ],
      "text/plain": [
       "<IPython.core.display.Javascript object>"
      ]
     },
     "metadata": {},
     "output_type": "display_data"
    },
    {
     "data": {
      "application/javascript": [
       "IPython.notebook.save_notebook();"
      ],
      "text/plain": [
       "<IPython.core.display.Javascript object>"
      ]
     },
     "metadata": {},
     "output_type": "display_data"
    },
    {
     "name": "stdout",
     "output_type": "stream",
     "text": [
      "Saving notebook... Saved 'hw5.ipynb'.\n",
      "Backup... 100% complete\n",
      "Backup successful for user: mikaelaklein@berkeley.edu\n",
      "\n"
     ]
    }
   ],
   "source": [
    "_ = ok.grade('q03')\n",
    "_ = ok.backup()"
   ]
  },
  {
   "cell_type": "markdown",
   "metadata": {
    "deletable": true,
    "editable": true
   },
   "source": [
    "## Question 4\n",
    "There are other reasonable ways to represent the data in a relational database (or in DataFrames).  One alternate schema uses 2 relations to represent the data.  The first relation is:\n",
    "\n",
    "    crawls_that_found_changes(primary key (url, hour))\n",
    "\n",
    "The primary key for the second relation is `url`.  Define a schema for that 2nd relation.  Your schema should ensure that the two resulting tables could be used to answer any question that could be answered using `crawls`."
   ]
  },
  {
   "cell_type": "code",
   "execution_count": 12,
   "metadata": {
    "collapsed": false,
    "deletable": true,
    "editable": true,
    "for_assignment_type": "student"
   },
   "outputs": [
    {
     "data": {
      "text/markdown": [
       "\n",
       "\n",
       "crawl_urls(primary key (url))\n",
       "\n"
      ],
      "text/plain": [
       "<IPython.core.display.Markdown object>"
      ]
     },
     "metadata": {},
     "output_type": "display_data"
    }
   ],
   "source": [
    "# Use this cell for your explorations.  Write the schema\n",
    "# in text in the string below.\n",
    "q4_answer = r\"\"\"\n",
    "\n",
    "crawl_urls(primary key (url))\n",
    "\n",
    "\"\"\"\n",
    "\n",
    "display(Markdown(q4_answer))"
   ]
  },
  {
   "cell_type": "markdown",
   "metadata": {
    "deletable": true,
    "editable": true
   },
   "source": [
    "\n",
    "---\n",
    "\n",
    "## Question 5\n",
    "\n",
    "In the following we will construct visualizations to understand several key quantities of interest.  The following cell constructs some key summary statistics that we will be using in the next few questions."
   ]
  },
  {
   "cell_type": "code",
   "execution_count": 13,
   "metadata": {
    "collapsed": true,
    "deletable": true,
    "editable": true
   },
   "outputs": [],
   "source": [
    "crawl_stats = (\n",
    "    crawls['updated']\n",
    "        .groupby(crawls.index.get_level_values('url'))\n",
    "        .agg({\n",
    "            'number of crawls': 'count', \n",
    "            'proportion of updates': 'mean', \n",
    "            'number of updates': 'sum'\n",
    "        })\n",
    ")"
   ]
  },
  {
   "cell_type": "markdown",
   "metadata": {
    "deletable": true,
    "editable": true
   },
   "source": [
    "### Part 1:\n",
    "\n",
    "What was the distribution of the number of crawls for each page?  Did most get crawled all 719 times?  (For this and the other parts of this question, create a *visualization* to answer the question.)"
   ]
  },
  {
   "cell_type": "code",
   "execution_count": 14,
   "metadata": {
    "collapsed": false,
    "deletable": true,
    "editable": true,
    "for_assignment_type": "student"
   },
   "outputs": [
    {
     "data": {
      "image/png": "[encoded data removed]",
      "text/plain": [
       "<matplotlib.figure.Figure at 0x10f948278>"
      ]
     },
     "metadata": {},
     "output_type": "display_data"
    }
   ],
   "source": [
    "plt.hist(crawl_stats['number of crawls'], bins = 36)\n",
    "\n",
    "# Leave this for grading purposes\n",
    "q5_p1_plot = plt.gcf()"
   ]
  },
  {
   "cell_type": "markdown",
   "metadata": {
    "deletable": true,
    "editable": true
   },
   "source": [
    "### Part 2\n",
    "\n",
    "What was the distribution of the number of positive checks for each page?"
   ]
  },
  {
   "cell_type": "code",
   "execution_count": 15,
   "metadata": {
    "collapsed": false,
    "deletable": true,
    "editable": true,
    "for_assignment_type": "student"
   },
   "outputs": [
    {
     "data": {
      "image/png": "[encoded data removed]",
      "text/plain": [
       "<matplotlib.figure.Figure at 0x11398d3c8>"
      ]
     },
     "metadata": {},
     "output_type": "display_data"
    }
   ],
   "source": [
    "plt.hist(crawl_stats['number of updates'], bins = 36)\n",
    "\n",
    "# Leave this for grading purposes\n",
    "q5_p2_plot = plt.gcf()"
   ]
  },
  {
   "cell_type": "markdown",
   "metadata": {
    "deletable": true,
    "editable": true
   },
   "source": [
    "### Part 3\n",
    "\n",
    "What is the relationship between the number of crawls for each page and the number of positive checks? Construct a scatter plot relating these two quantities."
   ]
  },
  {
   "cell_type": "code",
   "execution_count": 16,
   "metadata": {
    "collapsed": false,
    "deletable": true,
    "editable": true,
    "for_assignment_type": "student"
   },
   "outputs": [
    {
     "data": {
      "image/png": "[encoded data removed]",
      "text/plain": [
       "<matplotlib.figure.Figure at 0x11347db70>"
      ]
     },
     "metadata": {},
     "output_type": "display_data"
    }
   ],
   "source": [
    "plt.plot(crawl_stats['number of crawls'], crawl_stats['number of updates'], 'ro')\n",
    "\n",
    "#another way to plot:\n",
    "#crawl_stats.plot.scatter(x = 'number of crawls', y = 'number of updates')\n",
    "\n",
    "# Leave this for grading purposes\n",
    "q5_p3_plot = plt.gcf()"
   ]
  },
  {
   "cell_type": "markdown",
   "metadata": {
    "deletable": true,
    "editable": true
   },
   "source": [
    "### Part 4\n",
    "\n",
    "In 2 or 3 sentences, describe what you discovered in your initial explorations."
   ]
  },
  {
   "cell_type": "code",
   "execution_count": 17,
   "metadata": {
    "collapsed": false,
    "deletable": true,
    "editable": true,
    "for_assignment_type": "student"
   },
   "outputs": [
    {
     "data": {
      "text/markdown": [
       "\n",
       "\n",
       "I learned that the number of crawls for each webpage spikes around 700 and that the most frequent number of updates is close to 0. In the last graph I discovered that there isn't really an obvious relationship between the two. Based on the number of checks, the number of updates falls anywhere between 0 and the number of checks.\n",
       "\n"
      ],
      "text/plain": [
       "<IPython.core.display.Markdown object>"
      ]
     },
     "metadata": {},
     "output_type": "display_data"
    }
   ],
   "source": [
    "q5_p4_answer = r\"\"\"\n",
    "\n",
    "I learned that the number of crawls for each webpage spikes around 700 and that the most frequent number of updates is close to 0. In the last graph I discovered that there isn't really an obvious relationship between the two. Based on the number of checks, the number of updates falls anywhere between 0 and the number of checks.\n",
    "\n",
    "\"\"\"\n",
    "\n",
    "display(Markdown(q5_p4_answer))"
   ]
  },
  {
   "cell_type": "markdown",
   "metadata": {
    "deletable": true,
    "editable": true
   },
   "source": [
    "#### Making a timeline from one site"
   ]
  },
  {
   "cell_type": "markdown",
   "metadata": {
    "deletable": true,
    "editable": true
   },
   "source": [
    "It will be useful to be able to look at timelines of positive checks or changes for sites.  The function `display_points`, defined below, will help."
   ]
  },
  {
   "cell_type": "code",
   "execution_count": 18,
   "metadata": {
    "collapsed": true,
    "deletable": true,
    "editable": true
   },
   "outputs": [],
   "source": [
    "def display_points(points, xlim, title):\n",
    "    \"\"\"Displays a timeline with points on it.\n",
    "    \n",
    "    Args:\n",
    "      points (ndarray): A list of floats in the range [xlim[0], xlim[1]],\n",
    "                        each one a point to display in the timeline.\n",
    "      xlim (list-like): A list/tuple/array with 2 elements giving the\n",
    "                        start and end of the timeline.\n",
    "      title (str): The title to display on the plot.\n",
    "      \n",
    "    Example:\n",
    "        >>> # plot the points at [1,3,30,50]\n",
    "        >>> display_points([1,4,30,50], [0, 75], \"Example\")\n",
    "    \"\"\"\n",
    "    fig, ax = plt.subplots(1)\n",
    "    fig.set_size_inches(8, 1)\n",
    "    ax.scatter(points, np.repeat(0, len(points)), alpha=0.5)\n",
    "    ax.axhline(0, color=\"grey\", zorder=-1, lw=.5)\n",
    "    ax.yaxis.set_visible(False)\n",
    "    ax.xaxis.set_visible(True)\n",
    "    ax.set_xlim(xlim)\n",
    "    ax.set_title(\"{} ({:d} total points)\".format(title, len(points)))\n",
    "    plt.show()"
   ]
  },
  {
   "cell_type": "markdown",
   "metadata": {
    "deletable": true,
    "editable": true
   },
   "source": [
    "#### Example Usage"
   ]
  },
  {
   "cell_type": "code",
   "execution_count": 19,
   "metadata": {
    "collapsed": false,
    "deletable": true,
    "editable": true
   },
   "outputs": [
    {
     "data": {
      "image/png": "[encoded data removed]",
      "text/plain": [
       "<matplotlib.figure.Figure at 0x113449cf8>"
      ]
     },
     "metadata": {},
     "output_type": "display_data"
    }
   ],
   "source": [
    "display_points([1,4,30,50], [0, 75], \"Example\")"
   ]
  },
  {
   "cell_type": "markdown",
   "metadata": {
    "deletable": true,
    "editable": true
   },
   "source": [
    "\n",
    "---\n",
    "\n",
    "## Question 6\n",
    "\n",
    "We want to understand the behavior of page changes in order to determine how often a page should be visited. To do this, we need more than summary statistics of the 1000 sites.  We also need to examine the patterns of positive checks for sites. Let's examine when the positive checks occurred for a handful of sites.  The `display_points` function is helpful here.\n",
    "\n",
    "We selected a variety of sites - some changed frequently, others rarely, and some had only a few successful crawls. Their URLs are available in `pages_to_display`.  Use `display_points` to examine each page.  You should notice that the visualization is not very informative in the last 3 cases."
   ]
  },
  {
   "cell_type": "code",
   "execution_count": 20,
   "metadata": {
    "collapsed": false,
    "deletable": true,
    "editable": true
   },
   "outputs": [],
   "source": [
    "# This cell identifies a few categories of pages and \n",
    "# associates a label in the 'Desc' column of crawl_stats\n",
    "\n",
    "crawl_stats['Desc'] = \"\" # default blank description\n",
    "\n",
    "# Normal pages have a moderate number of updates and \n",
    "# were successfully crawled most times.\n",
    "crawl_stats.loc[\n",
    "        (crawl_stats['proportion of updates'] > 0.1)\n",
    "        & (crawl_stats['proportion of updates'] < 0.9)\n",
    "        & (crawl_stats['number of crawls'] >= 700), \n",
    "    'Desc'] = 'Normal'\n",
    "\n",
    "crawl_stats.loc[\n",
    "        (crawl_stats['proportion of updates'] < .1)\n",
    "        & (crawl_stats['number of crawls'] >= 700), \n",
    "    'Desc'] = 'Rare Update'\n",
    "\n",
    "crawl_stats.loc[\n",
    "        (crawl_stats['proportion of updates'] > .9)\n",
    "        & (crawl_stats['number of crawls'] >= 700), \n",
    "    'Desc'] = 'Frequent Update'\n",
    "\n",
    "crawl_stats.loc[\n",
    "        crawl_stats['number of crawls'] < 50, \n",
    "    'Desc'] = 'Few Crawls'\n",
    "\n",
    "\n",
    "# Build a dataframe with a few examples from each type of webpage\n",
    "num_of_each = 3\n",
    "pages_to_display = pd.concat([\n",
    "    crawl_stats[crawl_stats['Desc'] == \"Normal\"].head(num_of_each),\n",
    "    crawl_stats[crawl_stats['Desc'] == 'Rare Update'].head(num_of_each),\n",
    "    crawl_stats[crawl_stats['Desc'] == 'Frequent Update'].head(num_of_each),\n",
    "    crawl_stats[crawl_stats['Desc'] == 'Few Crawls'].head(num_of_each),\n",
    "])"
   ]
  },
  {
   "cell_type": "code",
   "execution_count": 21,
   "metadata": {
    "collapsed": false,
    "deletable": true,
    "editable": true
   },
   "outputs": [
    {
     "data": {
      "image/png": "[encoded data removed]",
      "text/plain": [
       "<matplotlib.figure.Figure at 0x1133614a8>"
      ]
     },
     "metadata": {},
     "output_type": "display_data"
    },
    {
     "data": {
      "image/png": "[encoded data removed]",
      "text/plain": [
       "<matplotlib.figure.Figure at 0x1133610f0>"
      ]
     },
     "metadata": {},
     "output_type": "display_data"
    },
    {
     "data": {
      "image/png": "[encoded data removed]",
      "text/plain": [
       "<matplotlib.figure.Figure at 0x112fedd68>"
      ]
     },
     "metadata": {},
     "output_type": "display_data"
    },
    {
     "data": {
      "image/png": "[encoded data removed]",
      "text/plain": [
       "<matplotlib.figure.Figure at 0x1133613c8>"
      ]
     },
     "metadata": {},
     "output_type": "display_data"
    },
    {
     "data": {
      "image/png": "[encoded data removed]",
      "text/plain": [
       "<matplotlib.figure.Figure at 0x112f90400>"
      ]
     },
     "metadata": {},
     "output_type": "display_data"
    },
    {
     "data": {
      "image/png": "[encoded data removed]",
      "text/plain": [
       "<matplotlib.figure.Figure at 0x112ef5f60>"
      ]
     },
     "metadata": {},
     "output_type": "display_data"
    },
    {
     "data": {
      "image/png": "[encoded data removed]",
      "text/plain": [
       "<matplotlib.figure.Figure at 0x112918e48>"
      ]
     },
     "metadata": {},
     "output_type": "display_data"
    },
    {
     "data": {
      "image/png": "[encoded data removed]",
      "text/plain": [
       "<matplotlib.figure.Figure at 0x112a48588>"
      ]
     },
     "metadata": {},
     "output_type": "display_data"
    },
    {
     "data": {
      "image/png": "[encoded data removed]",
      "text/plain": [
       "<matplotlib.figure.Figure at 0x1129004a8>"
      ]
     },
     "metadata": {},
     "output_type": "display_data"
    },
    {
     "data": {
      "image/png": "[encoded data removed]",
      "text/plain": [
       "<matplotlib.figure.Figure at 0x112900cc0>"
      ]
     },
     "metadata": {},
     "output_type": "display_data"
    },
    {
     "data": {
      "image/png": "[encoded data removed]",
      "text/plain": [
       "<matplotlib.figure.Figure at 0x112900eb8>"
      ]
     },
     "metadata": {},
     "output_type": "display_data"
    },
    {
     "data": {
      "image/png": "[encoded data removed]",
      "text/plain": [
       "<matplotlib.figure.Figure at 0x112f83b70>"
      ]
     },
     "metadata": {},
     "output_type": "display_data"
    }
   ],
   "source": [
    "# Construct the timeline point diagrams for each example\n",
    "for (url, desc) in pages_to_display['Desc'].iteritems():\n",
    "    crawls_for_site = crawls.loc[url]\n",
    "    display_points(\n",
    "        crawls_for_site[crawls_for_site['updated']].index,\n",
    "        [0, len(crawls_for_site)], desc)"
   ]
  },
  {
   "cell_type": "markdown",
   "metadata": {
    "deletable": true,
    "editable": true
   },
   "source": [
    "## Examining the Times of Positive Checks\n",
    "\n",
    "Consider what you learned about the positive checks in the previous question. Do these occur at regular intervals? Or do they appear to occur more *randomly* in time?  Write a 2 to 3 sentence explanation of what you see:"
   ]
  },
  {
   "cell_type": "code",
   "execution_count": 22,
   "metadata": {
    "collapsed": false,
    "deletable": true,
    "editable": true,
    "for_assignment_type": "student"
   },
   "outputs": [
    {
     "data": {
      "text/markdown": [
       "\n",
       "\n",
       "For most of the positive checks that I see in the displays above, most of them do occur at regular intervals. In the cases where the websites aren't updated that often though, their positive checks seem to occur more randomly.\n",
       "\n"
      ],
      "text/plain": [
       "<IPython.core.display.Markdown object>"
      ]
     },
     "metadata": {},
     "output_type": "display_data"
    }
   ],
   "source": [
    "# Use this cell for your explorations.\n",
    "q6_answer = r\"\"\"\n",
    "\n",
    "For most of the positive checks that I see in the displays above, most of them do occur at regular intervals. In the cases where the websites aren't updated that often though, their positive checks seem to occur more randomly.\n",
    "\n",
    "\"\"\"\n",
    "\n",
    "display(Markdown(q6_answer))"
   ]
  },
  {
   "cell_type": "markdown",
   "metadata": {
    "deletable": true,
    "editable": true
   },
   "source": [
    "Understanding this distribution of positive checks will help us determine the distribution of changes. However, determining this distribution is difficult to do if we do not crawl the page sufficiently often. (We will soon see that it is also hard to do if the site changed too many times.) For these reasons, we will focus on \"normal\" pages, i.e., pages that were successfully crawled at least 700 times and that had between 50 and 200 updates.\n",
    "\n",
    "Do the positive checks occur uniformly at random? Let's compare the observed distribution of the positive checks to the uniform distribution for a few of our pages. "
   ]
  },
  {
   "cell_type": "markdown",
   "metadata": {
    "deletable": true,
    "editable": true
   },
   "source": [
    "\n",
    "---\n",
    "\n",
    "## Question 7\n",
    "\n",
    "To compare the data distribution to a hypothetical probability distribution, we can compare the histogram of the data to the probability density function.  However, a more effective comparison is to compare the quantiles of the observed distribution to those of the  probability distribution. \n",
    "\n",
    "The $q^{th}$ quantile of the data, for $0 < q < 1$ is that point $x_q$ such that at least $q$ of the observations are at or below $x_q$ and at least $1-q$ of the observations are at or above $x_q$. For example, the median is the 0.5 quantile and the lower and upper quartiles are the 0.25 and 0.75 quantiles.\n",
    "\n",
    "The $q^{th}$ quantile of a continuous probability distribution, for $0 < q < 1$ is that point $x_q$ such that \n",
    "$P(X \\leq x_q) = q$ and $P(X \\geq x_q) = 1-q$. The quantiles of a uniform distribution are easy to compute. For example, for a Uniform$(0, N)$ distribution, we have $x_q = qN$.\n",
    "\n",
    "If the data come from the same probability distribution, then their quantiles should roughly match.  If we make a scatter plot of pairs of the empirical and theoretical quantiles, like these 3 points:\n",
    "\n",
    "    (lower quartile of the data, lower quartile of the pdf),\n",
    "    (median of data, median of the pdf),\n",
    "    (upper quartile of the data, upper quartile of the pdf)\n",
    "\n",
    "...the points should fall roughly on a line.\n",
    "\n",
    "Such a plot is called a quantile-quantile or Q-Q plot.  For the websites with `Desc = 'Normal'` websites in `pages_to_display`, make a Q-Q plot for that site's updates, as follows:\n",
    "\n",
    "* Let $N$ be the number of crawls for this page and $n$ be the number of positive checks.\n",
    "* Order the positive check values for a site from smallest to largest. We use these as the quantiles. That is, the $k^{th}$ smallest observation is the $k/(n+1)$-quantile.\n",
    "* Compute the $n$ corresponding quantiles for the uniform distribution on $(0, N)$. These are simply\n",
    "$$k \\times \\frac{N}{n+1},$$\n",
    "for $k = 1, \\ldots, n$.  (Why?)\n",
    "* Plot the $n$ pairs of quantiles in a scatter plot."
   ]
  },
  {
   "cell_type": "markdown",
   "metadata": {
    "deletable": true,
    "editable": true
   },
   "source": [
    "### Part 1"
   ]
  },
  {
   "cell_type": "code",
   "execution_count": 23,
   "metadata": {
    "collapsed": true,
    "deletable": true,
    "editable": true,
    "for_assignment_type": "student"
   },
   "outputs": [],
   "source": [
    "def compute_q_q_pairs(url):\n",
    "    \"\"\"Computes lists of uniform-distribution-quantiles and data-quantiles for a page.\n",
    "    \n",
    "    Args:\n",
    "      url (str): The URL of a page.\n",
    "    \n",
    "    Returns:\n",
    "      2-tuple: A pair (AKA a 2-tuple).  Both components are lists or arrays of\n",
    "               length n, where n is the number of positive checks for the page.\n",
    "               The first component contains quantiles of a uniform distribution,\n",
    "               and the second contains quantiles of the distribution of positive\n",
    "               check times for the page.  The kth element of a component is the\n",
    "               (k+1)/(n+1)-th quantile of its distribution or dataset.\n",
    "               \n",
    "               The first component of the pair contains quantiles of the uniform\n",
    "               distribution on [0, N], where N is the number of checks performed\n",
    "               for the page.\n",
    "    \"\"\"\n",
    "    crawls_for_site = crawls.loc[url]\n",
    "    positive_check_indices = crawls_for_site[crawls_for_site['updated']].index\n",
    "    N = len(crawls_for_site)\n",
    "    n = len(positive_check_indices)\n",
    "\n",
    "    obs_q = positive_check_indices\n",
    "    pdf_q = np.arange(1, n+1)*N/(n+1)\n",
    "    \n",
    "    return (pdf_q, obs_q)"
   ]
  },
  {
   "cell_type": "code",
   "execution_count": 24,
   "metadata": {
    "collapsed": false,
    "deletable": true,
    "editable": true
   },
   "outputs": [
    {
     "name": "stdout",
     "output_type": "stream",
     "text": [
      "~~~~~~~~~~~~~~~~~~~~~~~~~~~~~~~~~~~~~~~~~~~~~~~~~~~~~~~~~~~~~~~~~~~~~\n",
      "Running tests\n",
      "\n",
      "---------------------------------------------------------------------\n",
      "Test summary\n",
      "    Passed: 1\n",
      "    Failed: 0\n",
      "[ooooooooook] 100.0% passed\n",
      "\n"
     ]
    },
    {
     "data": {
      "application/javascript": [
       "IPython.notebook.save_checkpoint();"
      ],
      "text/plain": [
       "<IPython.core.display.Javascript object>"
      ]
     },
     "metadata": {},
     "output_type": "display_data"
    },
    {
     "data": {
      "application/javascript": [
       "IPython.notebook.save_notebook();"
      ],
      "text/plain": [
       "<IPython.core.display.Javascript object>"
      ]
     },
     "metadata": {},
     "output_type": "display_data"
    },
    {
     "name": "stdout",
     "output_type": "stream",
     "text": [
      "Saving notebook... Saved 'hw5.ipynb'.\n",
      "Backup... 100% complete\n",
      "Backup successful for user: mikaelaklein@berkeley.edu\n",
      "\n"
     ]
    }
   ],
   "source": [
    "_ = ok.grade('q07')\n",
    "_ = ok.backup()"
   ]
  },
  {
   "cell_type": "markdown",
   "metadata": {
    "deletable": true,
    "editable": true
   },
   "source": [
    "The following code constructs the final Q-Q plot for the `\"Normal\"` sites defined above"
   ]
  },
  {
   "cell_type": "code",
   "execution_count": 25,
   "metadata": {
    "collapsed": false,
    "deletable": true,
    "editable": true
   },
   "outputs": [
    {
     "name": "stdout",
     "output_type": "stream",
     "text": [
      "http://a.hatena.ne.jp/Syako/simple\n"
     ]
    },
    {
     "data": {
      "image/png": "[encoded data removed]",
      "text/plain": [
       "<matplotlib.figure.Figure at 0x1127d5978>"
      ]
     },
     "metadata": {},
     "output_type": "display_data"
    },
    {
     "name": "stdout",
     "output_type": "stream",
     "text": [
      "http://a.hatena.ne.jp/inouetom/image?gid=null\n"
     ]
    },
    {
     "data": {
      "image/png": "[encoded data removed]",
      "text/plain": [
       "<matplotlib.figure.Figure at 0x1129694e0>"
      ]
     },
     "metadata": {},
     "output_type": "display_data"
    },
    {
     "name": "stdout",
     "output_type": "stream",
     "text": [
      "http://a.hatena.ne.jp/munehiro/simple\n"
     ]
    },
    {
     "data": {
      "image/png": "[encoded data removed]",
      "text/plain": [
       "<matplotlib.figure.Figure at 0x1130fc7f0>"
      ]
     },
     "metadata": {},
     "output_type": "display_data"
    }
   ],
   "source": [
    "for url in pages_to_display[pages_to_display['Desc'] == \"Normal\"].index.values:\n",
    "    print(url)\n",
    "    (pdf_q, obs_q) = compute_q_q_pairs(url)\n",
    "    sns.regplot(pdf_q, np.array(obs_q))\n",
    "    plt.xlabel(\"True uniform quantile\")\n",
    "    plt.ylabel(\"Actual quantile\")\n",
    "    plt.show()"
   ]
  },
  {
   "cell_type": "markdown",
   "metadata": {
    "deletable": true,
    "editable": true
   },
   "source": [
    "### Part 2\n",
    "\n",
    "Describe your findings. "
   ]
  },
  {
   "cell_type": "code",
   "execution_count": 26,
   "metadata": {
    "collapsed": false,
    "deletable": true,
    "editable": true,
    "for_assignment_type": "student"
   },
   "outputs": [
    {
     "data": {
      "text/markdown": [
       "\n",
       "\n",
       "The QQ plots above look almost perfectly linear, which means that the number of positive checks for each of the \"Normal\" websites follows a uniform distribution.\n",
       "\n"
      ],
      "text/plain": [
       "<IPython.core.display.Markdown object>"
      ]
     },
     "metadata": {},
     "output_type": "display_data"
    }
   ],
   "source": [
    "# Use this cell for your explorations.\n",
    "q7_p2_answer = r\"\"\"\n",
    "\n",
    "The QQ plots above look almost perfectly linear, which means that the number of positive checks for each of the \"Normal\" websites follows a uniform distribution.\n",
    "\n",
    "\"\"\"\n",
    "\n",
    "display(Markdown(q7_p2_answer))"
   ]
  },
  {
   "cell_type": "markdown",
   "metadata": {
    "deletable": true,
    "editable": true
   },
   "source": [
    "\n",
    "---\n",
    "\n",
    "## Question 8\n",
    "\n",
    "Even if the updates were distributed uniformly, the Q-Q plot will not appear as exactly a straight line.  To get a sense of what a uniform-quantile plot might look like if the data were truly distributed according to the uniform distribution, simulate $n$ observations from the uniform distribution on the interval (0, 719) and make a uniform-quantile plot for these simulated data.  $n$ is defined in the next cell; write your code in the cell below that."
   ]
  },
  {
   "cell_type": "code",
   "execution_count": 27,
   "metadata": {
    "collapsed": false,
    "deletable": true,
    "editable": true
   },
   "outputs": [],
   "source": [
    "url = 'http://a.hatena.ne.jp/Syako/simple'\n",
    "n = np.count_nonzero(crawls.loc[url]['updated'])"
   ]
  },
  {
   "cell_type": "code",
   "execution_count": 28,
   "metadata": {
    "collapsed": false,
    "deletable": true,
    "editable": true,
    "for_assignment_type": "student"
   },
   "outputs": [
    {
     "data": {
      "image/png": "[encoded data removed]",
      "text/plain": [
       "<matplotlib.figure.Figure at 0x112a4ebe0>"
      ]
     },
     "metadata": {},
     "output_type": "display_data"
    },
    {
     "data": {
      "text/plain": [
       "<matplotlib.figure.Figure at 0x11249d128>"
      ]
     },
     "metadata": {},
     "output_type": "display_data"
    }
   ],
   "source": [
    "N = 719\n",
    "obs_q1 = []\n",
    "for i in range(n+1):\n",
    "    obs_q1 = obs_q1 + [int(np.random.uniform(0, 719))]\n",
    "\n",
    "pdf_q1 = np.arange(1, n+1) * N /(n+1)\n",
    "\n",
    "(pdf_q1, obs_q1) = compute_q_q_pairs(url)\n",
    "sns.regplot(pdf_q1, np.array(obs_q1))\n",
    "plt.xlabel(\"True uniform quantile\")\n",
    "plt.ylabel(\"Actual quantile\")\n",
    "plt.show()\n",
    "\n",
    "# Leave this for grading purposes\n",
    "q8_plot = plt.gcf()"
   ]
  },
  {
   "cell_type": "markdown",
   "metadata": {
    "deletable": true,
    "editable": true
   },
   "source": [
    "How do the empirical quantile plots from the previous quesion compare to your simulated quantile plot?  *Optionally,* we suggest looking at a few other sites and a few other simulated sets of data to see how well they match."
   ]
  },
  {
   "cell_type": "code",
   "execution_count": 29,
   "metadata": {
    "collapsed": false,
    "deletable": true,
    "editable": true,
    "for_assignment_type": "student"
   },
   "outputs": [
    {
     "data": {
      "text/markdown": [
       "\n",
       "\n",
       "This simulated data does not fit the straight line as tightly as expected. Compared to the three plots above, the first plot looks the most similar to the simulated plot we just created (a more loose fit, but still relatively linear), as opposed to the two last plots above which seem to follow the fitted line almost perfectly.\n",
       "\n"
      ],
      "text/plain": [
       "<IPython.core.display.Markdown object>"
      ]
     },
     "metadata": {},
     "output_type": "display_data"
    }
   ],
   "source": [
    "# Use this cell for your explorations.\n",
    "q8_answer = r\"\"\"\n",
    "\n",
    "This simulated data does not fit the straight line as tightly as expected. Compared to the three plots above, the first plot looks the most similar to the simulated plot we just created (a more loose fit, but still relatively linear), as opposed to the two last plots above which seem to follow the fitted line almost perfectly.\n",
    "\n",
    "\"\"\"\n",
    "\n",
    "display(Markdown(q8_answer))"
   ]
  },
  {
   "cell_type": "markdown",
   "metadata": {
    "deletable": true,
    "editable": true
   },
   "source": [
    "\n",
    "---\n",
    "\n",
    "# Estimating the Update Rate: A Simple Approach\n",
    "How would you estimate the change rate for a page? \n",
    "\n",
    "For example, imagine that in 720 hourly visits to a page, we observed a change in the page on 36 visits. One estimate for the rate of changes is:\n",
    "\n",
    "$$\\frac {36\\text{ changes}}{720\\text{ hours}} = \\frac{1}{20} \\text{ changes per hour}$$\n",
    "\n",
    "There is a small problem with our estimate. What if a page changes twice in an hour? We would see only one positive check.  We do not observe the true number of changes that happened to a page in 30 days, but the number of hours that had a change.  Think about how this could affect our interpretation of how often websites change.\n",
    "\n",
    "To help answer this question, we use a probability model for the change behavior of a site and examine the impact of the incomplete observations on our simple estimate of a site's rate of change. "
   ]
  },
  {
   "cell_type": "markdown",
   "metadata": {
    "deletable": true,
    "editable": true
   },
   "source": [
    "## A Model for Page Updates\n",
    "What model should we use?\n",
    "\n",
    "In our earlier Q-Q plot analysis we found that the updates appear to occur uniformly at random.  \n",
    "\n",
    "However, the number of positive checks (and therefore the number of page changes) is not the same from one page to the next. That is, both the *number* of changes and the hours of the changes appear to be random.\n",
    "\n",
    "When events can happen independently at any point in a span of time, and they're equally likely to happen at any of the times, a good model for the *number* of events that happen is the Poisson distribution.\n",
    "\n",
    "The Poisson distribution has a simple probability mass function, \n",
    "\n",
    "$$P(k) = \\frac{\\lambda^k}{k!}  e^{-\\lambda},$$\n",
    "\n",
    "for $k = 0, 1, 2, \\ldots$. The parameter $\\lambda$ is called the *rate*, and this is a Poisson$(\\lambda)$ distribution.\n",
    "\n",
    "For example, if $\\lambda$ is the hourly rate of changes to a page, then the chance of $k$ changes in one hour is:\n",
    "\n",
    "$$P(k) = \\frac{\\lambda^k}{k!}  e^{-\\lambda}.$$\n",
    "\n",
    "If we count the number of changes over $N$ hours, then the number of changes in this time period has \n",
    "a Poisson$(N \\lambda)$ distribution. That is,  \n",
    "\n",
    "$$P(k \\texttt{ updates in }N \\texttt{ hours}) = \\frac{(N\\lambda)^k}{k!}  e^{-(N\\lambda)}.$$"
   ]
  },
  {
   "cell_type": "markdown",
   "metadata": {
    "deletable": true,
    "editable": true
   },
   "source": [
    "\n",
    "---\n",
    "\n",
    "## Question 9\n",
    "Suppose that we observe $n$ changes for a site that was visited for $N$ hours. If the number of changes follows the Poisson distribution, show that $\\frac{n}{N}$ is the MLE for $\\lambda$.  In fancy notation, we could call this $\\lambda^{\\text{MLE}}$.  (Note that we are currently ignoring the problem of not being able to detect multiple changes in an hour.)\n",
    "\n",
    "*Note:* It's okay to write your answer in plain text.  If you know $\\LaTeX$ or would like to learn it, now is a good time to try it out.  (If you double-click on this cell or some of the cells above, you can see some $\\LaTeX$ examples.)"
   ]
  },
  {
   "cell_type": "code",
   "execution_count": 30,
   "metadata": {
    "collapsed": false,
    "deletable": true,
    "editable": true,
    "for_assignment_type": "student"
   },
   "outputs": [
    {
     "data": {
      "text/markdown": [
       "\n",
       "\n",
       "**Step 1.** The probability of the data given $\\lambda$ is:\n",
       "\n",
       "$$L(\\lambda) = e^{-(\\lambda N)} \\frac{(\\lambda N)^{n}}{n!}$$\n",
       "\n",
       "**Step 2.** Take the log of $L(\\lambda)$:\n",
       "\n",
       "$$\\log(L(\\lambda)) = -\\lambda N + n \\log(\\lambda N) - \\log(n!)$$\n",
       "\n",
       "**Step 3.** Take the derivative of $\\log(L(\\lambda))$ with respect to $\\lambda$ and set it equal to 0:\n",
       "\n",
       "$$-N + \\frac{nN}{\\lambda N} = -N + \\frac{n}{\\lambda} =  0$$\n",
       "\n",
       "$$\\frac{n}{\\lambda} = N$$\n",
       "\n",
       "Therefore,\n",
       "\n",
       "$$\\lambda^{\\text{MLE}} = \\frac{n}{N}$$\n",
       "\n"
      ],
      "text/plain": [
       "<IPython.core.display.Markdown object>"
      ]
     },
     "metadata": {},
     "output_type": "display_data"
    }
   ],
   "source": [
    "q9_answer = r\"\"\"\n",
    "\n",
    "**Step 1.** The probability of the data given $\\lambda$ is:\n",
    "\n",
    "$$L(\\lambda) = e^{-(\\lambda N)} \\frac{(\\lambda N)^{n}}{n!}$$\n",
    "\n",
    "**Step 2.** Take the log of $L(\\lambda)$:\n",
    "\n",
    "$$\\log(L(\\lambda)) = -\\lambda N + n \\log(\\lambda N) - \\log(n!)$$\n",
    "\n",
    "**Step 3.** Take the derivative of $\\log(L(\\lambda))$ with respect to $\\lambda$ and set it equal to 0:\n",
    "\n",
    "$$-N + \\frac{nN}{\\lambda N} = -N + \\frac{n}{\\lambda} =  0$$\n",
    "\n",
    "$$\\frac{n}{\\lambda} = N$$\n",
    "\n",
    "Therefore,\n",
    "\n",
    "$$\\lambda^{\\text{MLE}} = \\frac{n}{N}$$\n",
    "\n",
    "\"\"\"\n",
    "\n",
    "display(Markdown(q9_answer))"
   ]
  },
  {
   "cell_type": "markdown",
   "metadata": {
    "deletable": true,
    "editable": true
   },
   "source": [
    "\n",
    "---\n",
    "\n",
    "## Question 10\n",
    "\n",
    "1. Add a `'simple mle'` column to the `crawl_stats` table containing the `'simple mle'` estimator we derived earlier for each website.\n",
    "\n",
    "2. **Then,** make a plot that displays the distribution of these MLEs *for the sites with at least 700 crawls*."
   ]
  },
  {
   "cell_type": "code",
   "execution_count": 31,
   "metadata": {
    "collapsed": false,
    "deletable": true,
    "editable": true,
    "for_assignment_type": "student",
    "scrolled": true
   },
   "outputs": [
    {
     "data": {
      "image/png": "[encoded data removed]",
      "text/plain": [
       "<matplotlib.figure.Figure at 0x112a4d3c8>"
      ]
     },
     "metadata": {},
     "output_type": "display_data"
    }
   ],
   "source": [
    "crawl_stats['simple mle'] = crawl_stats['number of updates']/crawl_stats['number of crawls']\n",
    "crawl_stats_subset = crawl_stats[crawl_stats['number of crawls'] >= 700]\n",
    "plt.hist(crawl_stats_subset['simple mle'])\n",
    "\n",
    "# Leave this at the end so we can grab the plot for grading\n",
    "q10_plot = plt.gcf()"
   ]
  },
  {
   "cell_type": "code",
   "execution_count": 32,
   "metadata": {
    "collapsed": false,
    "deletable": true,
    "editable": true
   },
   "outputs": [
    {
     "name": "stdout",
     "output_type": "stream",
     "text": [
      "~~~~~~~~~~~~~~~~~~~~~~~~~~~~~~~~~~~~~~~~~~~~~~~~~~~~~~~~~~~~~~~~~~~~~\n",
      "Running tests\n",
      "\n",
      "---------------------------------------------------------------------\n",
      "Test summary\n",
      "    Passed: 1\n",
      "    Failed: 0\n",
      "[ooooooooook] 100.0% passed\n",
      "\n"
     ]
    },
    {
     "data": {
      "application/javascript": [
       "IPython.notebook.save_checkpoint();"
      ],
      "text/plain": [
       "<IPython.core.display.Javascript object>"
      ]
     },
     "metadata": {},
     "output_type": "display_data"
    },
    {
     "data": {
      "application/javascript": [
       "IPython.notebook.save_notebook();"
      ],
      "text/plain": [
       "<IPython.core.display.Javascript object>"
      ]
     },
     "metadata": {},
     "output_type": "display_data"
    },
    {
     "name": "stdout",
     "output_type": "stream",
     "text": [
      "Saving notebook... Saved 'hw5.ipynb'.\n",
      "Backup... 100% complete\n",
      "Backup successful for user: mikaelaklein@berkeley.edu\n",
      "\n"
     ]
    }
   ],
   "source": [
    "_ = ok.grade('q10')\n",
    "_ = ok.backup()"
   ]
  },
  {
   "cell_type": "markdown",
   "metadata": {
    "deletable": true,
    "editable": true
   },
   "source": [
    "## The Impact of Hourly Observations\n",
    "\n",
    "The histogram that you made for previous problem has a small mode at 1. Why is this? It is not possible for our estimate of the rate of changes to be greater than once an hour because we only observe the page once an hour. So if the rate of changes is large, we are likely to underestimate it. Let's try to assess the impact of this.\n",
    "\n",
    "We will carry out a Monte Carlo (repeated, randomized simulation) study of the process that generates our observations. To perform such a study, we need a model for how the checks came out. For that, we need a model for the page changes themselves.\n",
    "\n",
    "We previously said that the number of changes follows a Poisson distribution with a certain rate for each page.  We also saw that the positive checks are distributed roughly uniformly.  It seems reasonable to assume that the changes themselves are also distributed uniformly.\n",
    "\n",
    "When the *number* of events follows the Poisson distribution and the *location* of the events (along the time interval) follows the uniform distribution, then we have what is called a *Poisson process*.  This is a random object that's a *set* of numbers rather than just one *number*.\n",
    "\n",
    "To perform our Monte Carlo study, for various values of $\\lambda$ we will generate the simulated changes according to the Poisson process distribution and then *reduce* the changes to the hour of the change. More specifically, we can simulate the data as follows:\n",
    "\n",
    "* Generate $M$, the number of updates, by drawing from the Poisson(720$\\lambda$) distribution.\n",
    "* Place each of the $M$ updates uniformly at random on the interval (0, 719). \n",
    "* \"Snap\" each update to the next hour.  For example, a 3:15 update time becomes 4:00, which is the time when we would have observed it. (What do you do when more than one update occurs within an hour?)"
   ]
  },
  {
   "cell_type": "markdown",
   "metadata": {
    "deletable": true,
    "editable": true
   },
   "source": [
    "---\n",
    "\n",
    "## Question 11\n",
    "Following the above description of the Poisson process, complete the function `sample_poisson_process`.\n",
    "\n",
    "*Hint:* The function `np.random.poisson` will be useful."
   ]
  },
  {
   "cell_type": "code",
   "execution_count": 33,
   "metadata": {
    "collapsed": true,
    "deletable": true,
    "editable": true,
    "for_assignment_type": "student"
   },
   "outputs": [],
   "source": [
    "def sample_poisson_process(rate, length):\n",
    "    \"\"\"Generates n points from Poisson(rate*length) and locates them\n",
    "    uniformly at random on [0, length].\n",
    "    \n",
    "    Args:\n",
    "      rate (float): The average number of points per unit length.\n",
    "      length (float): The length of the line segment.\n",
    "    \n",
    "    Returns:\n",
    "      ndarray: An array of points scattered randomly on [0, length].\n",
    "               The number of points has a Poisson(rate*length)\n",
    "               distribution.\n",
    "    \"\"\"\n",
    "    \n",
    "    M = np.random.poisson(length*rate)    \n",
    "    return np.random.random(size = M)*length"
   ]
  },
  {
   "cell_type": "code",
   "execution_count": 34,
   "metadata": {
    "collapsed": false
   },
   "outputs": [
    {
     "name": "stdout",
     "output_type": "stream",
     "text": [
      "~~~~~~~~~~~~~~~~~~~~~~~~~~~~~~~~~~~~~~~~~~~~~~~~~~~~~~~~~~~~~~~~~~~~~\n",
      "Running tests\n",
      "\n",
      "---------------------------------------------------------------------\n",
      "Test summary\n",
      "    Passed: 2\n",
      "    Failed: 0\n",
      "[ooooooooook] 100.0% passed\n",
      "\n"
     ]
    },
    {
     "data": {
      "application/javascript": [
       "IPython.notebook.save_checkpoint();"
      ],
      "text/plain": [
       "<IPython.core.display.Javascript object>"
      ]
     },
     "metadata": {},
     "output_type": "display_data"
    },
    {
     "data": {
      "application/javascript": [
       "IPython.notebook.save_notebook();"
      ],
      "text/plain": [
       "<IPython.core.display.Javascript object>"
      ]
     },
     "metadata": {},
     "output_type": "display_data"
    },
    {
     "name": "stdout",
     "output_type": "stream",
     "text": [
      "Saving notebook... Saved 'hw5.ipynb'.\n",
      "Backup... 100% complete\n",
      "Backup successful for user: mikaelaklein@berkeley.edu\n",
      "\n"
     ]
    }
   ],
   "source": [
    "_ = ok.grade('q11')\n",
    "_ = ok.backup()"
   ]
  },
  {
   "cell_type": "markdown",
   "metadata": {
    "deletable": true,
    "editable": true
   },
   "source": [
    "The `snap_times` function in the next cell will help you simulate the hourly observations from the crawler."
   ]
  },
  {
   "cell_type": "code",
   "execution_count": 35,
   "metadata": {
    "collapsed": true,
    "deletable": true,
    "editable": true
   },
   "outputs": [],
   "source": [
    "def snap_times(update_times, window_length, process_length):\n",
    "    \"\"\"Given a list of change times, produces a list of the windows that detected a\n",
    "    change (that is, where at least one change happened inside the window).\n",
    "    \n",
    "    This has the effect of 'snapping' each change to the next hour (or whatever the\n",
    "    window_length is).  For periods where more than one change happened, the output\n",
    "    will still only list the period once.\n",
    "    \n",
    "    In other words, it produces a list of the positive checks given a list of true\n",
    "    change times.\n",
    "    \n",
    "    Args:\n",
    "      update_times (ndarray): A list of times when changes happened for a page.\n",
    "                              All times are between 0 and process_length.\n",
    "      window_length (float): The width of each window.  (For example, if time\n",
    "                             is being measured in hours, and an observation\n",
    "                             happens once per hour, then this should be 1.)\n",
    "      process_length (float): The last time time any change could have happened.\n",
    "    \n",
    "    Returns:\n",
    "      ndarray: A list of numbers, each one the right endpoint of a window where at\n",
    "               least one change happened.\"\"\"\n",
    "    window_ends = np.arange(0, process_length, window_length) + window_length\n",
    "    num_windows = len(window_ends)\n",
    "    event_windows = np.floor(np.array(update_times) / window_length).astype(int)\n",
    "    events_by_window = np.bincount(event_windows, minlength=num_windows)\n",
    "    event_happened = events_by_window > 0\n",
    "    return window_ends[event_happened]"
   ]
  },
  {
   "cell_type": "markdown",
   "metadata": {
    "deletable": true,
    "editable": true
   },
   "source": [
    "\n",
    "---\n",
    "\n",
    "## Question 12\n",
    "\n",
    "Use the functions `sample_poisson_process` and `snap_times` to examine what happens when we visit hourly.  Look at examples where\n",
    "* the `length` of time is 24 hours,\n",
    "* the `rate` is 1/8, 1/4, 1/2, 1, and 2 changes per hour, and\n",
    "* the `window_length` is 1.\n",
    "\n",
    "For each value of `rate`, simulate one set of change on the interval (0 hours, 24 hours), and plot the resulting points on a timeline using `display_points`.  Then snap these data to the next hour with `snap_times` and plot the resulting positive check times.\n",
    "\n",
    "**Then,** compare the actual change times to the censored times for the various rates. What happens as the rate changes? Do you think hourly visits to the site are a problem if the rate is 1/8? How about 2? "
   ]
  },
  {
   "cell_type": "code",
   "execution_count": 36,
   "metadata": {
    "collapsed": false
   },
   "outputs": [
    {
     "data": {
      "image/png": "[encoded data removed]",
      "text/plain": [
       "<matplotlib.figure.Figure at 0x112482048>"
      ]
     },
     "metadata": {},
     "output_type": "display_data"
    },
    {
     "data": {
      "image/png": "[encoded data removed]",
      "text/plain": [
       "<matplotlib.figure.Figure at 0x112492198>"
      ]
     },
     "metadata": {},
     "output_type": "display_data"
    },
    {
     "data": {
      "image/png": "[encoded data removed]",
      "text/plain": [
       "<matplotlib.figure.Figure at 0x1124920b8>"
      ]
     },
     "metadata": {},
     "output_type": "display_data"
    },
    {
     "data": {
      "image/png": "[encoded data removed]",
      "text/plain": [
       "<matplotlib.figure.Figure at 0x1124b3b38>"
      ]
     },
     "metadata": {},
     "output_type": "display_data"
    },
    {
     "data": {
      "image/png": "[encoded data removed]",
      "text/plain": [
       "<matplotlib.figure.Figure at 0x112a59c50>"
      ]
     },
     "metadata": {},
     "output_type": "display_data"
    },
    {
     "data": {
      "image/png": "[encoded data removed]",
      "text/plain": [
       "<matplotlib.figure.Figure at 0x11389d2b0>"
      ]
     },
     "metadata": {},
     "output_type": "display_data"
    },
    {
     "data": {
      "image/png": "[encoded data removed]",
      "text/plain": [
       "<matplotlib.figure.Figure at 0x10ea864a8>"
      ]
     },
     "metadata": {},
     "output_type": "display_data"
    },
    {
     "data": {
      "image/png": "[encoded data removed]",
      "text/plain": [
       "<matplotlib.figure.Figure at 0x10f0c1ba8>"
      ]
     },
     "metadata": {},
     "output_type": "display_data"
    },
    {
     "data": {
      "image/png": "[encoded data removed]",
      "text/plain": [
       "<matplotlib.figure.Figure at 0x10f0951d0>"
      ]
     },
     "metadata": {},
     "output_type": "display_data"
    },
    {
     "data": {
      "image/png": "[encoded data removed]",
      "text/plain": [
       "<matplotlib.figure.Figure at 0x10c0eeda0>"
      ]
     },
     "metadata": {},
     "output_type": "display_data"
    }
   ],
   "source": [
    "display_points(sample_poisson_process(1/8, 24), [0,24], title = 'rate = 1/8')\n",
    "display_points(sample_poisson_process(1/4, 24), [0,24], title = 'rate = 1/4')\n",
    "display_points(sample_poisson_process(1/2, 24), [0,24], title = 'rate = 1/2')\n",
    "display_points(sample_poisson_process(1, 24), [0,24], title = 'rate = 1')\n",
    "display_points(sample_poisson_process(2, 24), [0,24], title = 'rate = 2')\n",
    "\n",
    "display_points(snap_times(sample_poisson_process(1/8, 24), 1, 24), [0,24], title = 'snap; rate = 1/8')\n",
    "display_points(snap_times(sample_poisson_process(1/4, 24), 1, 24), [0,24], title = 'snap; rate = 1/4')\n",
    "display_points(snap_times(sample_poisson_process(1/2, 24), 1, 24), [0,24], title = 'snap; rate = 1/2')\n",
    "display_points(snap_times(sample_poisson_process(1, 24), 1, 24), [0,24], title = 'snap; rate = 1')\n",
    "display_points(snap_times(sample_poisson_process(2, 24), 1, 24), [0,24], title = 'snap; rate = 2')"
   ]
  },
  {
   "cell_type": "code",
   "execution_count": 37,
   "metadata": {
    "collapsed": false,
    "deletable": true,
    "editable": true,
    "for_assignment_type": "student"
   },
   "outputs": [
    {
     "data": {
      "text/markdown": [
       "\n",
       "\n",
       "Comparing the actual change times to the censored change times (using the snap function), I am noticing that there are much fewer points when we use snap because it aggregates all the updates within a certain hour. Additionally, as the rate increases, the number of updates also increases but sporadically. Especially when we get to rate = 2, there are so many updates in the actual graph, so hourly checks might not be the best idea for a higher rate.\n",
       "\n"
      ],
      "text/plain": [
       "<IPython.core.display.Markdown object>"
      ]
     },
     "metadata": {},
     "output_type": "display_data"
    }
   ],
   "source": [
    "# Use this cell for your explorations, then write your conclusions\n",
    "# in the string below.\n",
    "q12_answer = r\"\"\"\n",
    "\n",
    "Comparing the actual change times to the censored change times (using the snap function), I am noticing that there are much fewer points when we use snap because it aggregates all the updates within a certain hour. Additionally, as the rate increases, the number of updates also increases but sporadically. Especially when we get to rate = 2, there are so many updates in the actual graph, so hourly checks might not be the best idea for a higher rate.\n",
    "\n",
    "\"\"\"\n",
    "\n",
    "display(Markdown(q12_answer))"
   ]
  },
  {
   "cell_type": "markdown",
   "metadata": {
    "deletable": true,
    "editable": true
   },
   "source": [
    "## Simulation study of the rate estimate \n",
    "Now let us extend our Monte Carlo study to compute the MLE from the observed positive checks.  Since we know the true change rate in the simulations, we can compare the MLE to the true change rate and see how accurate it is as an estimator.  (We couldn't have done that with our real data, since we don't know the true change rates.)"
   ]
  },
  {
   "cell_type": "markdown",
   "metadata": {
    "deletable": true,
    "editable": true
   },
   "source": [
    "\n",
    "---\n",
    "\n",
    "## Question 13\n",
    "\n",
    "Suppose a website is visited every hour for 30 days, so it has 719 visits.  For a particular rate $\\lambda$, \n",
    "\n",
    "* Generate the observed positive checks with our earlier functions (`sample_poisson_process` and `snap_times`).\n",
    "* Calculate the MLE from these simulated data.\n",
    "* Repeat 1000 times.\n",
    "\n",
    "This average estimate will change as we increase the true rate of changes, so vary $\\lambda$ between 0 and 4 and make a plot showing the estimate as a function of $\\lambda$.  For comparison, show the true change rates in your plot as well."
   ]
  },
  {
   "cell_type": "code",
   "execution_count": 38,
   "metadata": {
    "collapsed": true,
    "deletable": true,
    "editable": true,
    "for_assignment_type": "student"
   },
   "outputs": [],
   "source": [
    "def simulate_censored_rate_estimate(true_rate, num_visits):\n",
    "    \"\"\"Simulates updates to a page and visits by a web crawler, and\n",
    "    returns the proportion of visits in which an update was observed.\n",
    "    \n",
    "    Args:\n",
    "      true_rate (float): The average number of updates per unit length\n",
    "                         of time.  (The units are irrelevant for the\n",
    "                         purposes of this function, but you can imagine\n",
    "                         that they are hours.)\n",
    "      num_visits (float): The number of visits made to the site.  One\n",
    "                          visit is made per unit length of time, so\n",
    "                          this is also equal to the duration of time\n",
    "                          simulated.\n",
    "    \n",
    "    Returns:\n",
    "      float: the MLE for true_rate lambda, based on the number of \n",
    "      observed positive checks.\n",
    "    \"\"\"\n",
    "    # The skeleton here is provided for your convenience; you\n",
    "    # don't have to follow it.\n",
    "    draws = sample_poisson_process(true_rate, num_visits)\n",
    "    windows = snap_times(draws, 1, num_visits)\n",
    "    return len(windows) / num_visits"
   ]
  },
  {
   "cell_type": "markdown",
   "metadata": {
    "deletable": true,
    "editable": true
   },
   "source": [
    "The following helper function can be used to simulate many rate estimates using the function you just completed."
   ]
  },
  {
   "cell_type": "code",
   "execution_count": 39,
   "metadata": {
    "collapsed": true,
    "deletable": true,
    "editable": true
   },
   "outputs": [],
   "source": [
    "def simulate_many_rate_estimates(true_rate, num_visits):\n",
    "    return np.mean([simulate_censored_rate_estimate(true_rate, num_visits) \n",
    "                    for _ in range(1000)])"
   ]
  },
  {
   "cell_type": "markdown",
   "metadata": {
    "deletable": true,
    "editable": true
   },
   "source": [
    "The following code will simulate rate estimates for various values of $\\lambda$ (this cell may take up to 1 minute to run):"
   ]
  },
  {
   "cell_type": "code",
   "execution_count": 40,
   "metadata": {
    "collapsed": false,
    "deletable": true,
    "editable": true,
    "for_assignment_type": "student"
   },
   "outputs": [],
   "source": [
    "num_visits = 719\n",
    "rates = list(np.arange(0, 4, .2))\n",
    "estimates = [simulate_many_rate_estimates(r, num_visits) for r in rates]"
   ]
  },
  {
   "cell_type": "markdown",
   "metadata": {
    "deletable": true,
    "editable": true
   },
   "source": [
    "Finally, the following code will plot the estimated values for $\\lambda$ against their true values.  You will need this plot to answer the next question."
   ]
  },
  {
   "cell_type": "code",
   "execution_count": 41,
   "metadata": {
    "collapsed": false,
    "deletable": true,
    "editable": true,
    "for_assignment_type": "student"
   },
   "outputs": [
    {
     "data": {
      "image/png": "[encoded data removed]",
      "text/plain": [
       "<matplotlib.figure.Figure at 0x1124825c0>"
      ]
     },
     "metadata": {},
     "output_type": "display_data"
    }
   ],
   "source": [
    "plt.plot(rates, estimates, label = 'average estimate');\n",
    "plt.plot([rates[0], rates[-1]], [rates[0], rates[-1]], \n",
    "         linestyle='dashed', color='g', label='true rate')\n",
    "plt.xlabel(\"True rate of updates per hour\")\n",
    "plt.ylabel(\"Average estimate of the rate of updates per hour\")\n",
    "plt.legend();"
   ]
  },
  {
   "cell_type": "code",
   "execution_count": 42,
   "metadata": {
    "collapsed": false,
    "deletable": true,
    "editable": true
   },
   "outputs": [
    {
     "name": "stdout",
     "output_type": "stream",
     "text": [
      "~~~~~~~~~~~~~~~~~~~~~~~~~~~~~~~~~~~~~~~~~~~~~~~~~~~~~~~~~~~~~~~~~~~~~\n",
      "Running tests\n",
      "\n",
      "---------------------------------------------------------------------\n",
      "Test summary\n",
      "    Passed: 1\n",
      "    Failed: 0\n",
      "[ooooooooook] 100.0% passed\n",
      "\n"
     ]
    },
    {
     "data": {
      "application/javascript": [
       "IPython.notebook.save_checkpoint();"
      ],
      "text/plain": [
       "<IPython.core.display.Javascript object>"
      ]
     },
     "metadata": {},
     "output_type": "display_data"
    },
    {
     "data": {
      "application/javascript": [
       "IPython.notebook.save_notebook();"
      ],
      "text/plain": [
       "<IPython.core.display.Javascript object>"
      ]
     },
     "metadata": {},
     "output_type": "display_data"
    },
    {
     "name": "stdout",
     "output_type": "stream",
     "text": [
      "Saving notebook... Saved 'hw5.ipynb'.\n",
      "Backup... 100% complete\n",
      "Backup successful for user: mikaelaklein@berkeley.edu\n",
      "\n"
     ]
    }
   ],
   "source": [
    "_ = ok.grade('q13')\n",
    "_ = ok.backup()"
   ]
  },
  {
   "cell_type": "markdown",
   "metadata": {
    "deletable": true,
    "editable": true
   },
   "source": [
    "---\n",
    "\n",
    "## Question 14\n",
    "\n",
    "### Part 1\n",
    "Explain why the estimated rates seem to level off at 1."
   ]
  },
  {
   "cell_type": "code",
   "execution_count": 43,
   "metadata": {
    "collapsed": false,
    "deletable": true,
    "editable": true,
    "for_assignment_type": "student"
   },
   "outputs": [
    {
     "data": {
      "text/markdown": [
       "\n",
       "\n",
       "Because as rate increases, the number of updates increases, so n approaches N, which means that the MLE approaches N/N which is 1.\n",
       "\n"
      ],
      "text/plain": [
       "<IPython.core.display.Markdown object>"
      ]
     },
     "metadata": {},
     "output_type": "display_data"
    }
   ],
   "source": [
    "q14_p1_answer = r\"\"\"\n",
    "\n",
    "Because as rate increases, the number of updates increases, so n approaches N, which means that the MLE approaches N/N which is 1.\n",
    "\n",
    "\"\"\"\n",
    "\n",
    "display(Markdown(q14_p1_answer))"
   ]
  },
  {
   "cell_type": "markdown",
   "metadata": {
    "deletable": true,
    "editable": true
   },
   "source": [
    "### Part 2\n",
    "How far off is the estimate from the truth for $\\lambda$ less than 0.25?"
   ]
  },
  {
   "cell_type": "code",
   "execution_count": 44,
   "metadata": {
    "collapsed": false,
    "deletable": true,
    "editable": true,
    "for_assignment_type": "student"
   },
   "outputs": [
    {
     "data": {
      "text/markdown": [
       "\n",
       "\n",
       "Our estimate from the truth for $\\lambda$ less than 0.25 is almost exactly the true value.\n",
       "\n"
      ],
      "text/plain": [
       "<IPython.core.display.Markdown object>"
      ]
     },
     "metadata": {},
     "output_type": "display_data"
    }
   ],
   "source": [
    "q14_p2_answer = r\"\"\"\n",
    "\n",
    "Our estimate from the truth for $\\lambda$ less than 0.25 is almost exactly the true value.\n",
    "\n",
    "\"\"\"\n",
    "\n",
    "display(Markdown(q14_p2_answer))"
   ]
  },
  {
   "cell_type": "markdown",
   "metadata": {
    "deletable": true,
    "editable": true
   },
   "source": [
    "## Estimating the update rate: An improved approach\n",
    "Our simulation study has shown us that our MLE estimate for the rate is biased. It systematically underestimates the quantity we're trying to estimate, the rate.  This bias is small for small $\\lambda$, but can we eliminate it?\n",
    "\n",
    "We can recast the problem slightly by reconsidering our observations. Although the possible times of a page changes may be continuous, we only observe the data hourly and we only observe whether there was at least one update in that hour.  Does this remind you of a distribution that you have worked with?\n",
    "\n",
    "What if we consider the data for a page as 719 0-1 values, where 0 indicates no change and 1 indicates at least 1 change in the hour?  Do you see why these 0-1 values are equivalent to our representation of the data as positive changes?  For example, if `N` is 10 and we observe changes at hours 3, 7, and 9 then this information is equivalent to the sequence 0,0,1,0,0,0,1,0,1,0.  \n",
    "\n",
    "The distribution of the 0-1 values is Bernoulli(`p`). Under our assumption that the changes come from a Poisson process, their values are independent.\n",
    "\n",
    "This distribution incorporates the censoring of the data. How can we estimate the rate? We can use the Poisson distribution to compute the chance of a 0 or 1, which depends on the rate. Then we use the Bernoulli distribution to find the MLE of $\\lambda$."
   ]
  },
  {
   "cell_type": "markdown",
   "metadata": {
    "deletable": true,
    "editable": true
   },
   "source": [
    "---\n",
    "\n",
    "## Question 15\n",
    "What is the chance that a Poisson($\\lambda$) random variable is equal to 0?  What is the chance that it's greater than or equal to 1?"
   ]
  },
  {
   "cell_type": "code",
   "execution_count": 45,
   "metadata": {
    "collapsed": false,
    "deletable": true,
    "editable": true,
    "for_assignment_type": "student"
   },
   "outputs": [
    {
     "data": {
      "text/markdown": [
       "\n",
       "\n",
       "The formula is:\n",
       "\n",
       "$$P(k) = \\frac{\\lambda^k}{k!}  e^{-\\lambda}$$\n",
       "\n",
       "So the probability that a Poisson($\\lambda$) random variable equals 0 is:\n",
       "\n",
       "$$P(X = 0) = \\frac{\\lambda^0}{0!}  e^{-\\lambda} = e^{-\\lambda}$$\n",
       "\n",
       "And the probability that a Poisson($\\lambda$) is greater than or equal to 1 is:\n",
       "\n",
       "$$P(X >= 1) = 1 - e^{-\\lambda}$$\n",
       "\n"
      ],
      "text/plain": [
       "<IPython.core.display.Markdown object>"
      ]
     },
     "metadata": {},
     "output_type": "display_data"
    }
   ],
   "source": [
    "q15_answer = r\"\"\"\n",
    "\n",
    "The formula is:\n",
    "\n",
    "$$P(k) = \\frac{\\lambda^k}{k!}  e^{-\\lambda}$$\n",
    "\n",
    "So the probability that a Poisson($\\lambda$) random variable equals 0 is:\n",
    "\n",
    "$$P(X = 0) = \\frac{\\lambda^0}{0!}  e^{-\\lambda} = e^{-\\lambda}$$\n",
    "\n",
    "And the probability that a Poisson($\\lambda$) is greater than or equal to 1 is:\n",
    "\n",
    "$$P(X >= 1) = 1 - e^{-\\lambda}$$\n",
    "\n",
    "\"\"\"\n",
    "\n",
    "display(Markdown(q15_answer))"
   ]
  },
  {
   "cell_type": "markdown",
   "metadata": {
    "deletable": true,
    "editable": true
   },
   "source": [
    "To check your answers, fill in the numerical values of each probability, for $\\lambda=0.5$"
   ]
  },
  {
   "cell_type": "code",
   "execution_count": 46,
   "metadata": {
    "collapsed": false,
    "deletable": true,
    "editable": true
   },
   "outputs": [],
   "source": [
    "import math\n",
    "\n",
    "# The probability that a Poisson(0.5) random variable is equal to 0\n",
    "Prob_pois_half_equals_0 = math.exp(-0.5)\n",
    "# The probability that a Poisson(0.5) random variable is greater than or equal to 1\n",
    "Prob_pois_half_gte_1 = 1 - Prob_pois_half_equals_0"
   ]
  },
  {
   "cell_type": "code",
   "execution_count": 47,
   "metadata": {
    "collapsed": false,
    "deletable": true,
    "editable": true
   },
   "outputs": [
    {
     "name": "stdout",
     "output_type": "stream",
     "text": [
      "~~~~~~~~~~~~~~~~~~~~~~~~~~~~~~~~~~~~~~~~~~~~~~~~~~~~~~~~~~~~~~~~~~~~~\n",
      "Running tests\n",
      "\n",
      "---------------------------------------------------------------------\n",
      "Test summary\n",
      "    Passed: 1\n",
      "    Failed: 0\n",
      "[ooooooooook] 100.0% passed\n",
      "\n"
     ]
    },
    {
     "data": {
      "application/javascript": [
       "IPython.notebook.save_checkpoint();"
      ],
      "text/plain": [
       "<IPython.core.display.Javascript object>"
      ]
     },
     "metadata": {},
     "output_type": "display_data"
    },
    {
     "data": {
      "application/javascript": [
       "IPython.notebook.save_notebook();"
      ],
      "text/plain": [
       "<IPython.core.display.Javascript object>"
      ]
     },
     "metadata": {},
     "output_type": "display_data"
    },
    {
     "name": "stdout",
     "output_type": "stream",
     "text": [
      "Saving notebook... Saved 'hw5.ipynb'.\n",
      "Backup... 100% complete\n",
      "Backup successful for user: mikaelaklein@berkeley.edu\n",
      "\n"
     ]
    }
   ],
   "source": [
    "_ = ok.grade('q15')\n",
    "_ = ok.backup()"
   ]
  },
  {
   "cell_type": "markdown",
   "metadata": {
    "deletable": true,
    "editable": true
   },
   "source": [
    "---\n",
    "\n",
    "## Question 16\n",
    "With this modified model, the MLE of $\\lambda$, given $n$ updates in $N$ visits for a site, is:\n",
    "\n",
    "$$\\lambda^* = \\log \\left(\\frac{n}{N - n} + 1 \\right)$$\n",
    "\n",
    "Show that that's true.\n",
    "\n",
    "*Hint:* If you find an expression like $\\frac{e^{-\\lambda}}{1 - e^{-\\lambda}}$, it often helps to convert such an expression to $\\frac{1}{e^{\\lambda} - 1}$ by multiplying its numerator and denominator by $e^{\\lambda}$."
   ]
  },
  {
   "cell_type": "code",
   "execution_count": 113,
   "metadata": {
    "collapsed": false,
    "deletable": true,
    "editable": true,
    "for_assignment_type": "student"
   },
   "outputs": [
    {
     "data": {
      "text/markdown": [
       "\n",
       "\n",
       "**Step 1.** The probability of the data given $\\lambda$ is:\n",
       "\n",
       "$$L(\\lambda) = (1 - e^{-\\lambda})^{n}(e^{-\\lambda})^{N-n}$$\n",
       "\n",
       "**Step 2.** Take the log of $L(\\lambda$):\n",
       "\n",
       "$$\\log(L(\\lambda)) = n \\log(1 - e^{-\\lambda}) + (N - n) \\log(e^{-\\lambda}) = n \\log(1 - e^{-\\lambda}) + \\lambda(n - N)$$\n",
       "\n",
       "**Step 3.** Take the derivative of $\\log(L(\\lambda))$ with respect to $\\lambda$ and set it equal to 0:\n",
       "\n",
       "$$n (\\frac{e^{-\\lambda}}{1 - e^{-\\lambda}}) + n - N = 0$$\n",
       "\n",
       "$$n (\\frac{1}{e^{\\lambda}-1}) + n - N = 0$$\n",
       "\n",
       "$$n + n(e^{\\lambda}-1) - N(e^{\\lambda}-1) = 0$$\n",
       "\n",
       "$$n + ne^{\\lambda} - n - Ne^{\\lambda} + N = 0$$\n",
       "\n",
       "$$e^{\\lambda}(n - N) = -n - N + n$$\n",
       "\n",
       "$$e^{\\lambda} = \\frac{n + N - n}{N - n} = \\frac{n}{N - n} + 1$$\n",
       "\n",
       "Therefore,\n",
       "\n",
       "$$\\lambda^* = \\log(\\frac{n}{N - n} + 1)$$\n",
       "\n"
      ],
      "text/plain": [
       "<IPython.core.display.Markdown object>"
      ]
     },
     "metadata": {},
     "output_type": "display_data"
    }
   ],
   "source": [
    "q16_answer = r\"\"\"\n",
    "\n",
    "**Step 1.** The probability of the data given $\\lambda$ is:\n",
    "\n",
    "$$L(\\lambda) = (1 - e^{-\\lambda})^{n}(e^{-\\lambda})^{N-n}$$\n",
    "\n",
    "**Step 2.** Take the log of $L(\\lambda$):\n",
    "\n",
    "$$\\log(L(\\lambda)) = n \\log(1 - e^{-\\lambda}) + (N - n) \\log(e^{-\\lambda}) = n \\log(1 - e^{-\\lambda}) + \\lambda(n - N)$$\n",
    "\n",
    "**Step 3.** Take the derivative of $\\log(L(\\lambda))$ with respect to $\\lambda$ and set it equal to 0:\n",
    "\n",
    "$$n (\\frac{e^{-\\lambda}}{1 - e^{-\\lambda}}) + n - N = 0$$\n",
    "\n",
    "$$n (\\frac{1}{e^{\\lambda}-1}) + n - N = 0$$\n",
    "\n",
    "$$n + n(e^{\\lambda}-1) - N(e^{\\lambda}-1) = 0$$\n",
    "\n",
    "$$n + ne^{\\lambda} - n - Ne^{\\lambda} + N = 0$$\n",
    "\n",
    "$$e^{\\lambda}(n - N) = -n - N + n$$\n",
    "\n",
    "$$e^{\\lambda} = \\frac{n + N - n}{N - n} = \\frac{n}{N - n} + 1$$\n",
    "\n",
    "Therefore,\n",
    "\n",
    "$$\\lambda^* = \\log(\\frac{n}{N - n} + 1)$$\n",
    "\n",
    "\"\"\"\n",
    "\n",
    "display(Markdown(q16_answer))"
   ]
  },
  {
   "cell_type": "markdown",
   "metadata": {
    "deletable": true,
    "editable": true
   },
   "source": [
    "What happens when we observe a change every hour?  Then, our MLE $\\lambda^*$ takes the value $\\infty$.  \n",
    "\n",
    "Why is that true? Intuitively, if there is a change on each visit, we can always increase the likelihood of our data (which is the likelihood that every hour saw at least one change) by increasing $\\lambda$.\n",
    "\n",
    "An MLE of $\\infty$ is clearly problematic. We can use the idea of Laplace smoothing to modify the estimator a bit.  We'll use the following \"modified MLE\" estimator, which adds to every site a single imagined visit where \"half\" saw a change and the other \"half\" didn't:\n",
    "\n",
    "$$\\lambda^+ = \\log \\left(\\frac{n + .5}{N - n + .5} + 1 \\right)$$\n",
    "\n",
    "You can imagine that this estimate incorporates a prior conservative intuition that a site might not change all the time even if it happened to change every hour in the particular 30-day period we observed."
   ]
  },
  {
   "cell_type": "markdown",
   "metadata": {
    "deletable": true,
    "editable": true
   },
   "source": [
    "\n",
    "---\n",
    "\n",
    "\n",
    "## Question 17\n",
    "\n",
    "\n",
    "1. Add a `'modified mle'` column to the `crawl_stats` table containing the `'modified mle'` estimator $\\lambda^+$ for each website.\n",
    "\n",
    "2. **Then,** make a histogram that displays the distribution of the modified MLEs *for the sites with at least 700 crawls*.\n",
    "\n",
    "*Hint:* You may find your work in question 10 helpful."
   ]
  },
  {
   "cell_type": "code",
   "execution_count": 49,
   "metadata": {
    "collapsed": false,
    "deletable": true,
    "editable": true,
    "for_assignment_type": "student"
   },
   "outputs": [
    {
     "data": {
      "text/plain": [
       "(array([ 473.,  121.,   78.,   56.,   34.,   29.,   26.,   32.,   23.,\n",
       "          11.,    9.,   14.,   14.,   14.,   10.,    9.,    2.,    5.,\n",
       "           3.,    3.,    4.,    2.,    0.,    3.,    1.,    3.,    1.,\n",
       "           0.,    2.,    1.,    3.,    1.,    1.,    1.,    0.,   11.]),\n",
       " array([  6.94685683e-04,   2.02686455e-01,   4.04678225e-01,\n",
       "          6.06669995e-01,   8.08661764e-01,   1.01065353e+00,\n",
       "          1.21264530e+00,   1.41463707e+00,   1.61662884e+00,\n",
       "          1.81862061e+00,   2.02061238e+00,   2.22260415e+00,\n",
       "          2.42459592e+00,   2.62658769e+00,   2.82857946e+00,\n",
       "          3.03057123e+00,   3.23256300e+00,   3.43455477e+00,\n",
       "          3.63654654e+00,   3.83853831e+00,   4.04053008e+00,\n",
       "          4.24252185e+00,   4.44451362e+00,   4.64650539e+00,\n",
       "          4.84849716e+00,   5.05048893e+00,   5.25248070e+00,\n",
       "          5.45447247e+00,   5.65646424e+00,   5.85845601e+00,\n",
       "          6.06044777e+00,   6.26243954e+00,   6.46443131e+00,\n",
       "          6.66642308e+00,   6.86841485e+00,   7.07040662e+00,\n",
       "          7.27239839e+00]),\n",
       " <a list of 36 Patch objects>)"
      ]
     },
     "execution_count": 49,
     "metadata": {},
     "output_type": "execute_result"
    },
    {
     "data": {
      "image/png": "[encoded data removed]",
      "text/plain": [
       "<matplotlib.figure.Figure at 0x1151c19b0>"
      ]
     },
     "metadata": {},
     "output_type": "display_data"
    }
   ],
   "source": [
    "crawl_stats['modified mle'] = np.log((crawl_stats['number of updates'] + .5) / \\\n",
    "                                     (crawl_stats['number of crawls'] - crawl_stats['number of updates'] + .5) + 1)\n",
    "plt.hist(crawl_stats['modified mle'], bins = 36)"
   ]
  },
  {
   "cell_type": "code",
   "execution_count": 50,
   "metadata": {
    "collapsed": false,
    "deletable": true,
    "editable": true
   },
   "outputs": [
    {
     "name": "stdout",
     "output_type": "stream",
     "text": [
      "~~~~~~~~~~~~~~~~~~~~~~~~~~~~~~~~~~~~~~~~~~~~~~~~~~~~~~~~~~~~~~~~~~~~~\n",
      "Running tests\n",
      "\n",
      "---------------------------------------------------------------------\n",
      "Test summary\n",
      "    Passed: 1\n",
      "    Failed: 0\n",
      "[ooooooooook] 100.0% passed\n",
      "\n"
     ]
    },
    {
     "data": {
      "application/javascript": [
       "IPython.notebook.save_checkpoint();"
      ],
      "text/plain": [
       "<IPython.core.display.Javascript object>"
      ]
     },
     "metadata": {},
     "output_type": "display_data"
    },
    {
     "data": {
      "application/javascript": [
       "IPython.notebook.save_notebook();"
      ],
      "text/plain": [
       "<IPython.core.display.Javascript object>"
      ]
     },
     "metadata": {},
     "output_type": "display_data"
    },
    {
     "name": "stdout",
     "output_type": "stream",
     "text": [
      "Saving notebook... Saved 'hw5.ipynb'.\n",
      "Backup... 100% complete\n",
      "Backup successful for user: mikaelaklein@berkeley.edu\n",
      "\n"
     ]
    }
   ],
   "source": [
    "_ = ok.grade('q17')\n",
    "_ = ok.backup()"
   ]
  },
  {
   "cell_type": "markdown",
   "metadata": {
    "deletable": true,
    "editable": true
   },
   "source": [
    "Notice that this distribution is quite different than the earlier one we found in question 10. Now there is not a pile up of estimates at 1. "
   ]
  },
  {
   "cell_type": "markdown",
   "metadata": {
    "deletable": true,
    "editable": true
   },
   "source": [
    "## How accurate are our estimates?\n",
    "\n",
    "We don't know the true update rates of the pages, so we can't know exactly how accurate our estimates are.  But this is often the case in data science.  Let's try to figure out a reasonable way to *estimate* the accuracy of our estimates.\n",
    "\n",
    "The strategy is similar to the bootstrap.  In pseudocode:\n",
    "\n",
    "`for each page ` $i$ `:`\n",
    "\n",
    "`... Assume the true change rate ` $r_i$ ` equals our estimate ` $\\lambda^+_i$.\n",
    "\n",
    "`... for _ in range(num_simulations):`\n",
    "\n",
    "`...     Simulate changes and positive checks.`\n",
    "\n",
    "`...     Compute a new maximum likelihood estimate of ` $r_i$ ` based on the simulated data.`\n",
    "\n",
    "`... Plot these estimates in a histogram or summarize them in some other way.`\n",
    "\n",
    "This is called a *parametric* bootstrap method, because instead of resampling directly from our data, we use our data to estimate its distribution's parameters and then sample from that distribution."
   ]
  },
  {
   "cell_type": "markdown",
   "metadata": {
    "deletable": true,
    "editable": true
   },
   "source": [
    "---\n",
    "\n",
    "## Question 18\n",
    "Complete the definitions of `simulate_change_rate_estimate` and `modified_mle` in the cell below."
   ]
  },
  {
   "cell_type": "code",
   "execution_count": 51,
   "metadata": {
    "collapsed": true,
    "deletable": true,
    "editable": true,
    "for_assignment_type": "student"
   },
   "outputs": [],
   "source": [
    "def simulate_change_rate_estimate(change_rate, num_observations, estimator):\n",
    "    \"\"\"Simulates hourly change observations for a website and produces an\n",
    "    estimate of the change rate.\n",
    "    \n",
    "    Args:\n",
    "      change_rate (float): The hourly change rate of the website to be used in\n",
    "                           the simulation.\n",
    "      num_observations (int): The number of observations (equivalently, the\n",
    "                              number of hours) to simulate.\n",
    "      estimator (func): A function to apply to the simulated observations to\n",
    "                        produce an estimate of the change rate.  Has the same\n",
    "                        signature as the function modified_mle below.\n",
    "    \n",
    "    Returns:\n",
    "      float: The estimate produced by calling estimator on the simulated\n",
    "             list of positive checks.\n",
    "    \"\"\"\n",
    "    draws = sample_poisson_process(change_rate, num_observations)\n",
    "    positive_checks = snap_times(draws, 1, num_observations)\n",
    "    return estimator(positive_checks, num_observations)\n",
    "\n",
    "\n",
    "def modified_mle(positive_checks, num_observations):\n",
    "    \"\"\"Produces the modified MLE for a dataset.\n",
    "    \n",
    "    Args:\n",
    "      positive_checks (ndarray): A list or array of the hours when a\n",
    "                                 change was observed.\n",
    "      num_observations (int): The number of hours in which we could\n",
    "                              have observed a change.\n",
    "    \n",
    "    Returns:\n",
    "      (float): The modified MLE.\n",
    "    \"\"\"\n",
    "    n = len(positive_checks)\n",
    "    N = num_observations\n",
    "    return np.log((n + .5)/(N - n + .5) + 1)"
   ]
  },
  {
   "cell_type": "code",
   "execution_count": 52,
   "metadata": {
    "collapsed": false,
    "deletable": true,
    "editable": true
   },
   "outputs": [
    {
     "name": "stdout",
     "output_type": "stream",
     "text": [
      "~~~~~~~~~~~~~~~~~~~~~~~~~~~~~~~~~~~~~~~~~~~~~~~~~~~~~~~~~~~~~~~~~~~~~\n",
      "Running tests\n",
      "\n",
      "---------------------------------------------------------------------\n",
      "Test summary\n",
      "    Passed: 1\n",
      "    Failed: 0\n",
      "[ooooooooook] 100.0% passed\n",
      "\n"
     ]
    },
    {
     "data": {
      "application/javascript": [
       "IPython.notebook.save_checkpoint();"
      ],
      "text/plain": [
       "<IPython.core.display.Javascript object>"
      ]
     },
     "metadata": {},
     "output_type": "display_data"
    },
    {
     "data": {
      "application/javascript": [
       "IPython.notebook.save_notebook();"
      ],
      "text/plain": [
       "<IPython.core.display.Javascript object>"
      ]
     },
     "metadata": {},
     "output_type": "display_data"
    },
    {
     "name": "stdout",
     "output_type": "stream",
     "text": [
      "Saving notebook... Saved 'hw5.ipynb'.\n",
      "Backup... 100% complete\n",
      "Backup successful for user: mikaelaklein@berkeley.edu\n",
      "\n"
     ]
    }
   ],
   "source": [
    "_ = ok.grade('q18')\n",
    "_ = ok.backup()"
   ]
  },
  {
   "cell_type": "markdown",
   "metadata": {
    "deletable": true,
    "editable": true
   },
   "source": [
    "---\n",
    "\n",
    "## Question 19\n",
    "\n",
    "Complete the definition of `plot_bootstrap_rate_estimates` in the cell below.  **Read the docstring** carefully so you know what to do. **Then** run the provided cell below that to plot the bootstrap rate estimate distributions for a few pages."
   ]
  },
  {
   "cell_type": "code",
   "execution_count": 53,
   "metadata": {
    "collapsed": true,
    "deletable": true,
    "editable": true,
    "for_assignment_type": "student"
   },
   "outputs": [],
   "source": [
    "def plot_bootstrap_rate_estimates(page_url, num_simulations):\n",
    "    \"\"\"Simulates positive check observations for a website many times.  For\n",
    "    each simulation, the page's change rate is estimated based on the simulated\n",
    "    positive checks.  The estimation method is the modified_mle function\n",
    "    implemented above.  Then this function produces a histogram that shows\n",
    "    the distribution of these estimated change rates.\n",
    "    \n",
    "    When conducting each simulation, the change rate is taken to be the\n",
    "    estimated update rate for the page.  *That* estimate is the modified\n",
    "    MLE computed from the actual positive check observations for that page.\n",
    "    \n",
    "    The modified MLE computed from the actual observations for the page\n",
    "    is also displayed as a vertical red line at an appropriate horizontal\n",
    "    position on the histogram.\n",
    "    \n",
    "    Here is a diagram that might be helpful:\n",
    "    \n",
    "                                             (This happens 1 time)\n",
    "                                                     |\n",
    "                                                     v\n",
    "    Positive check observations for this page ---modified_mle---> Estimate of change rate for this page\n",
    "    \n",
    "                                   (1000x, once per simulation)\n",
    "    Estimate of change rate for this page ---simulation---> Simulated positive checks\n",
    "    \n",
    "                          (1000x, once per simulation)\n",
    "    Simulated positive checks ---modified_mle---> Bootstrap estimate of change rate for this page\n",
    "    \n",
    "    1000 bootstrap estimates of change rate for this page ---> Histogram\n",
    "                                                               ^\n",
    "                                        (displayed somewhere)  |\n",
    "    Estimate of change rate for this page --------------------/\n",
    "    \n",
    "    Args:\n",
    "      page_url (str): The URL of the page to simulate.\n",
    "      num_simulations (int): The number of simulations to run.\n",
    "    \n",
    "    Returns:\n",
    "      None: This function doesn't return anything; it just makes a histogram\n",
    "      appear as described above.\n",
    "    \"\"\"\n",
    "    row = crawl_stats.loc[[page_url]]\n",
    "    change_rate = row['modified mle'][0]\n",
    "    num_observations = row['number of crawls'][0]\n",
    "    \n",
    "    new_mles = []\n",
    "    for i in range(num_simulations):\n",
    "        new_mles = new_mles + [simulate_change_rate_estimate(change_rate, num_observations, modified_mle)]\n",
    "    \n",
    "    new_mles = np.array(new_mles)\n",
    "    plt.hist(new_mles)\n",
    "    plt.axvline(change_rate, color = 'r')"
   ]
  },
  {
   "cell_type": "code",
   "execution_count": 54,
   "metadata": {
    "collapsed": false,
    "deletable": true,
    "editable": true
   },
   "outputs": [
    {
     "data": {
      "image/png": "[encoded data removed]",
      "text/plain": [
       "<matplotlib.figure.Figure at 0x112668cf8>"
      ]
     },
     "metadata": {},
     "output_type": "display_data"
    }
   ],
   "source": [
    "# Run this cell to make plots for several pages using your\n",
    "# function.  Since no automatic tests are provided for this\n",
    "# question, we suggest examining the plots to make sure they\n",
    "# make sense to you.\n",
    "many_updates_url = crawl_stats[np.logical_and(\n",
    "    crawl_stats['number of crawls'] >= 700,\n",
    "    np.logical_and(\n",
    "        .2 <= crawl_stats['proportion of updates'],\n",
    "        crawl_stats['proportion of updates'] >= .8))].index[0]\n",
    "plot_bootstrap_rate_estimates(many_updates_url, 1000)\n",
    "\n",
    "few_updates_url = crawl_stats[np.logical_and(\n",
    "    crawl_stats['number of crawls'] >= 700,\n",
    "    np.logical_and(\n",
    "        .05 <= crawl_stats['proportion of updates'],\n",
    "        crawl_stats['proportion of updates'] >= .15))].index[0]\n",
    "plot_bootstrap_rate_estimates(few_updates_url, 1000)"
   ]
  },
  {
   "cell_type": "markdown",
   "metadata": {
    "deletable": true,
    "editable": true
   },
   "source": [
    "Looking at the error distribution is good, but it's also useful to characterize error with a single number.  (This facilitates comparisons among different estimators, for example.)\n",
    "\n",
    "A common way to summarize error in estimation is the root mean squared error, or RMSE.  The RMSE is the square root of the MSE, or mean square error. We calculate the MSE as follows:\n",
    "\n",
    "* the average (across many simulations, where each simulation results in 1 estimate) of\n",
    "* the squared difference between the estimate and its actual value.\n",
    "\n",
    "Working with the RMSE, rather than the MSE, is useful when we want to understand the magnitude of error relative to the estimates.\n",
    "\n",
    "We don't know the true change rate for each website, so we can't compute the true MSE.  However, if we find the MSE using the data making up the histogram you produced in the previous question, using the original estimate (the red line) as the actual change rate, that is a *bootstrap estimate* of the RMSE."
   ]
  },
  {
   "cell_type": "markdown",
   "metadata": {
    "deletable": true,
    "editable": true
   },
   "source": [
    "## Question 20\n",
    "\n",
    "---\n",
    "\n",
    "Complete the definition of `estimate_rmse` in the cell below.  **Then**, use it to estimate the RMSE for each page's modified MLE.  Add these RMSEs as a column named `'rmse'` in `crawl_stats`.\n",
    "\n",
    "**Note**: There are 1000 pages, so this will take some time.  We recommend using only 100 simulations per page, which should be sufficient for reasonable estimates.  Try your code on a single page before running it on every page."
   ]
  },
  {
   "cell_type": "code",
   "execution_count": 67,
   "metadata": {
    "collapsed": false,
    "deletable": true,
    "editable": true,
    "for_assignment_type": "student"
   },
   "outputs": [
    {
     "name": "stdout",
     "output_type": "stream",
     "text": [
      "0.637589244047\n",
      "0.0286366620465\n"
     ]
    }
   ],
   "source": [
    "def estimate_rmse(page_url, num_simulations):\n",
    "    \"\"\"Simulates update observations for a website many times.  For each\n",
    "    simulation, the page's change rate is estimated based on the simulated\n",
    "    observations.  (The estimation method is the modified MLE.)  Then this\n",
    "    function produces an estimate of the RMSE of estimates of the change\n",
    "    rate for this page.\n",
    "    \n",
    "    When conducting each simulation, the change rate is taken to be the\n",
    "    estimated change rate for the page.  *That* estimate is the modified\n",
    "    MLE computed from the actual observations for the page.\n",
    "    \n",
    "    We compute the modified MLE for each set of simulated observations.  That\n",
    "    constitutes num_simulations estimates of the change rate.\n",
    "    \n",
    "    Then we compute the RMSE of those estimates.  The \"true\" change rate in\n",
    "    that calculation is taken to be the modified MLE computed from the\n",
    "    actual observations for the page.\n",
    "    \n",
    "    Args:\n",
    "      page_url (str): The URL of the page to simulate.\n",
    "      num_simulations (int): The number of simulations to run.\n",
    "    \n",
    "    Returns:\n",
    "      float: The estimated RMSE of the modified MLE for the given page,\n",
    "             based on num_simulations simulations.\n",
    "    \"\"\"\n",
    "    row = crawl_stats.loc[[page_url]]\n",
    "    change_rate = row['modified mle'][0]\n",
    "    num_observations = row['number of crawls'][0]\n",
    "    \n",
    "    new_mles = []\n",
    "    for i in range(num_simulations):\n",
    "        new_mles = new_mles + [simulate_change_rate_estimate(change_rate, num_observations, modified_mle)]\n",
    "    \n",
    "    new_mles = np.array(new_mles)\n",
    "    \n",
    "    return np.sqrt(((new_mles - change_rate) ** 2).mean())\n",
    "    \n",
    "print(estimate_rmse(many_updates_url, 1000))\n",
    "print(estimate_rmse(few_updates_url, 1000))"
   ]
  },
  {
   "cell_type": "code",
   "execution_count": 68,
   "metadata": {
    "collapsed": false
   },
   "outputs": [
    {
     "data": {
      "text/plain": [
       "0.0055619246684952429"
      ]
     },
     "execution_count": 68,
     "metadata": {},
     "output_type": "execute_result"
    }
   ],
   "source": [
    "estimate_rmse(crawl_stats.index[5], 100)"
   ]
  },
  {
   "cell_type": "code",
   "execution_count": 69,
   "metadata": {
    "collapsed": false,
    "deletable": true,
    "editable": true,
    "for_assignment_type": "student"
   },
   "outputs": [
    {
     "data": {
      "text/html": [
       "<div>\n",
       "<table border=\"1\" class=\"dataframe\">\n",
       "  <thead>\n",
       "    <tr style=\"text-align: right;\">\n",
       "      <th></th>\n",
       "      <th>number of updates</th>\n",
       "      <th>number of crawls</th>\n",
       "      <th>proportion of updates</th>\n",
       "      <th>Desc</th>\n",
       "      <th>simple mle</th>\n",
       "      <th>modified mle</th>\n",
       "      <th>rmse</th>\n",
       "    </tr>\n",
       "    <tr>\n",
       "      <th>url</th>\n",
       "      <th></th>\n",
       "      <th></th>\n",
       "      <th></th>\n",
       "      <th></th>\n",
       "      <th></th>\n",
       "      <th></th>\n",
       "      <th></th>\n",
       "    </tr>\n",
       "  </thead>\n",
       "  <tbody>\n",
       "    <tr>\n",
       "      <th>http://0968797090.blinklist.com/tag/%E5%8F%B0%E5%8C%97%E9%A0%82%E9%BB%9E%E7%AE%A1%E7%90%86%E5%A7%94%E5%93%A1%E6%9C%83/</th>\n",
       "      <td>0.0</td>\n",
       "      <td>245</td>\n",
       "      <td>0.000000</td>\n",
       "      <td></td>\n",
       "      <td>0.000000</td>\n",
       "      <td>0.002035</td>\n",
       "      <td>0.003658</td>\n",
       "    </tr>\n",
       "    <tr>\n",
       "      <th>http://202.155.15.208/koran_detail.asp?id=283292&amp;kat_id=16&amp;kat_id1=&amp;kat_id2=</th>\n",
       "      <td>27.0</td>\n",
       "      <td>217</td>\n",
       "      <td>0.124424</td>\n",
       "      <td></td>\n",
       "      <td>0.124424</td>\n",
       "      <td>0.134843</td>\n",
       "      <td>0.028709</td>\n",
       "    </tr>\n",
       "    <tr>\n",
       "      <th>http://5eg.net/gallery/thumbnails.php?album=lastcom</th>\n",
       "      <td>13.0</td>\n",
       "      <td>378</td>\n",
       "      <td>0.034392</td>\n",
       "      <td></td>\n",
       "      <td>0.034392</td>\n",
       "      <td>0.036270</td>\n",
       "      <td>0.010007</td>\n",
       "    </tr>\n",
       "    <tr>\n",
       "      <th>http://5eg.net/gallery/thumbnails.php?album=lastcom&amp;cat=0</th>\n",
       "      <td>13.0</td>\n",
       "      <td>378</td>\n",
       "      <td>0.034392</td>\n",
       "      <td></td>\n",
       "      <td>0.034392</td>\n",
       "      <td>0.036270</td>\n",
       "      <td>0.010537</td>\n",
       "    </tr>\n",
       "    <tr>\n",
       "      <th>http://86door.com.cn/</th>\n",
       "      <td>5.0</td>\n",
       "      <td>268</td>\n",
       "      <td>0.018657</td>\n",
       "      <td></td>\n",
       "      <td>0.018657</td>\n",
       "      <td>0.020658</td>\n",
       "      <td>0.008981</td>\n",
       "    </tr>\n",
       "    <tr>\n",
       "      <th>http://86door.com.cn/GY/Index.asp?catid=492&amp;page=15&amp;searchField=&amp;searchChar=&amp;DisCount=12</th>\n",
       "      <td>3.0</td>\n",
       "      <td>312</td>\n",
       "      <td>0.009615</td>\n",
       "      <td></td>\n",
       "      <td>0.009615</td>\n",
       "      <td>0.011245</td>\n",
       "      <td>0.005823</td>\n",
       "    </tr>\n",
       "    <tr>\n",
       "      <th>http://a.hatena.ne.jp/Syako/simple</th>\n",
       "      <td>76.0</td>\n",
       "      <td>707</td>\n",
       "      <td>0.107496</td>\n",
       "      <td>Normal</td>\n",
       "      <td>0.107496</td>\n",
       "      <td>0.114346</td>\n",
       "      <td>0.012630</td>\n",
       "    </tr>\n",
       "    <tr>\n",
       "      <th>http://a.hatena.ne.jp/inouetom/image?gid=null</th>\n",
       "      <td>256.0</td>\n",
       "      <td>707</td>\n",
       "      <td>0.362093</td>\n",
       "      <td>Normal</td>\n",
       "      <td>0.362093</td>\n",
       "      <td>0.449869</td>\n",
       "      <td>0.028165</td>\n",
       "    </tr>\n",
       "    <tr>\n",
       "      <th>http://a.hatena.ne.jp/munehiro/simple</th>\n",
       "      <td>88.0</td>\n",
       "      <td>707</td>\n",
       "      <td>0.124470</td>\n",
       "      <td>Normal</td>\n",
       "      <td>0.124470</td>\n",
       "      <td>0.133531</td>\n",
       "      <td>0.015195</td>\n",
       "    </tr>\n",
       "    <tr>\n",
       "      <th>http://a.hatena.ne.jp/yamagen2001/</th>\n",
       "      <td>3.0</td>\n",
       "      <td>707</td>\n",
       "      <td>0.004243</td>\n",
       "      <td>Rare Update</td>\n",
       "      <td>0.004243</td>\n",
       "      <td>0.004956</td>\n",
       "      <td>0.002801</td>\n",
       "    </tr>\n",
       "    <tr>\n",
       "      <th>http://aardvark.woes.co.za/gedigte/vertoon/3567_Gesenser.htm</th>\n",
       "      <td>202.0</td>\n",
       "      <td>719</td>\n",
       "      <td>0.280946</td>\n",
       "      <td>Normal</td>\n",
       "      <td>0.280946</td>\n",
       "      <td>0.330242</td>\n",
       "      <td>0.021546</td>\n",
       "    </tr>\n",
       "    <tr>\n",
       "      <th>http://aardvark.woes.co.za/happies/vertoon/2337_Eendag_in_die_Hemel.htm</th>\n",
       "      <td>118.0</td>\n",
       "      <td>719</td>\n",
       "      <td>0.164117</td>\n",
       "      <td>Normal</td>\n",
       "      <td>0.164117</td>\n",
       "      <td>0.179825</td>\n",
       "      <td>0.018165</td>\n",
       "    </tr>\n",
       "    <tr>\n",
       "      <th>http://abclocal.go.com/wls/story?section=News&amp;id=2184316</th>\n",
       "      <td>385.0</td>\n",
       "      <td>418</td>\n",
       "      <td>0.921053</td>\n",
       "      <td></td>\n",
       "      <td>0.921053</td>\n",
       "      <td>2.526325</td>\n",
       "      <td>0.161906</td>\n",
       "    </tr>\n",
       "    <tr>\n",
       "      <th>http://afaceri.agendabacau.ro/director/vector_trading.html</th>\n",
       "      <td>13.0</td>\n",
       "      <td>109</td>\n",
       "      <td>0.119266</td>\n",
       "      <td></td>\n",
       "      <td>0.119266</td>\n",
       "      <td>0.130937</td>\n",
       "      <td>0.039209</td>\n",
       "    </tr>\n",
       "    <tr>\n",
       "      <th>http://aforismi.wordpress.com/2006/12/19/le-ali-al-cuore/</th>\n",
       "      <td>3.0</td>\n",
       "      <td>543</td>\n",
       "      <td>0.005525</td>\n",
       "      <td></td>\n",
       "      <td>0.005525</td>\n",
       "      <td>0.006455</td>\n",
       "      <td>0.003659</td>\n",
       "    </tr>\n",
       "    <tr>\n",
       "      <th>http://aforismi.wordpress.com/about/</th>\n",
       "      <td>0.0</td>\n",
       "      <td>420</td>\n",
       "      <td>0.000000</td>\n",
       "      <td></td>\n",
       "      <td>0.000000</td>\n",
       "      <td>0.001188</td>\n",
       "      <td>0.002078</td>\n",
       "    </tr>\n",
       "    <tr>\n",
       "      <th>http://aforismi.wordpress.com/tag/educazione/</th>\n",
       "      <td>3.0</td>\n",
       "      <td>122</td>\n",
       "      <td>0.024590</td>\n",
       "      <td></td>\n",
       "      <td>0.024590</td>\n",
       "      <td>0.028868</td>\n",
       "      <td>0.017769</td>\n",
       "    </tr>\n",
       "    <tr>\n",
       "      <th>http://aforismi.wordpress.com/tag/saggezza/</th>\n",
       "      <td>0.0</td>\n",
       "      <td>122</td>\n",
       "      <td>0.000000</td>\n",
       "      <td></td>\n",
       "      <td>0.000000</td>\n",
       "      <td>0.004073</td>\n",
       "      <td>0.007541</td>\n",
       "    </tr>\n",
       "    <tr>\n",
       "      <th>http://africa.oneworld.net/article/rssheadlines/512</th>\n",
       "      <td>27.0</td>\n",
       "      <td>369</td>\n",
       "      <td>0.073171</td>\n",
       "      <td></td>\n",
       "      <td>0.073171</td>\n",
       "      <td>0.077231</td>\n",
       "      <td>0.014280</td>\n",
       "    </tr>\n",
       "    <tr>\n",
       "      <th>http://alemler.com/sepet_ekle.asp?urun_id=12380&amp;url=%2Fvcd_urun.asp%3Furun_id%3D14389</th>\n",
       "      <td>1.0</td>\n",
       "      <td>439</td>\n",
       "      <td>0.002278</td>\n",
       "      <td></td>\n",
       "      <td>0.002278</td>\n",
       "      <td>0.003415</td>\n",
       "      <td>0.003275</td>\n",
       "    </tr>\n",
       "    <tr>\n",
       "      <th>http://all-hotels.ru/moscow/sovietsky/index.ru.html</th>\n",
       "      <td>240.0</td>\n",
       "      <td>381</td>\n",
       "      <td>0.629921</td>\n",
       "      <td></td>\n",
       "      <td>0.629921</td>\n",
       "      <td>0.993121</td>\n",
       "      <td>0.073627</td>\n",
       "    </tr>\n",
       "    <tr>\n",
       "      <th>http://allegro.pl/show_user.php?uid=3334814</th>\n",
       "      <td>112.0</td>\n",
       "      <td>478</td>\n",
       "      <td>0.234310</td>\n",
       "      <td></td>\n",
       "      <td>0.234310</td>\n",
       "      <td>0.267702</td>\n",
       "      <td>0.024846</td>\n",
       "    </tr>\n",
       "    <tr>\n",
       "      <th>http://andipantz.vox.com/library/videos/tags/cradle/</th>\n",
       "      <td>1.0</td>\n",
       "      <td>428</td>\n",
       "      <td>0.002336</td>\n",
       "      <td></td>\n",
       "      <td>0.002336</td>\n",
       "      <td>0.003503</td>\n",
       "      <td>0.003129</td>\n",
       "    </tr>\n",
       "    <tr>\n",
       "      <th>http://art.ridne.net/dir/node-23710.html</th>\n",
       "      <td>204.0</td>\n",
       "      <td>719</td>\n",
       "      <td>0.283727</td>\n",
       "      <td>Normal</td>\n",
       "      <td>0.283727</td>\n",
       "      <td>0.334114</td>\n",
       "      <td>0.022873</td>\n",
       "    </tr>\n",
       "    <tr>\n",
       "      <th>http://azmani80.pa.promovacances.fr/M01/theme.htm</th>\n",
       "      <td>52.0</td>\n",
       "      <td>652</td>\n",
       "      <td>0.079755</td>\n",
       "      <td></td>\n",
       "      <td>0.079755</td>\n",
       "      <td>0.083814</td>\n",
       "      <td>0.011147</td>\n",
       "    </tr>\n",
       "    <tr>\n",
       "      <th>http://barrie.kijiji.ca/c-buy-and-sell-sports-bikes-electric-bike-environmentally-friendly-new-W0QQAdIdZ10370585</th>\n",
       "      <td>185.0</td>\n",
       "      <td>719</td>\n",
       "      <td>0.257302</td>\n",
       "      <td>Normal</td>\n",
       "      <td>0.257302</td>\n",
       "      <td>0.297919</td>\n",
       "      <td>0.022618</td>\n",
       "    </tr>\n",
       "    <tr>\n",
       "      <th>http://bayreuth.eins.de/category/list/community/mehr</th>\n",
       "      <td>17.0</td>\n",
       "      <td>612</td>\n",
       "      <td>0.027778</td>\n",
       "      <td></td>\n",
       "      <td>0.027778</td>\n",
       "      <td>0.028964</td>\n",
       "      <td>0.006569</td>\n",
       "    </tr>\n",
       "    <tr>\n",
       "      <th>http://bbs.chetx.com/soufun_forum/post/frm_show_new.aspx?announceid=60703&amp;m_masterid=60703&amp;boardid=57&amp;page=1</th>\n",
       "      <td>11.0</td>\n",
       "      <td>391</td>\n",
       "      <td>0.028133</td>\n",
       "      <td></td>\n",
       "      <td>0.028133</td>\n",
       "      <td>0.029776</td>\n",
       "      <td>0.008972</td>\n",
       "    </tr>\n",
       "    <tr>\n",
       "      <th>http://bbs.csai.cn/artc_api.asp?n=26268</th>\n",
       "      <td>6.0</td>\n",
       "      <td>366</td>\n",
       "      <td>0.016393</td>\n",
       "      <td></td>\n",
       "      <td>0.016393</td>\n",
       "      <td>0.017870</td>\n",
       "      <td>0.007053</td>\n",
       "    </tr>\n",
       "    <tr>\n",
       "      <th>http://bbs.phoenixtv.com/fhbbs/misc.php?action=viewratings&amp;tid=2144358&amp;pid=6419989</th>\n",
       "      <td>2.0</td>\n",
       "      <td>210</td>\n",
       "      <td>0.009524</td>\n",
       "      <td></td>\n",
       "      <td>0.009524</td>\n",
       "      <td>0.011919</td>\n",
       "      <td>0.008471</td>\n",
       "    </tr>\n",
       "    <tr>\n",
       "      <th>...</th>\n",
       "      <td>...</td>\n",
       "      <td>...</td>\n",
       "      <td>...</td>\n",
       "      <td>...</td>\n",
       "      <td>...</td>\n",
       "      <td>...</td>\n",
       "      <td>...</td>\n",
       "    </tr>\n",
       "    <tr>\n",
       "      <th>http://www.woerterbuch.info/?query=zusammengeh%C3%B6rt&amp;s=dict</th>\n",
       "      <td>516.0</td>\n",
       "      <td>719</td>\n",
       "      <td>0.717663</td>\n",
       "      <td>Normal</td>\n",
       "      <td>0.717663</td>\n",
       "      <td>1.263585</td>\n",
       "      <td>0.050540</td>\n",
       "    </tr>\n",
       "    <tr>\n",
       "      <th>http://www.woes.co.za/gedigte/vertoon/6855_Kersfees.htm</th>\n",
       "      <td>186.0</td>\n",
       "      <td>719</td>\n",
       "      <td>0.258693</td>\n",
       "      <td>Normal</td>\n",
       "      <td>0.258693</td>\n",
       "      <td>0.299792</td>\n",
       "      <td>0.023704</td>\n",
       "    </tr>\n",
       "    <tr>\n",
       "      <th>http://www.wondermesh.co.uk/component/option,com_contact/task,view/contact_id,1/Itemid,29/</th>\n",
       "      <td>476.0</td>\n",
       "      <td>719</td>\n",
       "      <td>0.662031</td>\n",
       "      <td>Normal</td>\n",
       "      <td>0.662031</td>\n",
       "      <td>1.084134</td>\n",
       "      <td>0.051008</td>\n",
       "    </tr>\n",
       "    <tr>\n",
       "      <th>http://www.wpacouncil.org/aggregator?page=13</th>\n",
       "      <td>55.0</td>\n",
       "      <td>719</td>\n",
       "      <td>0.076495</td>\n",
       "      <td>Rare Update</td>\n",
       "      <td>0.076495</td>\n",
       "      <td>0.080216</td>\n",
       "      <td>0.010875</td>\n",
       "    </tr>\n",
       "    <tr>\n",
       "      <th>http://www.wpacouncil.org/user/1890</th>\n",
       "      <td>133.0</td>\n",
       "      <td>719</td>\n",
       "      <td>0.184979</td>\n",
       "      <td>Normal</td>\n",
       "      <td>0.184979</td>\n",
       "      <td>0.205079</td>\n",
       "      <td>0.017917</td>\n",
       "    </tr>\n",
       "    <tr>\n",
       "      <th>http://www.wunderground.com/cgi-bin/findweather/getForecast?setpref=00000114015WS&amp;value=IKOSEZEL2</th>\n",
       "      <td>420.0</td>\n",
       "      <td>507</td>\n",
       "      <td>0.828402</td>\n",
       "      <td></td>\n",
       "      <td>0.828402</td>\n",
       "      <td>1.758843</td>\n",
       "      <td>0.080579</td>\n",
       "    </tr>\n",
       "    <tr>\n",
       "      <th>http://www.yatego.com/,1,2,q,janosch,kinderbett</th>\n",
       "      <td>255.0</td>\n",
       "      <td>719</td>\n",
       "      <td>0.354659</td>\n",
       "      <td>Normal</td>\n",
       "      <td>0.354659</td>\n",
       "      <td>0.438290</td>\n",
       "      <td>0.025885</td>\n",
       "    </tr>\n",
       "    <tr>\n",
       "      <th>http://www.yatego.com/elektronisches-spielzeug/ferngesteuerte-autos/29-17-02,3,g,1,1,q,rc</th>\n",
       "      <td>68.0</td>\n",
       "      <td>719</td>\n",
       "      <td>0.094576</td>\n",
       "      <td>Rare Update</td>\n",
       "      <td>0.094576</td>\n",
       "      <td>0.099974</td>\n",
       "      <td>0.011766</td>\n",
       "    </tr>\n",
       "    <tr>\n",
       "      <th>http://www.yatego.com/psi,campingtoilette_1900</th>\n",
       "      <td>230.0</td>\n",
       "      <td>719</td>\n",
       "      <td>0.319889</td>\n",
       "      <td>Normal</td>\n",
       "      <td>0.319889</td>\n",
       "      <td>0.385867</td>\n",
       "      <td>0.025177</td>\n",
       "    </tr>\n",
       "    <tr>\n",
       "      <th>http://www.yatego.com/sqa,trampolin,hudora</th>\n",
       "      <td>410.0</td>\n",
       "      <td>719</td>\n",
       "      <td>0.570236</td>\n",
       "      <td>Normal</td>\n",
       "      <td>0.570236</td>\n",
       "      <td>0.844293</td>\n",
       "      <td>0.046184</td>\n",
       "    </tr>\n",
       "    <tr>\n",
       "      <th>http://www.ydi.or.kr/ht_bbs/viewbody.html?ht_div=ydinews&amp;page=1&amp;article_no=98&amp;uid=1075&amp;keyfield=&amp;key=&amp;from=</th>\n",
       "      <td>4.0</td>\n",
       "      <td>104</td>\n",
       "      <td>0.038462</td>\n",
       "      <td></td>\n",
       "      <td>0.038462</td>\n",
       "      <td>0.043803</td>\n",
       "      <td>0.025271</td>\n",
       "    </tr>\n",
       "    <tr>\n",
       "      <th>http://www.yrural.com/spa/item/ART01593.html</th>\n",
       "      <td>3.0</td>\n",
       "      <td>7</td>\n",
       "      <td>0.428571</td>\n",
       "      <td>Few Crawls</td>\n",
       "      <td>0.428571</td>\n",
       "      <td>0.575364</td>\n",
       "      <td>0.402661</td>\n",
       "    </tr>\n",
       "    <tr>\n",
       "      <th>http://www.yurvopros.ru/</th>\n",
       "      <td>488.0</td>\n",
       "      <td>655</td>\n",
       "      <td>0.745038</td>\n",
       "      <td></td>\n",
       "      <td>0.745038</td>\n",
       "      <td>1.365177</td>\n",
       "      <td>0.070326</td>\n",
       "    </tr>\n",
       "    <tr>\n",
       "      <th>http://www.zap.co.il/99.asp?Filter=keyword&amp;sog=E-Speaker</th>\n",
       "      <td>647.0</td>\n",
       "      <td>719</td>\n",
       "      <td>0.899861</td>\n",
       "      <td>Normal</td>\n",
       "      <td>0.899861</td>\n",
       "      <td>2.295665</td>\n",
       "      <td>0.112799</td>\n",
       "    </tr>\n",
       "    <tr>\n",
       "      <th>http://www.zappos.com/noauth/redirect.cgi?q=vz11283222z</th>\n",
       "      <td>4.0</td>\n",
       "      <td>719</td>\n",
       "      <td>0.005563</td>\n",
       "      <td>Rare Update</td>\n",
       "      <td>0.005563</td>\n",
       "      <td>0.006270</td>\n",
       "      <td>0.003353</td>\n",
       "    </tr>\n",
       "    <tr>\n",
       "      <th>http://www.zjrc.com/jobs/no_593803.shtml</th>\n",
       "      <td>0.0</td>\n",
       "      <td>268</td>\n",
       "      <td>0.000000</td>\n",
       "      <td></td>\n",
       "      <td>0.000000</td>\n",
       "      <td>0.001860</td>\n",
       "      <td>0.003127</td>\n",
       "    </tr>\n",
       "    <tr>\n",
       "      <th>http://www11.nrk.no/urort/user/biography.aspx?id=48793</th>\n",
       "      <td>479.0</td>\n",
       "      <td>719</td>\n",
       "      <td>0.666203</td>\n",
       "      <td>Normal</td>\n",
       "      <td>0.666203</td>\n",
       "      <td>1.096531</td>\n",
       "      <td>0.050957</td>\n",
       "    </tr>\n",
       "    <tr>\n",
       "      <th>http://www2.portoalegre.rs.gov.br/acessibilidade_smarty/default.php?projeto_sec=144&amp;p_secao=3&amp;pg=173&amp;p_reg=65021</th>\n",
       "      <td>225.0</td>\n",
       "      <td>719</td>\n",
       "      <td>0.312935</td>\n",
       "      <td>Normal</td>\n",
       "      <td>0.312935</td>\n",
       "      <td>0.375704</td>\n",
       "      <td>0.024218</td>\n",
       "    </tr>\n",
       "    <tr>\n",
       "      <th>http://www2.portoalegre.rs.gov.br/acessibilidade_smarty/default.php?projeto_sec=144&amp;p_secao=3&amp;pg=2241&amp;p_reg=52700</th>\n",
       "      <td>267.0</td>\n",
       "      <td>719</td>\n",
       "      <td>0.371349</td>\n",
       "      <td>Normal</td>\n",
       "      <td>0.371349</td>\n",
       "      <td>0.464463</td>\n",
       "      <td>0.027758</td>\n",
       "    </tr>\n",
       "    <tr>\n",
       "      <th>http://www2.serbiancafe.com/kuvar/headlines.php</th>\n",
       "      <td>14.0</td>\n",
       "      <td>243</td>\n",
       "      <td>0.057613</td>\n",
       "      <td></td>\n",
       "      <td>0.057613</td>\n",
       "      <td>0.061265</td>\n",
       "      <td>0.015788</td>\n",
       "    </tr>\n",
       "    <tr>\n",
       "      <th>http://www2.serbiancafe.com/lat/diskusije/mesg/15/008947405.html?5</th>\n",
       "      <td>142.0</td>\n",
       "      <td>177</td>\n",
       "      <td>0.802260</td>\n",
       "      <td></td>\n",
       "      <td>0.802260</td>\n",
       "      <td>1.612251</td>\n",
       "      <td>0.162978</td>\n",
       "    </tr>\n",
       "    <tr>\n",
       "      <th>http://xcaretnights.com/zencart/index.php?main_page=index&amp;cPath=89</th>\n",
       "      <td>108.0</td>\n",
       "      <td>115</td>\n",
       "      <td>0.939130</td>\n",
       "      <td></td>\n",
       "      <td>0.939130</td>\n",
       "      <td>2.738687</td>\n",
       "      <td>0.332290</td>\n",
       "    </tr>\n",
       "    <tr>\n",
       "      <th>http://yaplog.jp/liveforever73/daily/200702/05/</th>\n",
       "      <td>0.0</td>\n",
       "      <td>304</td>\n",
       "      <td>0.000000</td>\n",
       "      <td></td>\n",
       "      <td>0.000000</td>\n",
       "      <td>0.001641</td>\n",
       "      <td>0.003109</td>\n",
       "    </tr>\n",
       "    <tr>\n",
       "      <th>http://yayapet.net/bbs/zboard.php?id=staff&amp;page=1&amp;sn1=&amp;divpage=1&amp;sn=off&amp;ss=on&amp;sc=on&amp;select_arrange=name&amp;desc=desc&amp;no=588</th>\n",
       "      <td>6.0</td>\n",
       "      <td>69</td>\n",
       "      <td>0.086957</td>\n",
       "      <td></td>\n",
       "      <td>0.086957</td>\n",
       "      <td>0.097455</td>\n",
       "      <td>0.040480</td>\n",
       "    </tr>\n",
       "    <tr>\n",
       "      <th>http://youtube.com/watch?v=0ARv0lEwMB8</th>\n",
       "      <td>300.0</td>\n",
       "      <td>719</td>\n",
       "      <td>0.417246</td>\n",
       "      <td>Normal</td>\n",
       "      <td>0.417246</td>\n",
       "      <td>0.540188</td>\n",
       "      <td>0.028701</td>\n",
       "    </tr>\n",
       "    <tr>\n",
       "      <th>http://ytglasses.cn.alibaba.com/athena/offerlist/ytglasses-sale-false.html?showType=direct&amp;</th>\n",
       "      <td>26.0</td>\n",
       "      <td>719</td>\n",
       "      <td>0.036161</td>\n",
       "      <td>Rare Update</td>\n",
       "      <td>0.036161</td>\n",
       "      <td>0.037500</td>\n",
       "      <td>0.007756</td>\n",
       "    </tr>\n",
       "    <tr>\n",
       "      <th>http://zh.blinklist.com/tag/challenge/</th>\n",
       "      <td>243.0</td>\n",
       "      <td>321</td>\n",
       "      <td>0.757009</td>\n",
       "      <td></td>\n",
       "      <td>0.757009</td>\n",
       "      <td>1.411453</td>\n",
       "      <td>0.087749</td>\n",
       "    </tr>\n",
       "    <tr>\n",
       "      <th>https://ideotrope.org/nodes/10883</th>\n",
       "      <td>596.0</td>\n",
       "      <td>719</td>\n",
       "      <td>0.828929</td>\n",
       "      <td>Normal</td>\n",
       "      <td>0.828929</td>\n",
       "      <td>1.763010</td>\n",
       "      <td>0.076894</td>\n",
       "    </tr>\n",
       "    <tr>\n",
       "      <th>https://www.djogos.scml.pt/web/JogarVerApostas/</th>\n",
       "      <td>103.0</td>\n",
       "      <td>192</td>\n",
       "      <td>0.536458</td>\n",
       "      <td></td>\n",
       "      <td>0.536458</td>\n",
       "      <td>0.768452</td>\n",
       "      <td>0.075187</td>\n",
       "    </tr>\n",
       "    <tr>\n",
       "      <th>https://www.northwestcollege.org/tr/index.cfm</th>\n",
       "      <td>331.0</td>\n",
       "      <td>719</td>\n",
       "      <td>0.460362</td>\n",
       "      <td>Normal</td>\n",
       "      <td>0.460362</td>\n",
       "      <td>0.616958</td>\n",
       "      <td>0.032301</td>\n",
       "    </tr>\n",
       "  </tbody>\n",
       "</table>\n",
       "<p>1000 rows × 7 columns</p>\n",
       "</div>"
      ],
      "text/plain": [
       "                                                    number of updates  \\\n",
       "url                                                                     \n",
       "http://0968797090.blinklist.com/tag/%E5%8F%B0%E...                0.0   \n",
       "http://202.155.15.208/koran_detail.asp?id=28329...               27.0   \n",
       "http://5eg.net/gallery/thumbnails.php?album=las...               13.0   \n",
       "http://5eg.net/gallery/thumbnails.php?album=las...               13.0   \n",
       "http://86door.com.cn/                                             5.0   \n",
       "http://86door.com.cn/GY/Index.asp?catid=492&pag...                3.0   \n",
       "http://a.hatena.ne.jp/Syako/simple                               76.0   \n",
       "http://a.hatena.ne.jp/inouetom/image?gid=null                   256.0   \n",
       "http://a.hatena.ne.jp/munehiro/simple                            88.0   \n",
       "http://a.hatena.ne.jp/yamagen2001/                                3.0   \n",
       "http://aardvark.woes.co.za/gedigte/vertoon/3567...              202.0   \n",
       "http://aardvark.woes.co.za/happies/vertoon/2337...              118.0   \n",
       "http://abclocal.go.com/wls/story?section=News&i...              385.0   \n",
       "http://afaceri.agendabacau.ro/director/vector_t...               13.0   \n",
       "http://aforismi.wordpress.com/2006/12/19/le-ali...                3.0   \n",
       "http://aforismi.wordpress.com/about/                              0.0   \n",
       "http://aforismi.wordpress.com/tag/educazione/                     3.0   \n",
       "http://aforismi.wordpress.com/tag/saggezza/                       0.0   \n",
       "http://africa.oneworld.net/article/rssheadlines...               27.0   \n",
       "http://alemler.com/sepet_ekle.asp?urun_id=12380...                1.0   \n",
       "http://all-hotels.ru/moscow/sovietsky/index.ru....              240.0   \n",
       "http://allegro.pl/show_user.php?uid=3334814                     112.0   \n",
       "http://andipantz.vox.com/library/videos/tags/cr...                1.0   \n",
       "http://art.ridne.net/dir/node-23710.html                        204.0   \n",
       "http://azmani80.pa.promovacances.fr/M01/theme.htm                52.0   \n",
       "http://barrie.kijiji.ca/c-buy-and-sell-sports-b...              185.0   \n",
       "http://bayreuth.eins.de/category/list/community...               17.0   \n",
       "http://bbs.chetx.com/soufun_forum/post/frm_show...               11.0   \n",
       "http://bbs.csai.cn/artc_api.asp?n=26268                           6.0   \n",
       "http://bbs.phoenixtv.com/fhbbs/misc.php?action=...                2.0   \n",
       "...                                                               ...   \n",
       "http://www.woerterbuch.info/?query=zusammengeh%...              516.0   \n",
       "http://www.woes.co.za/gedigte/vertoon/6855_Kers...              186.0   \n",
       "http://www.wondermesh.co.uk/component/option,co...              476.0   \n",
       "http://www.wpacouncil.org/aggregator?page=13                     55.0   \n",
       "http://www.wpacouncil.org/user/1890                             133.0   \n",
       "http://www.wunderground.com/cgi-bin/findweather...              420.0   \n",
       "http://www.yatego.com/,1,2,q,janosch,kinderbett                 255.0   \n",
       "http://www.yatego.com/elektronisches-spielzeug/...               68.0   \n",
       "http://www.yatego.com/psi,campingtoilette_1900                  230.0   \n",
       "http://www.yatego.com/sqa,trampolin,hudora                      410.0   \n",
       "http://www.ydi.or.kr/ht_bbs/viewbody.html?ht_di...                4.0   \n",
       "http://www.yrural.com/spa/item/ART01593.html                      3.0   \n",
       "http://www.yurvopros.ru/                                        488.0   \n",
       "http://www.zap.co.il/99.asp?Filter=keyword&sog=...              647.0   \n",
       "http://www.zappos.com/noauth/redirect.cgi?q=vz1...                4.0   \n",
       "http://www.zjrc.com/jobs/no_593803.shtml                          0.0   \n",
       "http://www11.nrk.no/urort/user/biography.aspx?i...              479.0   \n",
       "http://www2.portoalegre.rs.gov.br/acessibilidad...              225.0   \n",
       "http://www2.portoalegre.rs.gov.br/acessibilidad...              267.0   \n",
       "http://www2.serbiancafe.com/kuvar/headlines.php                  14.0   \n",
       "http://www2.serbiancafe.com/lat/diskusije/mesg/...              142.0   \n",
       "http://xcaretnights.com/zencart/index.php?main_...              108.0   \n",
       "http://yaplog.jp/liveforever73/daily/200702/05/                   0.0   \n",
       "http://yayapet.net/bbs/zboard.php?id=staff&page...                6.0   \n",
       "http://youtube.com/watch?v=0ARv0lEwMB8                          300.0   \n",
       "http://ytglasses.cn.alibaba.com/athena/offerlis...               26.0   \n",
       "http://zh.blinklist.com/tag/challenge/                          243.0   \n",
       "https://ideotrope.org/nodes/10883                               596.0   \n",
       "https://www.djogos.scml.pt/web/JogarVerApostas/                 103.0   \n",
       "https://www.northwestcollege.org/tr/index.cfm                   331.0   \n",
       "\n",
       "                                                    number of crawls  \\\n",
       "url                                                                    \n",
       "http://0968797090.blinklist.com/tag/%E5%8F%B0%E...               245   \n",
       "http://202.155.15.208/koran_detail.asp?id=28329...               217   \n",
       "http://5eg.net/gallery/thumbnails.php?album=las...               378   \n",
       "http://5eg.net/gallery/thumbnails.php?album=las...               378   \n",
       "http://86door.com.cn/                                            268   \n",
       "http://86door.com.cn/GY/Index.asp?catid=492&pag...               312   \n",
       "http://a.hatena.ne.jp/Syako/simple                               707   \n",
       "http://a.hatena.ne.jp/inouetom/image?gid=null                    707   \n",
       "http://a.hatena.ne.jp/munehiro/simple                            707   \n",
       "http://a.hatena.ne.jp/yamagen2001/                               707   \n",
       "http://aardvark.woes.co.za/gedigte/vertoon/3567...               719   \n",
       "http://aardvark.woes.co.za/happies/vertoon/2337...               719   \n",
       "http://abclocal.go.com/wls/story?section=News&i...               418   \n",
       "http://afaceri.agendabacau.ro/director/vector_t...               109   \n",
       "http://aforismi.wordpress.com/2006/12/19/le-ali...               543   \n",
       "http://aforismi.wordpress.com/about/                             420   \n",
       "http://aforismi.wordpress.com/tag/educazione/                    122   \n",
       "http://aforismi.wordpress.com/tag/saggezza/                      122   \n",
       "http://africa.oneworld.net/article/rssheadlines...               369   \n",
       "http://alemler.com/sepet_ekle.asp?urun_id=12380...               439   \n",
       "http://all-hotels.ru/moscow/sovietsky/index.ru....               381   \n",
       "http://allegro.pl/show_user.php?uid=3334814                      478   \n",
       "http://andipantz.vox.com/library/videos/tags/cr...               428   \n",
       "http://art.ridne.net/dir/node-23710.html                         719   \n",
       "http://azmani80.pa.promovacances.fr/M01/theme.htm                652   \n",
       "http://barrie.kijiji.ca/c-buy-and-sell-sports-b...               719   \n",
       "http://bayreuth.eins.de/category/list/community...               612   \n",
       "http://bbs.chetx.com/soufun_forum/post/frm_show...               391   \n",
       "http://bbs.csai.cn/artc_api.asp?n=26268                          366   \n",
       "http://bbs.phoenixtv.com/fhbbs/misc.php?action=...               210   \n",
       "...                                                              ...   \n",
       "http://www.woerterbuch.info/?query=zusammengeh%...               719   \n",
       "http://www.woes.co.za/gedigte/vertoon/6855_Kers...               719   \n",
       "http://www.wondermesh.co.uk/component/option,co...               719   \n",
       "http://www.wpacouncil.org/aggregator?page=13                     719   \n",
       "http://www.wpacouncil.org/user/1890                              719   \n",
       "http://www.wunderground.com/cgi-bin/findweather...               507   \n",
       "http://www.yatego.com/,1,2,q,janosch,kinderbett                  719   \n",
       "http://www.yatego.com/elektronisches-spielzeug/...               719   \n",
       "http://www.yatego.com/psi,campingtoilette_1900                   719   \n",
       "http://www.yatego.com/sqa,trampolin,hudora                       719   \n",
       "http://www.ydi.or.kr/ht_bbs/viewbody.html?ht_di...               104   \n",
       "http://www.yrural.com/spa/item/ART01593.html                       7   \n",
       "http://www.yurvopros.ru/                                         655   \n",
       "http://www.zap.co.il/99.asp?Filter=keyword&sog=...               719   \n",
       "http://www.zappos.com/noauth/redirect.cgi?q=vz1...               719   \n",
       "http://www.zjrc.com/jobs/no_593803.shtml                         268   \n",
       "http://www11.nrk.no/urort/user/biography.aspx?i...               719   \n",
       "http://www2.portoalegre.rs.gov.br/acessibilidad...               719   \n",
       "http://www2.portoalegre.rs.gov.br/acessibilidad...               719   \n",
       "http://www2.serbiancafe.com/kuvar/headlines.php                  243   \n",
       "http://www2.serbiancafe.com/lat/diskusije/mesg/...               177   \n",
       "http://xcaretnights.com/zencart/index.php?main_...               115   \n",
       "http://yaplog.jp/liveforever73/daily/200702/05/                  304   \n",
       "http://yayapet.net/bbs/zboard.php?id=staff&page...                69   \n",
       "http://youtube.com/watch?v=0ARv0lEwMB8                           719   \n",
       "http://ytglasses.cn.alibaba.com/athena/offerlis...               719   \n",
       "http://zh.blinklist.com/tag/challenge/                           321   \n",
       "https://ideotrope.org/nodes/10883                                719   \n",
       "https://www.djogos.scml.pt/web/JogarVerApostas/                  192   \n",
       "https://www.northwestcollege.org/tr/index.cfm                    719   \n",
       "\n",
       "                                                    proportion of updates  \\\n",
       "url                                                                         \n",
       "http://0968797090.blinklist.com/tag/%E5%8F%B0%E...               0.000000   \n",
       "http://202.155.15.208/koran_detail.asp?id=28329...               0.124424   \n",
       "http://5eg.net/gallery/thumbnails.php?album=las...               0.034392   \n",
       "http://5eg.net/gallery/thumbnails.php?album=las...               0.034392   \n",
       "http://86door.com.cn/                                            0.018657   \n",
       "http://86door.com.cn/GY/Index.asp?catid=492&pag...               0.009615   \n",
       "http://a.hatena.ne.jp/Syako/simple                               0.107496   \n",
       "http://a.hatena.ne.jp/inouetom/image?gid=null                    0.362093   \n",
       "http://a.hatena.ne.jp/munehiro/simple                            0.124470   \n",
       "http://a.hatena.ne.jp/yamagen2001/                               0.004243   \n",
       "http://aardvark.woes.co.za/gedigte/vertoon/3567...               0.280946   \n",
       "http://aardvark.woes.co.za/happies/vertoon/2337...               0.164117   \n",
       "http://abclocal.go.com/wls/story?section=News&i...               0.921053   \n",
       "http://afaceri.agendabacau.ro/director/vector_t...               0.119266   \n",
       "http://aforismi.wordpress.com/2006/12/19/le-ali...               0.005525   \n",
       "http://aforismi.wordpress.com/about/                             0.000000   \n",
       "http://aforismi.wordpress.com/tag/educazione/                    0.024590   \n",
       "http://aforismi.wordpress.com/tag/saggezza/                      0.000000   \n",
       "http://africa.oneworld.net/article/rssheadlines...               0.073171   \n",
       "http://alemler.com/sepet_ekle.asp?urun_id=12380...               0.002278   \n",
       "http://all-hotels.ru/moscow/sovietsky/index.ru....               0.629921   \n",
       "http://allegro.pl/show_user.php?uid=3334814                      0.234310   \n",
       "http://andipantz.vox.com/library/videos/tags/cr...               0.002336   \n",
       "http://art.ridne.net/dir/node-23710.html                         0.283727   \n",
       "http://azmani80.pa.promovacances.fr/M01/theme.htm                0.079755   \n",
       "http://barrie.kijiji.ca/c-buy-and-sell-sports-b...               0.257302   \n",
       "http://bayreuth.eins.de/category/list/community...               0.027778   \n",
       "http://bbs.chetx.com/soufun_forum/post/frm_show...               0.028133   \n",
       "http://bbs.csai.cn/artc_api.asp?n=26268                          0.016393   \n",
       "http://bbs.phoenixtv.com/fhbbs/misc.php?action=...               0.009524   \n",
       "...                                                                   ...   \n",
       "http://www.woerterbuch.info/?query=zusammengeh%...               0.717663   \n",
       "http://www.woes.co.za/gedigte/vertoon/6855_Kers...               0.258693   \n",
       "http://www.wondermesh.co.uk/component/option,co...               0.662031   \n",
       "http://www.wpacouncil.org/aggregator?page=13                     0.076495   \n",
       "http://www.wpacouncil.org/user/1890                              0.184979   \n",
       "http://www.wunderground.com/cgi-bin/findweather...               0.828402   \n",
       "http://www.yatego.com/,1,2,q,janosch,kinderbett                  0.354659   \n",
       "http://www.yatego.com/elektronisches-spielzeug/...               0.094576   \n",
       "http://www.yatego.com/psi,campingtoilette_1900                   0.319889   \n",
       "http://www.yatego.com/sqa,trampolin,hudora                       0.570236   \n",
       "http://www.ydi.or.kr/ht_bbs/viewbody.html?ht_di...               0.038462   \n",
       "http://www.yrural.com/spa/item/ART01593.html                     0.428571   \n",
       "http://www.yurvopros.ru/                                         0.745038   \n",
       "http://www.zap.co.il/99.asp?Filter=keyword&sog=...               0.899861   \n",
       "http://www.zappos.com/noauth/redirect.cgi?q=vz1...               0.005563   \n",
       "http://www.zjrc.com/jobs/no_593803.shtml                         0.000000   \n",
       "http://www11.nrk.no/urort/user/biography.aspx?i...               0.666203   \n",
       "http://www2.portoalegre.rs.gov.br/acessibilidad...               0.312935   \n",
       "http://www2.portoalegre.rs.gov.br/acessibilidad...               0.371349   \n",
       "http://www2.serbiancafe.com/kuvar/headlines.php                  0.057613   \n",
       "http://www2.serbiancafe.com/lat/diskusije/mesg/...               0.802260   \n",
       "http://xcaretnights.com/zencart/index.php?main_...               0.939130   \n",
       "http://yaplog.jp/liveforever73/daily/200702/05/                  0.000000   \n",
       "http://yayapet.net/bbs/zboard.php?id=staff&page...               0.086957   \n",
       "http://youtube.com/watch?v=0ARv0lEwMB8                           0.417246   \n",
       "http://ytglasses.cn.alibaba.com/athena/offerlis...               0.036161   \n",
       "http://zh.blinklist.com/tag/challenge/                           0.757009   \n",
       "https://ideotrope.org/nodes/10883                                0.828929   \n",
       "https://www.djogos.scml.pt/web/JogarVerApostas/                  0.536458   \n",
       "https://www.northwestcollege.org/tr/index.cfm                    0.460362   \n",
       "\n",
       "                                                           Desc  simple mle  \\\n",
       "url                                                                           \n",
       "http://0968797090.blinklist.com/tag/%E5%8F%B0%E...                 0.000000   \n",
       "http://202.155.15.208/koran_detail.asp?id=28329...                 0.124424   \n",
       "http://5eg.net/gallery/thumbnails.php?album=las...                 0.034392   \n",
       "http://5eg.net/gallery/thumbnails.php?album=las...                 0.034392   \n",
       "http://86door.com.cn/                                              0.018657   \n",
       "http://86door.com.cn/GY/Index.asp?catid=492&pag...                 0.009615   \n",
       "http://a.hatena.ne.jp/Syako/simple                       Normal    0.107496   \n",
       "http://a.hatena.ne.jp/inouetom/image?gid=null            Normal    0.362093   \n",
       "http://a.hatena.ne.jp/munehiro/simple                    Normal    0.124470   \n",
       "http://a.hatena.ne.jp/yamagen2001/                  Rare Update    0.004243   \n",
       "http://aardvark.woes.co.za/gedigte/vertoon/3567...       Normal    0.280946   \n",
       "http://aardvark.woes.co.za/happies/vertoon/2337...       Normal    0.164117   \n",
       "http://abclocal.go.com/wls/story?section=News&i...                 0.921053   \n",
       "http://afaceri.agendabacau.ro/director/vector_t...                 0.119266   \n",
       "http://aforismi.wordpress.com/2006/12/19/le-ali...                 0.005525   \n",
       "http://aforismi.wordpress.com/about/                               0.000000   \n",
       "http://aforismi.wordpress.com/tag/educazione/                      0.024590   \n",
       "http://aforismi.wordpress.com/tag/saggezza/                        0.000000   \n",
       "http://africa.oneworld.net/article/rssheadlines...                 0.073171   \n",
       "http://alemler.com/sepet_ekle.asp?urun_id=12380...                 0.002278   \n",
       "http://all-hotels.ru/moscow/sovietsky/index.ru....                 0.629921   \n",
       "http://allegro.pl/show_user.php?uid=3334814                        0.234310   \n",
       "http://andipantz.vox.com/library/videos/tags/cr...                 0.002336   \n",
       "http://art.ridne.net/dir/node-23710.html                 Normal    0.283727   \n",
       "http://azmani80.pa.promovacances.fr/M01/theme.htm                  0.079755   \n",
       "http://barrie.kijiji.ca/c-buy-and-sell-sports-b...       Normal    0.257302   \n",
       "http://bayreuth.eins.de/category/list/community...                 0.027778   \n",
       "http://bbs.chetx.com/soufun_forum/post/frm_show...                 0.028133   \n",
       "http://bbs.csai.cn/artc_api.asp?n=26268                            0.016393   \n",
       "http://bbs.phoenixtv.com/fhbbs/misc.php?action=...                 0.009524   \n",
       "...                                                         ...         ...   \n",
       "http://www.woerterbuch.info/?query=zusammengeh%...       Normal    0.717663   \n",
       "http://www.woes.co.za/gedigte/vertoon/6855_Kers...       Normal    0.258693   \n",
       "http://www.wondermesh.co.uk/component/option,co...       Normal    0.662031   \n",
       "http://www.wpacouncil.org/aggregator?page=13        Rare Update    0.076495   \n",
       "http://www.wpacouncil.org/user/1890                      Normal    0.184979   \n",
       "http://www.wunderground.com/cgi-bin/findweather...                 0.828402   \n",
       "http://www.yatego.com/,1,2,q,janosch,kinderbett          Normal    0.354659   \n",
       "http://www.yatego.com/elektronisches-spielzeug/...  Rare Update    0.094576   \n",
       "http://www.yatego.com/psi,campingtoilette_1900           Normal    0.319889   \n",
       "http://www.yatego.com/sqa,trampolin,hudora               Normal    0.570236   \n",
       "http://www.ydi.or.kr/ht_bbs/viewbody.html?ht_di...                 0.038462   \n",
       "http://www.yrural.com/spa/item/ART01593.html         Few Crawls    0.428571   \n",
       "http://www.yurvopros.ru/                                           0.745038   \n",
       "http://www.zap.co.il/99.asp?Filter=keyword&sog=...       Normal    0.899861   \n",
       "http://www.zappos.com/noauth/redirect.cgi?q=vz1...  Rare Update    0.005563   \n",
       "http://www.zjrc.com/jobs/no_593803.shtml                           0.000000   \n",
       "http://www11.nrk.no/urort/user/biography.aspx?i...       Normal    0.666203   \n",
       "http://www2.portoalegre.rs.gov.br/acessibilidad...       Normal    0.312935   \n",
       "http://www2.portoalegre.rs.gov.br/acessibilidad...       Normal    0.371349   \n",
       "http://www2.serbiancafe.com/kuvar/headlines.php                    0.057613   \n",
       "http://www2.serbiancafe.com/lat/diskusije/mesg/...                 0.802260   \n",
       "http://xcaretnights.com/zencart/index.php?main_...                 0.939130   \n",
       "http://yaplog.jp/liveforever73/daily/200702/05/                    0.000000   \n",
       "http://yayapet.net/bbs/zboard.php?id=staff&page...                 0.086957   \n",
       "http://youtube.com/watch?v=0ARv0lEwMB8                   Normal    0.417246   \n",
       "http://ytglasses.cn.alibaba.com/athena/offerlis...  Rare Update    0.036161   \n",
       "http://zh.blinklist.com/tag/challenge/                             0.757009   \n",
       "https://ideotrope.org/nodes/10883                        Normal    0.828929   \n",
       "https://www.djogos.scml.pt/web/JogarVerApostas/                    0.536458   \n",
       "https://www.northwestcollege.org/tr/index.cfm            Normal    0.460362   \n",
       "\n",
       "                                                    modified mle      rmse  \n",
       "url                                                                         \n",
       "http://0968797090.blinklist.com/tag/%E5%8F%B0%E...      0.002035  0.003658  \n",
       "http://202.155.15.208/koran_detail.asp?id=28329...      0.134843  0.028709  \n",
       "http://5eg.net/gallery/thumbnails.php?album=las...      0.036270  0.010007  \n",
       "http://5eg.net/gallery/thumbnails.php?album=las...      0.036270  0.010537  \n",
       "http://86door.com.cn/                                   0.020658  0.008981  \n",
       "http://86door.com.cn/GY/Index.asp?catid=492&pag...      0.011245  0.005823  \n",
       "http://a.hatena.ne.jp/Syako/simple                      0.114346  0.012630  \n",
       "http://a.hatena.ne.jp/inouetom/image?gid=null           0.449869  0.028165  \n",
       "http://a.hatena.ne.jp/munehiro/simple                   0.133531  0.015195  \n",
       "http://a.hatena.ne.jp/yamagen2001/                      0.004956  0.002801  \n",
       "http://aardvark.woes.co.za/gedigte/vertoon/3567...      0.330242  0.021546  \n",
       "http://aardvark.woes.co.za/happies/vertoon/2337...      0.179825  0.018165  \n",
       "http://abclocal.go.com/wls/story?section=News&i...      2.526325  0.161906  \n",
       "http://afaceri.agendabacau.ro/director/vector_t...      0.130937  0.039209  \n",
       "http://aforismi.wordpress.com/2006/12/19/le-ali...      0.006455  0.003659  \n",
       "http://aforismi.wordpress.com/about/                    0.001188  0.002078  \n",
       "http://aforismi.wordpress.com/tag/educazione/           0.028868  0.017769  \n",
       "http://aforismi.wordpress.com/tag/saggezza/             0.004073  0.007541  \n",
       "http://africa.oneworld.net/article/rssheadlines...      0.077231  0.014280  \n",
       "http://alemler.com/sepet_ekle.asp?urun_id=12380...      0.003415  0.003275  \n",
       "http://all-hotels.ru/moscow/sovietsky/index.ru....      0.993121  0.073627  \n",
       "http://allegro.pl/show_user.php?uid=3334814             0.267702  0.024846  \n",
       "http://andipantz.vox.com/library/videos/tags/cr...      0.003503  0.003129  \n",
       "http://art.ridne.net/dir/node-23710.html                0.334114  0.022873  \n",
       "http://azmani80.pa.promovacances.fr/M01/theme.htm       0.083814  0.011147  \n",
       "http://barrie.kijiji.ca/c-buy-and-sell-sports-b...      0.297919  0.022618  \n",
       "http://bayreuth.eins.de/category/list/community...      0.028964  0.006569  \n",
       "http://bbs.chetx.com/soufun_forum/post/frm_show...      0.029776  0.008972  \n",
       "http://bbs.csai.cn/artc_api.asp?n=26268                 0.017870  0.007053  \n",
       "http://bbs.phoenixtv.com/fhbbs/misc.php?action=...      0.011919  0.008471  \n",
       "...                                                          ...       ...  \n",
       "http://www.woerterbuch.info/?query=zusammengeh%...      1.263585  0.050540  \n",
       "http://www.woes.co.za/gedigte/vertoon/6855_Kers...      0.299792  0.023704  \n",
       "http://www.wondermesh.co.uk/component/option,co...      1.084134  0.051008  \n",
       "http://www.wpacouncil.org/aggregator?page=13            0.080216  0.010875  \n",
       "http://www.wpacouncil.org/user/1890                     0.205079  0.017917  \n",
       "http://www.wunderground.com/cgi-bin/findweather...      1.758843  0.080579  \n",
       "http://www.yatego.com/,1,2,q,janosch,kinderbett         0.438290  0.025885  \n",
       "http://www.yatego.com/elektronisches-spielzeug/...      0.099974  0.011766  \n",
       "http://www.yatego.com/psi,campingtoilette_1900          0.385867  0.025177  \n",
       "http://www.yatego.com/sqa,trampolin,hudora              0.844293  0.046184  \n",
       "http://www.ydi.or.kr/ht_bbs/viewbody.html?ht_di...      0.043803  0.025271  \n",
       "http://www.yrural.com/spa/item/ART01593.html            0.575364  0.402661  \n",
       "http://www.yurvopros.ru/                                1.365177  0.070326  \n",
       "http://www.zap.co.il/99.asp?Filter=keyword&sog=...      2.295665  0.112799  \n",
       "http://www.zappos.com/noauth/redirect.cgi?q=vz1...      0.006270  0.003353  \n",
       "http://www.zjrc.com/jobs/no_593803.shtml                0.001860  0.003127  \n",
       "http://www11.nrk.no/urort/user/biography.aspx?i...      1.096531  0.050957  \n",
       "http://www2.portoalegre.rs.gov.br/acessibilidad...      0.375704  0.024218  \n",
       "http://www2.portoalegre.rs.gov.br/acessibilidad...      0.464463  0.027758  \n",
       "http://www2.serbiancafe.com/kuvar/headlines.php         0.061265  0.015788  \n",
       "http://www2.serbiancafe.com/lat/diskusije/mesg/...      1.612251  0.162978  \n",
       "http://xcaretnights.com/zencart/index.php?main_...      2.738687  0.332290  \n",
       "http://yaplog.jp/liveforever73/daily/200702/05/         0.001641  0.003109  \n",
       "http://yayapet.net/bbs/zboard.php?id=staff&page...      0.097455  0.040480  \n",
       "http://youtube.com/watch?v=0ARv0lEwMB8                  0.540188  0.028701  \n",
       "http://ytglasses.cn.alibaba.com/athena/offerlis...      0.037500  0.007756  \n",
       "http://zh.blinklist.com/tag/challenge/                  1.411453  0.087749  \n",
       "https://ideotrope.org/nodes/10883                       1.763010  0.076894  \n",
       "https://www.djogos.scml.pt/web/JogarVerApostas/         0.768452  0.075187  \n",
       "https://www.northwestcollege.org/tr/index.cfm           0.616958  0.032301  \n",
       "\n",
       "[1000 rows x 7 columns]"
      ]
     },
     "execution_count": 69,
     "metadata": {},
     "output_type": "execute_result"
    }
   ],
   "source": [
    "# After completing estimate_rmse above, estimate the RMSEs for all\n",
    "# the pages here, and add them to crawl_stats as a new column named\n",
    "# 'rmse'.\n",
    "rmse_estimates = []\n",
    "for i in range(len(crawl_stats)):\n",
    "    rmse_estimates = rmse_estimates + [estimate_rmse(crawl_stats.index[i], 100)]\n",
    "\n",
    "crawl_stats['rmse'] = np.array(rmse_estimates)\n",
    "crawl_stats"
   ]
  },
  {
   "cell_type": "code",
   "execution_count": 70,
   "metadata": {
    "collapsed": false,
    "deletable": true,
    "editable": true
   },
   "outputs": [
    {
     "name": "stdout",
     "output_type": "stream",
     "text": [
      "~~~~~~~~~~~~~~~~~~~~~~~~~~~~~~~~~~~~~~~~~~~~~~~~~~~~~~~~~~~~~~~~~~~~~\n",
      "Running tests\n",
      "\n",
      "---------------------------------------------------------------------\n",
      "Test summary\n",
      "    Passed: 1\n",
      "    Failed: 0\n",
      "[ooooooooook] 100.0% passed\n",
      "\n"
     ]
    },
    {
     "data": {
      "application/javascript": [
       "IPython.notebook.save_checkpoint();"
      ],
      "text/plain": [
       "<IPython.core.display.Javascript object>"
      ]
     },
     "metadata": {},
     "output_type": "display_data"
    },
    {
     "data": {
      "application/javascript": [
       "IPython.notebook.save_notebook();"
      ],
      "text/plain": [
       "<IPython.core.display.Javascript object>"
      ]
     },
     "metadata": {},
     "output_type": "display_data"
    },
    {
     "name": "stdout",
     "output_type": "stream",
     "text": [
      "Saving notebook... Saved 'hw5.ipynb'.\n",
      "Backup... 100% complete\n",
      "Backup successful for user: mikaelaklein@berkeley.edu\n",
      "\n"
     ]
    }
   ],
   "source": [
    "_ = ok.grade('q20')\n",
    "_ = ok.backup()"
   ]
  },
  {
   "cell_type": "markdown",
   "metadata": {
    "deletable": true,
    "editable": true
   },
   "source": [
    "---\n",
    "\n",
    "## Question 21\n",
    "Create a visualization to display the RMSEs you computed.  **Then,** create another visualization to see the relationship (across the 1000 pages) between RMSE and the modified MLE."
   ]
  },
  {
   "cell_type": "code",
   "execution_count": 79,
   "metadata": {
    "collapsed": false,
    "deletable": true,
    "editable": true,
    "for_assignment_type": "student",
    "scrolled": true
   },
   "outputs": [
    {
     "data": {
      "text/plain": [
       "<matplotlib.text.Text at 0x112b361d0>"
      ]
     },
     "execution_count": 79,
     "metadata": {},
     "output_type": "execute_result"
    },
    {
     "data": {
      "image/png": "[encoded data removed]",
      "text/plain": [
       "<matplotlib.figure.Figure at 0x112bf1358>"
      ]
     },
     "metadata": {},
     "output_type": "display_data"
    }
   ],
   "source": [
    "plt.hist(crawl_stats['rmse'], bins = 20)\n",
    "plt.xlabel(\"RMSE\")\n",
    "plt.title(\"RMSE Histogram\")"
   ]
  },
  {
   "cell_type": "code",
   "execution_count": 78,
   "metadata": {
    "collapsed": false
   },
   "outputs": [
    {
     "data": {
      "text/plain": [
       "<matplotlib.text.Text at 0x113da7278>"
      ]
     },
     "execution_count": 78,
     "metadata": {},
     "output_type": "execute_result"
    },
    {
     "data": {
      "image/png": "[encoded data removed]",
      "text/plain": [
       "<matplotlib.figure.Figure at 0x114025048>"
      ]
     },
     "metadata": {},
     "output_type": "display_data"
    }
   ],
   "source": [
    "plt.scatter(crawl_stats['modified mle'], crawl_stats['rmse'])\n",
    "plt.xlabel(\"Modified MLE\")\n",
    "plt.ylabel(\"RMSE\")\n",
    "plt.title(\"Modified MLE vs. RMSE\")"
   ]
  },
  {
   "cell_type": "markdown",
   "metadata": {
    "deletable": true,
    "editable": true
   },
   "source": [
    "## Is the model reasonable?\n",
    "All the foregoing work has assumed a particular probability model for website updates: the number of changes follows a Poisson($\\lambda$) distribution and the locations of the changes, given the number of changes, follows a uniform distribution.  Like most models, this is certainly imperfect.  However, it still may produce reasonable estimates. Let's check some of the conditions of the model to see if they are reasonable.\n",
    "\n",
    "Embedded in our model is the assumption that the rate of changes for a page is constant over time.  If we find a strong pattern in the rates of updates, that is evidence against this assumption.  For example, you might guess that changes for certain pages might happen more often at certain times of the day, or on certain days of the week.\n",
    "\n",
    "Before you group by day of week, here are some difficulties presented by the dataset:\n",
    "\n",
    "1. The day of the week is not given.\n",
    "2. The hour of the day is not given.\n",
    "3. We don't know when the checks started.\n",
    "4. When a site had a failed check, the check was just omitted from the dataset, so we don't know when the failed checks happened, only their total count for each page.\n",
    "5. Not all sites are in the same or nearby time zones.\n",
    "\n",
    "Here is what we *do* know:\n",
    "\n",
    "1. Checks for all pages started at the same time, at midnight PST (US Pacific Coast time).\n",
    "2. Checks were attempted every hour for 30 days, and then they stopped.\n",
    "3. We know each page's URL.  A URL may tell us something about its geography and therefore its rough time zone.  For example, the top-level domains `.edu`, `.com`,`.gov`, and `.net` include only US sites."
   ]
  },
  {
   "cell_type": "markdown",
   "metadata": {
    "deletable": true,
    "editable": true
   },
   "source": [
    "---\n",
    "\n",
    "## Question 22\n",
    "Propose a ***plan*** to answer one of these questions:\n",
    "\n",
    "1. How much did the rate of changes vary by hour of the day?\n",
    "2. How much did the rate of changes vary by day of the week?\n",
    "\n",
    "**Or,** you may choose your own pattern to test.\n",
    "\n",
    "Your plan doesn't need to produce results that hold for *all* pages, only a reasonably-large subset.  Be sure to make clear exactly what question your analysis would answer.\n",
    "\n",
    "**Note**: You don't need to actually implement your plan!"
   ]
  },
  {
   "cell_type": "code",
   "execution_count": 80,
   "metadata": {
    "collapsed": false,
    "deletable": true,
    "editable": true,
    "for_assignment_type": "student"
   },
   "outputs": [
    {
     "data": {
      "text/markdown": [
       "\n",
       "\n",
       "To determine how the rate of changes by day of the week, we can add a new column to our original crawls table indicating which day of the week that the crawl took place. Then, we can aggregrate the number of updates and number of crawls for each url for every day of the week, and plot the results on a bar graph, with day of week on the x-axis and number of updates on the y.\n",
       "\n"
      ],
      "text/plain": [
       "<IPython.core.display.Markdown object>"
      ]
     },
     "metadata": {},
     "output_type": "display_data"
    }
   ],
   "source": [
    "# Feel free to use this cell to experiment.  Then write your answer\n",
    "# in the string below.\n",
    "q22_answer = r\"\"\"\n",
    "\n",
    "To determine how the rate of changes by day of the week, we can add a new column to our original crawls table indicating which day of the week that the crawl took place. Then, we can aggregrate the number of updates and number of crawls for each url for every day of the week, and plot the results on a bar graph, with day of week on the x-axis and number of updates on the y.\n",
    "\n",
    "\"\"\"\n",
    "\n",
    "display(Markdown(q22_answer))"
   ]
  },
  {
   "cell_type": "markdown",
   "metadata": {
    "deletable": true,
    "editable": true
   },
   "source": [
    "# Submitting your assignment\n",
    "Congratulations, you're done with this homework!\n",
    "\n",
    "Run the next cell to run all the tests at once."
   ]
  },
  {
   "cell_type": "code",
   "execution_count": 114,
   "metadata": {
    "collapsed": false,
    "deletable": true,
    "editable": true
   },
   "outputs": [
    {
     "name": "stdout",
     "output_type": "stream",
     "text": [
      "~~~~~~~~~~~~~~~~~~~~~~~~~~~~~~~~~~~~~~~~~~~~~~~~~~~~~~~~~~~~~~~~~~~~~\n",
      "Running tests\n",
      "\n",
      "---------------------------------------------------------------------\n",
      "Test summary\n",
      "    Passed: 1\n",
      "    Failed: 0\n",
      "[ooooooooook] 100.0% passed\n",
      "\n",
      "~~~~~~~~~~~~~~~~~~~~~~~~~~~~~~~~~~~~~~~~~~~~~~~~~~~~~~~~~~~~~~~~~~~~~\n",
      "Running tests\n",
      "\n",
      "---------------------------------------------------------------------\n",
      "Test summary\n",
      "    Passed: 1\n",
      "    Failed: 0\n",
      "[ooooooooook] 100.0% passed\n",
      "\n",
      "~~~~~~~~~~~~~~~~~~~~~~~~~~~~~~~~~~~~~~~~~~~~~~~~~~~~~~~~~~~~~~~~~~~~~\n",
      "Running tests\n",
      "\n",
      "---------------------------------------------------------------------\n",
      "Test summary\n",
      "    Passed: 1\n",
      "    Failed: 0\n",
      "[ooooooooook] 100.0% passed\n",
      "\n",
      "~~~~~~~~~~~~~~~~~~~~~~~~~~~~~~~~~~~~~~~~~~~~~~~~~~~~~~~~~~~~~~~~~~~~~\n",
      "Running tests\n",
      "\n",
      "---------------------------------------------------------------------\n",
      "Test summary\n",
      "    Passed: 1\n",
      "    Failed: 0\n",
      "[ooooooooook] 100.0% passed\n",
      "\n",
      "~~~~~~~~~~~~~~~~~~~~~~~~~~~~~~~~~~~~~~~~~~~~~~~~~~~~~~~~~~~~~~~~~~~~~\n",
      "Running tests\n",
      "\n",
      "---------------------------------------------------------------------\n",
      "Test summary\n",
      "    Passed: 2\n",
      "    Failed: 0\n",
      "[ooooooooook] 100.0% passed\n",
      "\n",
      "~~~~~~~~~~~~~~~~~~~~~~~~~~~~~~~~~~~~~~~~~~~~~~~~~~~~~~~~~~~~~~~~~~~~~\n",
      "Running tests\n",
      "\n",
      "---------------------------------------------------------------------\n",
      "Test summary\n",
      "    Passed: 1\n",
      "    Failed: 0\n",
      "[ooooooooook] 100.0% passed\n",
      "\n",
      "~~~~~~~~~~~~~~~~~~~~~~~~~~~~~~~~~~~~~~~~~~~~~~~~~~~~~~~~~~~~~~~~~~~~~\n",
      "Running tests\n",
      "\n",
      "---------------------------------------------------------------------\n",
      "Test summary\n",
      "    Passed: 1\n",
      "    Failed: 0\n",
      "[ooooooooook] 100.0% passed\n",
      "\n",
      "~~~~~~~~~~~~~~~~~~~~~~~~~~~~~~~~~~~~~~~~~~~~~~~~~~~~~~~~~~~~~~~~~~~~~\n",
      "Running tests\n",
      "\n",
      "---------------------------------------------------------------------\n",
      "Test summary\n",
      "    Passed: 1\n",
      "    Failed: 0\n",
      "[ooooooooook] 100.0% passed\n",
      "\n",
      "~~~~~~~~~~~~~~~~~~~~~~~~~~~~~~~~~~~~~~~~~~~~~~~~~~~~~~~~~~~~~~~~~~~~~\n",
      "Running tests\n",
      "\n",
      "---------------------------------------------------------------------\n",
      "Test summary\n",
      "    Passed: 1\n",
      "    Failed: 0\n",
      "[ooooooooook] 100.0% passed\n",
      "\n",
      "~~~~~~~~~~~~~~~~~~~~~~~~~~~~~~~~~~~~~~~~~~~~~~~~~~~~~~~~~~~~~~~~~~~~~\n",
      "Running tests\n",
      "\n",
      "---------------------------------------------------------------------\n",
      "Test summary\n",
      "    Passed: 1\n",
      "    Failed: 0\n",
      "[ooooooooook] 100.0% passed\n",
      "\n"
     ]
    }
   ],
   "source": [
    "_ = ok.grade_all()"
   ]
  },
  {
   "cell_type": "markdown",
   "metadata": {
    "deletable": true,
    "editable": true
   },
   "source": [
    "**Finally**, run the next cell to submit the assignment to OkPy so that the staff will know to grade it. You can submit as many times as you want, and you can choose which submission you want us to grade by going to https://okpy.org/cal/data100/sp17/.  After you've done that, make sure you've pushed your changes to Github as well!"
   ]
  },
  {
   "cell_type": "code",
   "execution_count": null,
   "metadata": {
    "collapsed": false,
    "deletable": true,
    "editable": true
   },
   "outputs": [
    {
     "data": {
      "application/javascript": [
       "IPython.notebook.save_checkpoint();"
      ],
      "text/plain": [
       "<IPython.core.display.Javascript object>"
      ]
     },
     "metadata": {},
     "output_type": "display_data"
    },
    {
     "data": {
      "application/javascript": [
       "IPython.notebook.save_notebook();"
      ],
      "text/plain": [
       "<IPython.core.display.Javascript object>"
      ]
     },
     "metadata": {},
     "output_type": "display_data"
    }
   ],
   "source": [
    "_ = ok.submit()"
   ]
  },
  {
   "cell_type": "code",
   "execution_count": null,
   "metadata": {
    "collapsed": true
   },
   "outputs": [],
   "source": []
  }
 ],
 "metadata": {
  "anaconda-cloud": {},
  "kernelspec": {
   "display_name": "Python 3",
   "language": "python",
   "name": "python3"
  },
  "language_info": {
   "codemirror_mode": {
    "name": "ipython",
    "version": 3
   },
   "file_extension": ".py",
   "mimetype": "text/x-python",
   "name": "python",
   "nbconvert_exporter": "python",
   "pygments_lexer": "ipython3",
   "version": "3.5.2"
  }
 },
 "nbformat": 4,
 "nbformat_minor": 1
}
